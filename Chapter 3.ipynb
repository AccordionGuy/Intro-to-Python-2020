{
 "cells": [
  {
   "cell_type": "markdown",
   "metadata": {},
   "source": [
    "# Chapter 3: Introducing Lists\n"
   ]
  },
  {
   "cell_type": "markdown",
   "metadata": {},
   "source": [
    "## Defining a list\n",
    "A list is a collection of elements in a specific order. We'll define a list named `flavors`, which contains the following strings in the given order:\n",
    "\n",
    "1. vanilla\n",
    "2. chocolate\n",
    "3. strawberry\n",
    "4. jamoca\n",
    "5. rum raisin "
   ]
  },
  {
   "cell_type": "code",
   "execution_count": 45,
   "metadata": {},
   "outputs": [
    {
     "name": "stdout",
     "output_type": "stream",
     "text": [
      "['vanilla', 'chocolate', 'strawberry', 'jamoca', 'rum raisin']\n"
     ]
    }
   ],
   "source": [
    "flavors = ['vanilla', 'chocolate', 'strawberry', 'jamoca', 'rum raisin']\n",
    "print(flavors)"
   ]
  },
  {
   "cell_type": "markdown",
   "metadata": {},
   "source": [
    "## Accessing elements in a list\n",
    "To access a specific element of a list, use the name of the list followed by the element's index (a number indicating its position in the list) in square brackets."
   ]
  },
  {
   "cell_type": "code",
   "execution_count": 46,
   "metadata": {},
   "outputs": [
    {
     "name": "stdout",
     "output_type": "stream",
     "text": [
      "vanilla\n",
      "chocolate\n"
     ]
    }
   ],
   "source": [
    "print(flavors[0]) # The index of the first element in a list is 0, not 1.\n",
    "print(flavors[1]) # flavors[1] is the *second* element in the list."
   ]
  },
  {
   "cell_type": "markdown",
   "metadata": {},
   "source": [
    "## Accessing list elements with negative indexes\n",
    "Use negative indexes if you want to access elements starting with the last element of the list. "
   ]
  },
  {
   "cell_type": "code",
   "execution_count": 47,
   "metadata": {},
   "outputs": [
    {
     "name": "stdout",
     "output_type": "stream",
     "text": [
      "rum raisin\n",
      "jamoca\n"
     ]
    }
   ],
   "source": [
    "print(flavors[-1]) # An index of -1 specifies the last element of a list.\n",
    "print(flavors[-2]) # An index of -2 specifies the second last element of a list."
   ]
  },
  {
   "cell_type": "markdown",
   "metadata": {},
   "source": [
    "## Using individual values from a list"
   ]
  },
  {
   "cell_type": "code",
   "execution_count": 48,
   "metadata": {},
   "outputs": [
    {
     "name": "stdout",
     "output_type": "stream",
     "text": [
      "My favorite flavor is chocolate.\n"
     ]
    }
   ],
   "source": [
    "message = f\"My favorite flavor is {flavors[1]}.\"\n",
    "print(message) # Outputs \"My favorite flavor is chocolate.\""
   ]
  },
  {
   "cell_type": "markdown",
   "metadata": {},
   "source": [
    "## Modifying elements in a list"
   ]
  },
  {
   "cell_type": "code",
   "execution_count": 49,
   "metadata": {},
   "outputs": [
    {
     "name": "stdout",
     "output_type": "stream",
     "text": [
      "['vanilla', 'mint chocolate chip', 'strawberry', 'jamoca', 'rum raisin']\n"
     ]
    }
   ],
   "source": [
    "flavors[1] = 'mint chocolate chip' # Changes the flavor at index 1 from chocolate\n",
    "                                   # to mint chocolate chip. \n",
    "print(flavors)"
   ]
  },
  {
   "cell_type": "markdown",
   "metadata": {},
   "source": [
    "## Adding elements to the end of a list\n",
    "Use the `append()` method to add an element to the end of a list."
   ]
  },
  {
   "cell_type": "code",
   "execution_count": 50,
   "metadata": {},
   "outputs": [
    {
     "name": "stdout",
     "output_type": "stream",
     "text": [
      "['vanilla', 'mint chocolate chip', 'strawberry', 'jamoca', 'rum raisin', 'pistachio']\n"
     ]
    }
   ],
   "source": [
    "flavors.append('pistachio') # Adds a new flavor, pistachio, to the end of the list.\n",
    "print(flavors)"
   ]
  },
  {
   "cell_type": "markdown",
   "metadata": {},
   "source": [
    "## Adding elements to a specified position in the list\n",
    "Use the `insert()` method to add an element to a specified position in a list."
   ]
  },
  {
   "cell_type": "code",
   "execution_count": 51,
   "metadata": {},
   "outputs": [
    {
     "name": "stdout",
     "output_type": "stream",
     "text": [
      "Before adding quarterback crunch to position 0:\n",
      "['vanilla', 'mint chocolate chip', 'strawberry', 'jamoca', 'rum raisin', 'pistachio']\n",
      "After adding quarterback crunch to position 0:\n",
      "['quarterback crunch', 'vanilla', 'mint chocolate chip', 'strawberry', 'jamoca', 'rum raisin', 'pistachio']\n",
      "---\n",
      "Before adding pralines and cream to position 2:\n",
      "['quarterback crunch', 'vanilla', 'mint chocolate chip', 'strawberry', 'jamoca', 'rum raisin', 'pistachio']\n",
      "After adding pralines and cream to position 2:\n",
      "['quarterback crunch', 'vanilla', 'pralines and cream', 'mint chocolate chip', 'strawberry', 'jamoca', 'rum raisin', 'pistachio']\n"
     ]
    }
   ],
   "source": [
    "print(f\"Before adding quarterback crunch to position 0:\\n{flavors}\")\n",
    "flavors.insert(0, 'quarterback crunch')\n",
    "print(f\"After adding quarterback crunch to position 0:\\n{flavors}\")\n",
    "print('---')\n",
    "print(f\"Before adding pralines and cream to position 2:\\n{flavors}\")\n",
    "flavors.insert(2, 'pralines and cream')\n",
    "print(f\"After adding pralines and cream to position 2:\\n{flavors}\")"
   ]
  },
  {
   "cell_type": "markdown",
   "metadata": {},
   "source": [
    "## Deleting an element from a specified position in the list\n",
    "Use the `del` statement to remove an element from a specified position in a list."
   ]
  },
  {
   "cell_type": "code",
   "execution_count": 52,
   "metadata": {},
   "outputs": [
    {
     "name": "stdout",
     "output_type": "stream",
     "text": [
      "Before deleting the element at position 1:\n",
      "['quarterback crunch', 'vanilla', 'pralines and cream', 'mint chocolate chip', 'strawberry', 'jamoca', 'rum raisin', 'pistachio']\n",
      "After deleting the element at position 1:\n",
      "['quarterback crunch', 'pralines and cream', 'mint chocolate chip', 'strawberry', 'jamoca', 'rum raisin', 'pistachio']\n",
      "---\n",
      "Before deleting the element at position 3:\n",
      "['quarterback crunch', 'pralines and cream', 'mint chocolate chip', 'strawberry', 'jamoca', 'rum raisin', 'pistachio']\n",
      "After deleting the element at position 3:\n",
      "['quarterback crunch', 'pralines and cream', 'mint chocolate chip', 'jamoca', 'rum raisin', 'pistachio']\n"
     ]
    }
   ],
   "source": [
    "print(f\"Before deleting the element at position 1:\\n{flavors}\")\n",
    "del flavors[1]\n",
    "print(f\"After deleting the element at position 1:\\n{flavors}\")\n",
    "print('---')\n",
    "print(f\"Before deleting the element at position 3:\\n{flavors}\")\n",
    "del flavors[3]\n",
    "print(f\"After deleting the element at position 3:\\n{flavors}\")"
   ]
  },
  {
   "cell_type": "markdown",
   "metadata": {},
   "source": [
    "## Simultaneously accessing and deleting an element from a specified position in a list\n",
    "Use the `pop()` method to remove and capture an element from a specified position in a list.\n"
   ]
  },
  {
   "cell_type": "code",
   "execution_count": 53,
   "metadata": {},
   "outputs": [
    {
     "name": "stdout",
     "output_type": "stream",
     "text": [
      "Before popping the element at position 3:\n",
      "['quarterback crunch', 'pralines and cream', 'mint chocolate chip', 'jamoca', 'rum raisin', 'pistachio']\n",
      "Removed this flavor: jamoca\n",
      "After popping the element at position 3:\n",
      "['quarterback crunch', 'pralines and cream', 'mint chocolate chip', 'rum raisin', 'pistachio']\n"
     ]
    }
   ],
   "source": [
    "print(f\"Before popping the element at position 3:\\n{flavors}\")\n",
    "removed_flavor = flavors.pop(3)\n",
    "print(f\"Removed this flavor: {removed_flavor}\")\n",
    "print(f\"After popping the element at position 3:\\n{flavors}\")"
   ]
  },
  {
   "cell_type": "markdown",
   "metadata": {},
   "source": [
    "## Removing an item from a list by value\n",
    "Use the `remove()` method to specify the value of the item you want to remove."
   ]
  },
  {
   "cell_type": "code",
   "execution_count": 54,
   "metadata": {},
   "outputs": [
    {
     "name": "stdout",
     "output_type": "stream",
     "text": [
      "Before removing pistachio from the list:\n",
      "['quarterback crunch', 'pralines and cream', 'mint chocolate chip', 'rum raisin', 'pistachio']\n",
      "After removing pistachio from the list:\n",
      "['quarterback crunch', 'pralines and cream', 'mint chocolate chip', 'rum raisin']\n"
     ]
    }
   ],
   "source": [
    "print(f\"Before removing pistachio from the list:\\n{flavors}\")\n",
    "flavors.remove('pistachio')\n",
    "print(f\"After removing pistachio from the list:\\n{flavors}\")"
   ]
  },
  {
   "cell_type": "markdown",
   "metadata": {},
   "source": [
    "`remove()` removes only the *first* occurrence of an item from a list."
   ]
  },
  {
   "cell_type": "code",
   "execution_count": 55,
   "metadata": {},
   "outputs": [
    {
     "name": "stdout",
     "output_type": "stream",
     "text": [
      "Before removing rum raisin from the list:\n",
      "['quarterback crunch', 'pralines and cream', 'mint chocolate chip', 'rum raisin', 'rum raisin']\n",
      "After removing rum raisin from the list:\n",
      "['quarterback crunch', 'pralines and cream', 'mint chocolate chip', 'rum raisin']\n"
     ]
    }
   ],
   "source": [
    "flavors.append('rum raisin') # Now there will be 2 rum raisins in the list.\n",
    "print(f\"Before removing rum raisin from the list:\\n{flavors}\")\n",
    "flavors.remove('rum raisin')\n",
    "print(f\"After removing rum raisin from the list:\\n{flavors}\")"
   ]
  },
  {
   "cell_type": "markdown",
   "metadata": {},
   "source": [
    "## Removing an item from a list by index\n",
    "Use the `del` statement to remove a specific list element using its index."
   ]
  },
  {
   "cell_type": "code",
   "execution_count": 56,
   "metadata": {},
   "outputs": [
    {
     "name": "stdout",
     "output_type": "stream",
     "text": [
      "Before removing the element with index 2 from the list:\n",
      "['quarterback crunch', 'pralines and cream', 'mint chocolate chip', 'rum raisin']\n",
      "After removing the element with index 2 from the list:\n",
      "['quarterback crunch', 'pralines and cream', 'rum raisin']\n"
     ]
    }
   ],
   "source": [
    "print(f\"Before removing the element with index 2 from the list:\\n{flavors}\")\n",
    "del flavors[2]\n",
    "print(f\"After removing the element with index 2 from the list:\\n{flavors}\")"
   ]
  },
  {
   "cell_type": "markdown",
   "metadata": {},
   "source": [
    "## Sorting the contents of a list\n",
    "First, let's add a few flavors to the list:"
   ]
  },
  {
   "cell_type": "code",
   "execution_count": 57,
   "metadata": {},
   "outputs": [],
   "source": [
    "flavors.append('lemon sherbet')\n",
    "flavors.append('green tea')\n",
    "flavors.append('cookie dough')\n",
    "flavors.append('bubble gum')\n",
    "flavors.append('acai')"
   ]
  },
  {
   "cell_type": "markdown",
   "metadata": {},
   "source": [
    "Use the `sort()` method to sort the elements in a list."
   ]
  },
  {
   "cell_type": "code",
   "execution_count": 58,
   "metadata": {},
   "outputs": [
    {
     "name": "stdout",
     "output_type": "stream",
     "text": [
      "Before sorting the list:\n",
      "['quarterback crunch', 'pralines and cream', 'rum raisin', 'lemon sherbet', 'green tea', 'cookie dough', 'bubble gum', 'acai']\n",
      "After sorting the list:\n",
      "['acai', 'bubble gum', 'cookie dough', 'green tea', 'lemon sherbet', 'pralines and cream', 'quarterback crunch', 'rum raisin']\n"
     ]
    }
   ],
   "source": [
    "print(f\"Before sorting the list:\\n{flavors}\")\n",
    "flavors.sort()\n",
    "print(f\"After sorting the list:\\n{flavors}\")"
   ]
  },
  {
   "cell_type": "markdown",
   "metadata": {},
   "source": [
    "## Create a sorted copy of a list\n",
    "Use the `sorted()` function to create a sorted copy of a list."
   ]
  },
  {
   "cell_type": "code",
   "execution_count": 59,
   "metadata": {},
   "outputs": [
    {
     "name": "stdout",
     "output_type": "stream",
     "text": [
      "The unsorted flavors:\n",
      "['quarterback crunch', 'pralines and cream', 'mint chocolate chip', 'rum raisin', 'lemon sherbet', 'green tea', 'cookie dough', 'bubble gum', 'acai']\n",
      "Here are the flavors, now sorted:\n",
      "['acai', 'bubble gum', 'cookie dough', 'green tea', 'lemon sherbet', 'mint chocolate chip', 'pralines and cream', 'quarterback crunch', 'rum raisin']\n",
      "And here are the flavors in their original unsorted order:\n",
      "['quarterback crunch', 'pralines and cream', 'mint chocolate chip', 'rum raisin', 'lemon sherbet', 'green tea', 'cookie dough', 'bubble gum', 'acai']\n"
     ]
    }
   ],
   "source": [
    "unsorted_flavors = ['quarterback crunch', 'pralines and cream', 'mint chocolate chip', 'rum raisin', 'lemon sherbet', 'green tea', 'cookie dough', 'bubble gum', 'acai']\n",
    "print(f\"The unsorted flavors:\\n{unsorted_flavors}\")\n",
    "sorted_flavors = sorted(unsorted_flavors)\n",
    "print(f\"Here are the flavors, now sorted:\\n{sorted_flavors}\")\n",
    "print(f\"And here are the flavors in their original unsorted order:\\n{unsorted_flavors}\")"
   ]
  },
  {
   "cell_type": "markdown",
   "metadata": {},
   "source": [
    "## Reversing the order of a list\n",
    "Use the `reverse()` method to reverse the order of a list."
   ]
  },
  {
   "cell_type": "code",
   "execution_count": 60,
   "metadata": {},
   "outputs": [
    {
     "name": "stdout",
     "output_type": "stream",
     "text": [
      "The flavors, in reverse order:\n",
      "['rum raisin', 'quarterback crunch', 'pralines and cream', 'lemon sherbet', 'green tea', 'cookie dough', 'bubble gum', 'acai']\n"
     ]
    }
   ],
   "source": [
    "flavors.reverse()\n",
    "print(f\"The flavors, in reverse order:\\n{flavors}\")"
   ]
  },
  {
   "cell_type": "markdown",
   "metadata": {},
   "source": [
    "**Did you notice...?** Prior to reversing the list, we sorted it. The end result is a list in reverse alphabetical order."
   ]
  },
  {
   "cell_type": "markdown",
   "metadata": {},
   "source": [
    "# Beyond the book: Additional list features\n",
    "Let's redefine the list of flavors:"
   ]
  },
  {
   "cell_type": "code",
   "execution_count": 61,
   "metadata": {},
   "outputs": [],
   "source": [
    "# Note that green tea appears twice in the list. This is intentional.\n",
    "flavors = ['acai', 'bubble gum', 'cookie dough', 'green tea', 'green tea', 'lemon sherbet']"
   ]
  },
  {
   "cell_type": "markdown",
   "metadata": {},
   "source": [
    "## How many elements in a list?\n",
    "Use the `len` statement to get the number of items in a list."
   ]
  },
  {
   "cell_type": "code",
   "execution_count": 62,
   "metadata": {
    "scrolled": false
   },
   "outputs": [
    {
     "name": "stdout",
     "output_type": "stream",
     "text": [
      "There are 6 flavors in the list.\n"
     ]
    }
   ],
   "source": [
    "print(f\"There are {len(flavors)} flavors in the list.\")"
   ]
  },
  {
   "cell_type": "markdown",
   "metadata": {},
   "source": [
    "## Is something in the list?\n",
    "Use the `in` operator to see if an element is in a list."
   ]
  },
  {
   "cell_type": "code",
   "execution_count": 63,
   "metadata": {},
   "outputs": [
    {
     "name": "stdout",
     "output_type": "stream",
     "text": [
      "Is green tea in the list of flavors?: True\n",
      "Is cappucino in the list of flavors?: False\n"
     ]
    }
   ],
   "source": [
    "print(f\"Is green tea in the list of flavors?: {'green tea' in flavors}\")\n",
    "print(f\"Is cappucino in the list of flavors?: {'cappucino' in flavors}\")"
   ]
  },
  {
   "cell_type": "markdown",
   "metadata": {},
   "source": [
    "## Finding the index of an element in a list\n",
    "Use the `index()` method to get the index of the first occurrence an element in a list."
   ]
  },
  {
   "cell_type": "code",
   "execution_count": 64,
   "metadata": {},
   "outputs": [
    {
     "name": "stdout",
     "output_type": "stream",
     "text": [
      "The index of green tea in the list of flavors is 3.\n"
     ]
    }
   ],
   "source": [
    "print(f\"The index of green tea in the list of flavors is {flavors.index('green tea')}.\")"
   ]
  },
  {
   "cell_type": "markdown",
   "metadata": {},
   "source": [
    "What happens if you give index an element that *isn't* in the list?"
   ]
  },
  {
   "cell_type": "code",
   "execution_count": 65,
   "metadata": {},
   "outputs": [],
   "source": [
    "# Uncomment the line below and run this notebook -- IF YOU DARE!\n",
    "# print(f\"The index of broccoli in the list of flavors is {flavors.index('broccoli')}.\")"
   ]
  },
  {
   "cell_type": "markdown",
   "metadata": {},
   "source": [
    "## Finding the number of times an element occurs in a list\n",
    "Use the `count()` method to get the number of times an element appears in a list. If an item *doesn't* appear in the list, `count()` returns 0."
   ]
  },
  {
   "cell_type": "code",
   "execution_count": 66,
   "metadata": {},
   "outputs": [
    {
     "name": "stdout",
     "output_type": "stream",
     "text": [
      "Green tea appears 2 times in the list of flavors.\n",
      "Cappucino appears 0 times in the list of flavors.\n"
     ]
    }
   ],
   "source": [
    "print(f\"Green tea appears {flavors.count('green tea')} times in the list of flavors.\")\n",
    "print(f\"Cappucino appears {flavors.count('cappucino')} times in the list of flavors.\")"
   ]
  },
  {
   "cell_type": "code",
   "execution_count": null,
   "metadata": {},
   "outputs": [],
   "source": []
  }
 ],
 "metadata": {
  "celltoolbar": "Raw Cell Format",
  "kernelspec": {
   "display_name": "Python 3",
   "language": "python",
   "name": "python3"
  },
  "language_info": {
   "codemirror_mode": {
    "name": "ipython",
    "version": 3
   },
   "file_extension": ".py",
   "mimetype": "text/x-python",
   "name": "python",
   "nbconvert_exporter": "python",
   "pygments_lexer": "ipython3",
   "version": "3.7.6"
  }
 },
 "nbformat": 4,
 "nbformat_minor": 4
}
