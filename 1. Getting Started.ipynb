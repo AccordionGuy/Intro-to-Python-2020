{
 "cells": [
  {
   "cell_type": "markdown",
   "metadata": {},
   "source": [
    "# 1. Getting Started\n",
    "\n",
    "## Getting set up for this course\n",
    "\n",
    "### Installing Python with Anaconda Individual Edition\n",
    "This course uses the version of Python that is current at the time. Right now, that's Python 3.7.6. In order to ensure that we're all on the same page, we should all use this version of Python. To make life easier, we'll all install Python 3.7.6 on our computers using [Anaconda Individual Edition](https://www.anaconda.com/products/individual), a software package that bundles Python with a lot of useful data science utilities, including Jupyter Notebooks, which we'll use in this course.\n",
    "\n",
    "To install Anaconda Individual Edition, navigate to [the Downloads section of the Anaconda Individual Edition page,](https://www.anaconda.com/products/individual#Downloads) and choose the Python 3.7 installer (*not* the Python 2.7 installer) for your operating system. Run the installer and follow the instructions it displays.\n",
    "\n",
    "Once you've run the installer and it's finished doing its job, confirm that Python was installed by opening a terminal (on macOS and Linux) or opening Command Line (on Windows) and entering the following:\n",
    "\n",
    "`python --version`\n",
    "\n",
    "Your computer should provide a response that says that you're running Python 3.7.6.\n",
    "\n",
    "\n",
    "### Installing Visual Studio Code\n",
    "\n",
    "\n",
    "### Get the textbook for the course: *Python Crash Course, 2nd Edition* by Eric Matthes\n",
    "The textbook for this course will be *Python Crash Course, 2nd Edition*, written by Eric Matthes and published by No Starch Press. \n",
    "\n",
    "It's one of the better beginner books currently available, and it's divided into two parts. The first half introduces you the basics of the Python language, and the second half gives you a chance to apply what you learned in the first half by walking you through projects in which you build full applications in Python.\n",
    "\n",
    "You can purchase the electronic version of the book from the following places:\n",
    "\n",
    "* [Directly from the publisher, No Starch Press](https://nostarch.com/pythoncrashcourse2e) for \\$31.95, which gives you the book in PDF, Mobi, and ePub formats.\n",
    "* [From Amazon](https://www.amazon.com/Python-Crash-Course-2nd-Edition/dp/1593279280) for \\$23.99, which gives you the book in Kindle format.\n",
    "\n",
    "\n",
    "\n"
   ]
  },
  {
   "cell_type": "code",
   "execution_count": null,
   "metadata": {},
   "outputs": [],
   "source": []
  }
 ],
 "metadata": {
  "kernelspec": {
   "display_name": "Python 3",
   "language": "python",
   "name": "python3"
  },
  "language_info": {
   "codemirror_mode": {
    "name": "ipython",
    "version": 3
   },
   "file_extension": ".py",
   "mimetype": "text/x-python",
   "name": "python",
   "nbconvert_exporter": "python",
   "pygments_lexer": "ipython3",
   "version": "3.7.6"
  }
 },
 "nbformat": 4,
 "nbformat_minor": 4
}
