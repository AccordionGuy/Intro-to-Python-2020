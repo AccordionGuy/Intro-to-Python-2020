{
 "cells": [
  {
   "cell_type": "markdown",
   "metadata": {},
   "source": [
    "# Welcome to day 3!\n",
    "## First, some review"
   ]
  },
  {
   "cell_type": "code",
   "execution_count": 1,
   "metadata": {},
   "outputs": [
    {
     "name": "stdout",
     "output_type": "stream",
     "text": [
      "You're in the loop!\n",
      "Count’s value is now 0.\n",
      "Enter 'quit' to exit the loop,\n",
      "enter 'back' to go back to the start of the loop right now.\n",
      "quit\n",
      "You have exited the loop.\n"
     ]
    }
   ],
   "source": [
    "count = 0\n",
    "while count < 5:\n",
    "    print(\"You're in the loop!\")\n",
    "    print(f\"Count’s value is now {count}.\")\n",
    "    print(\"Enter 'quit' to exit the loop,\")\n",
    "    print(\"enter 'back' to go back to the start of the loop right now.\")\n",
    "    user_input = input()\n",
    "    \n",
    "    if user_input == \"quit\":\n",
    "        break\n",
    "    elif user_input == \"back\":\n",
    "        continue\n",
    "        \n",
    "    count += 1\n",
    "    \n",
    "print(\"You have exited the loop.\")"
   ]
  },
  {
   "cell_type": "code",
   "execution_count": 2,
   "metadata": {},
   "outputs": [
    {
     "name": "stdout",
     "output_type": "stream",
     "text": [
      "You're in the loop!\n",
      "Count’s value is now 0.\n",
      "Enter 'quit' to exit the loop,\n",
      "enter 'back' to go back to the start of the loop right now,\n",
      "or just hit 'Enter' to proceed to the rest of the loop.\n",
      "quit\n",
      "You have exited the loop.\n"
     ]
    }
   ],
   "source": [
    "for count in [0, 1, 2, 3, 4]:\n",
    "    print(\"You're in the loop!\")\n",
    "    print(f\"Count’s value is now {count}.\")\n",
    "    print(\"Enter 'quit' to exit the loop,\")\n",
    "    print(\"enter 'back' to go back to the start of the loop right now,\")\n",
    "    print(\"or just hit 'Enter' to proceed to the rest of the loop.\")\n",
    "    user_input = input()\n",
    "    \n",
    "    if user_input == \"quit\":\n",
    "        break\n",
    "    elif user_input == \"back\":\n",
    "        continue\n",
    "        \n",
    "    print(\"Welcome to the rest of the loop.\")\n",
    "    count += 10\n",
    "    print(f\"Count's value is now {count}.\")\n",
    "    \n",
    "print(\"You have exited the loop.\")"
   ]
  },
  {
   "cell_type": "code",
   "execution_count": 3,
   "metadata": {},
   "outputs": [
    {
     "name": "stdout",
     "output_type": "stream",
     "text": [
      "[0, 1, 2, 3, 4]\n"
     ]
    }
   ],
   "source": [
    "print(list(range(0, 5)))"
   ]
  },
  {
   "cell_type": "code",
   "execution_count": 5,
   "metadata": {},
   "outputs": [
    {
     "name": "stdout",
     "output_type": "stream",
     "text": [
      "Let's go out for chocolate ice cream!\n",
      "Let's go out for vanilla ice cream!\n",
      "Let's go out for strawberry ice cream!\n"
     ]
    }
   ],
   "source": [
    "flavors = [\"chocolate\", \"vanilla\", \"strawberry\"]\n",
    "for flavor in flavors:\n",
    "    print(f\"Let's go out for {flavor} ice cream!\")"
   ]
  },
  {
   "cell_type": "code",
   "execution_count": 6,
   "metadata": {},
   "outputs": [
    {
     "name": "stdout",
     "output_type": "stream",
     "text": [
      "The current number is 0.\n",
      "The current number is 1.\n",
      "The current number is 2.\n",
      "The current number is 3.\n",
      "The current number is 4.\n",
      "The current number is 5.\n",
      "The current number is 6.\n",
      "The current number is 7.\n",
      "The current number is 8.\n",
      "The current number is 9.\n",
      "The current number is 10.\n"
     ]
    }
   ],
   "source": [
    "for current_number in range(0, 11):\n",
    "    print(f\"The current number is {current_number}.\")"
   ]
  },
  {
   "cell_type": "code",
   "execution_count": 8,
   "metadata": {},
   "outputs": [
    {
     "name": "stdout",
     "output_type": "stream",
     "text": [
      "The current number is 0.\n",
      "The current number is 5.\n",
      "The current number is 10.\n",
      "The current number is 15.\n",
      "The current number is 20.\n"
     ]
    }
   ],
   "source": [
    "for current_number in range(0, 21, 5):\n",
    "    print(f\"The current number is {current_number}.\")"
   ]
  },
  {
   "cell_type": "code",
   "execution_count": 9,
   "metadata": {},
   "outputs": [
    {
     "name": "stdout",
     "output_type": "stream",
     "text": [
      "The current number is 20.\n",
      "The current number is 19.\n",
      "The current number is 18.\n",
      "The current number is 17.\n",
      "The current number is 16.\n",
      "The current number is 15.\n",
      "The current number is 14.\n",
      "The current number is 13.\n",
      "The current number is 12.\n",
      "The current number is 11.\n",
      "The current number is 10.\n",
      "The current number is 9.\n",
      "The current number is 8.\n",
      "The current number is 7.\n",
      "The current number is 6.\n",
      "The current number is 5.\n",
      "The current number is 4.\n",
      "The current number is 3.\n",
      "The current number is 2.\n",
      "The current number is 1.\n",
      "The current number is 0.\n"
     ]
    }
   ],
   "source": [
    "for current_number in range(20, -1, -1):\n",
    "    print(f\"The current number is {current_number}.\")"
   ]
  },
  {
   "cell_type": "code",
   "execution_count": 11,
   "metadata": {},
   "outputs": [
    {
     "name": "stdout",
     "output_type": "stream",
     "text": [
      "99 bottles of beer on the wall\n",
      "99 bottles of beer\n",
      "If one of those bottles should happen to fall...\n",
      "98 bottles of beer on the wall\n",
      "\n",
      "98 bottles of beer on the wall\n",
      "98 bottles of beer\n",
      "If one of those bottles should happen to fall...\n",
      "97 bottles of beer on the wall\n",
      "\n",
      "97 bottles of beer on the wall\n",
      "97 bottles of beer\n",
      "If one of those bottles should happen to fall...\n",
      "96 bottles of beer on the wall\n",
      "\n",
      "96 bottles of beer on the wall\n",
      "96 bottles of beer\n",
      "If one of those bottles should happen to fall...\n",
      "95 bottles of beer on the wall\n",
      "\n",
      "95 bottles of beer on the wall\n",
      "95 bottles of beer\n",
      "If one of those bottles should happen to fall...\n",
      "94 bottles of beer on the wall\n",
      "\n",
      "94 bottles of beer on the wall\n",
      "94 bottles of beer\n",
      "If one of those bottles should happen to fall...\n",
      "93 bottles of beer on the wall\n",
      "\n",
      "93 bottles of beer on the wall\n",
      "93 bottles of beer\n",
      "If one of those bottles should happen to fall...\n",
      "92 bottles of beer on the wall\n",
      "\n",
      "92 bottles of beer on the wall\n",
      "92 bottles of beer\n",
      "If one of those bottles should happen to fall...\n",
      "91 bottles of beer on the wall\n",
      "\n",
      "91 bottles of beer on the wall\n",
      "91 bottles of beer\n",
      "If one of those bottles should happen to fall...\n",
      "90 bottles of beer on the wall\n",
      "\n",
      "90 bottles of beer on the wall\n",
      "90 bottles of beer\n",
      "If one of those bottles should happen to fall...\n",
      "89 bottles of beer on the wall\n",
      "\n",
      "89 bottles of beer on the wall\n",
      "89 bottles of beer\n",
      "If one of those bottles should happen to fall...\n",
      "88 bottles of beer on the wall\n",
      "\n",
      "88 bottles of beer on the wall\n",
      "88 bottles of beer\n",
      "If one of those bottles should happen to fall...\n",
      "87 bottles of beer on the wall\n",
      "\n",
      "87 bottles of beer on the wall\n",
      "87 bottles of beer\n",
      "If one of those bottles should happen to fall...\n",
      "86 bottles of beer on the wall\n",
      "\n",
      "86 bottles of beer on the wall\n",
      "86 bottles of beer\n",
      "If one of those bottles should happen to fall...\n",
      "85 bottles of beer on the wall\n",
      "\n",
      "85 bottles of beer on the wall\n",
      "85 bottles of beer\n",
      "If one of those bottles should happen to fall...\n",
      "84 bottles of beer on the wall\n",
      "\n",
      "84 bottles of beer on the wall\n",
      "84 bottles of beer\n",
      "If one of those bottles should happen to fall...\n",
      "83 bottles of beer on the wall\n",
      "\n",
      "83 bottles of beer on the wall\n",
      "83 bottles of beer\n",
      "If one of those bottles should happen to fall...\n",
      "82 bottles of beer on the wall\n",
      "\n",
      "82 bottles of beer on the wall\n",
      "82 bottles of beer\n",
      "If one of those bottles should happen to fall...\n",
      "81 bottles of beer on the wall\n",
      "\n",
      "81 bottles of beer on the wall\n",
      "81 bottles of beer\n",
      "If one of those bottles should happen to fall...\n",
      "80 bottles of beer on the wall\n",
      "\n",
      "80 bottles of beer on the wall\n",
      "80 bottles of beer\n",
      "If one of those bottles should happen to fall...\n",
      "79 bottles of beer on the wall\n",
      "\n",
      "79 bottles of beer on the wall\n",
      "79 bottles of beer\n",
      "If one of those bottles should happen to fall...\n",
      "78 bottles of beer on the wall\n",
      "\n",
      "78 bottles of beer on the wall\n",
      "78 bottles of beer\n",
      "If one of those bottles should happen to fall...\n",
      "77 bottles of beer on the wall\n",
      "\n",
      "77 bottles of beer on the wall\n",
      "77 bottles of beer\n",
      "If one of those bottles should happen to fall...\n",
      "76 bottles of beer on the wall\n",
      "\n",
      "76 bottles of beer on the wall\n",
      "76 bottles of beer\n",
      "If one of those bottles should happen to fall...\n",
      "75 bottles of beer on the wall\n",
      "\n",
      "75 bottles of beer on the wall\n",
      "75 bottles of beer\n",
      "If one of those bottles should happen to fall...\n",
      "74 bottles of beer on the wall\n",
      "\n",
      "74 bottles of beer on the wall\n",
      "74 bottles of beer\n",
      "If one of those bottles should happen to fall...\n",
      "73 bottles of beer on the wall\n",
      "\n",
      "73 bottles of beer on the wall\n",
      "73 bottles of beer\n",
      "If one of those bottles should happen to fall...\n",
      "72 bottles of beer on the wall\n",
      "\n",
      "72 bottles of beer on the wall\n",
      "72 bottles of beer\n",
      "If one of those bottles should happen to fall...\n",
      "71 bottles of beer on the wall\n",
      "\n",
      "71 bottles of beer on the wall\n",
      "71 bottles of beer\n",
      "If one of those bottles should happen to fall...\n",
      "70 bottles of beer on the wall\n",
      "\n",
      "70 bottles of beer on the wall\n",
      "70 bottles of beer\n",
      "If one of those bottles should happen to fall...\n",
      "69 bottles of beer on the wall\n",
      "\n",
      "69 bottles of beer on the wall\n",
      "69 bottles of beer\n",
      "If one of those bottles should happen to fall...\n",
      "68 bottles of beer on the wall\n",
      "\n",
      "68 bottles of beer on the wall\n",
      "68 bottles of beer\n",
      "If one of those bottles should happen to fall...\n",
      "67 bottles of beer on the wall\n",
      "\n",
      "67 bottles of beer on the wall\n",
      "67 bottles of beer\n",
      "If one of those bottles should happen to fall...\n",
      "66 bottles of beer on the wall\n",
      "\n",
      "66 bottles of beer on the wall\n",
      "66 bottles of beer\n",
      "If one of those bottles should happen to fall...\n",
      "65 bottles of beer on the wall\n",
      "\n",
      "65 bottles of beer on the wall\n",
      "65 bottles of beer\n",
      "If one of those bottles should happen to fall...\n",
      "64 bottles of beer on the wall\n",
      "\n",
      "64 bottles of beer on the wall\n",
      "64 bottles of beer\n",
      "If one of those bottles should happen to fall...\n",
      "63 bottles of beer on the wall\n",
      "\n",
      "63 bottles of beer on the wall\n",
      "63 bottles of beer\n",
      "If one of those bottles should happen to fall...\n",
      "62 bottles of beer on the wall\n",
      "\n",
      "62 bottles of beer on the wall\n",
      "62 bottles of beer\n",
      "If one of those bottles should happen to fall...\n",
      "61 bottles of beer on the wall\n",
      "\n",
      "61 bottles of beer on the wall\n",
      "61 bottles of beer\n",
      "If one of those bottles should happen to fall...\n",
      "60 bottles of beer on the wall\n",
      "\n",
      "60 bottles of beer on the wall\n",
      "60 bottles of beer\n",
      "If one of those bottles should happen to fall...\n",
      "59 bottles of beer on the wall\n",
      "\n",
      "59 bottles of beer on the wall\n",
      "59 bottles of beer\n",
      "If one of those bottles should happen to fall...\n",
      "58 bottles of beer on the wall\n",
      "\n",
      "58 bottles of beer on the wall\n",
      "58 bottles of beer\n",
      "If one of those bottles should happen to fall...\n",
      "57 bottles of beer on the wall\n",
      "\n",
      "57 bottles of beer on the wall\n",
      "57 bottles of beer\n",
      "If one of those bottles should happen to fall...\n",
      "56 bottles of beer on the wall\n",
      "\n",
      "56 bottles of beer on the wall\n",
      "56 bottles of beer\n",
      "If one of those bottles should happen to fall...\n",
      "55 bottles of beer on the wall\n",
      "\n",
      "55 bottles of beer on the wall\n",
      "55 bottles of beer\n",
      "If one of those bottles should happen to fall...\n",
      "54 bottles of beer on the wall\n",
      "\n",
      "54 bottles of beer on the wall\n",
      "54 bottles of beer\n",
      "If one of those bottles should happen to fall...\n",
      "53 bottles of beer on the wall\n",
      "\n",
      "53 bottles of beer on the wall\n",
      "53 bottles of beer\n",
      "If one of those bottles should happen to fall...\n",
      "52 bottles of beer on the wall\n",
      "\n",
      "52 bottles of beer on the wall\n",
      "52 bottles of beer\n",
      "If one of those bottles should happen to fall...\n",
      "51 bottles of beer on the wall\n",
      "\n",
      "51 bottles of beer on the wall\n",
      "51 bottles of beer\n",
      "If one of those bottles should happen to fall...\n",
      "50 bottles of beer on the wall\n",
      "\n",
      "50 bottles of beer on the wall\n",
      "50 bottles of beer\n",
      "If one of those bottles should happen to fall...\n",
      "49 bottles of beer on the wall\n",
      "\n",
      "49 bottles of beer on the wall\n",
      "49 bottles of beer\n",
      "If one of those bottles should happen to fall...\n",
      "48 bottles of beer on the wall\n",
      "\n",
      "48 bottles of beer on the wall\n",
      "48 bottles of beer\n",
      "If one of those bottles should happen to fall...\n",
      "47 bottles of beer on the wall\n",
      "\n",
      "47 bottles of beer on the wall\n",
      "47 bottles of beer\n",
      "If one of those bottles should happen to fall...\n",
      "46 bottles of beer on the wall\n",
      "\n",
      "46 bottles of beer on the wall\n",
      "46 bottles of beer\n",
      "If one of those bottles should happen to fall...\n",
      "45 bottles of beer on the wall\n",
      "\n",
      "45 bottles of beer on the wall\n",
      "45 bottles of beer\n",
      "If one of those bottles should happen to fall...\n",
      "44 bottles of beer on the wall\n",
      "\n",
      "44 bottles of beer on the wall\n",
      "44 bottles of beer\n",
      "If one of those bottles should happen to fall...\n",
      "43 bottles of beer on the wall\n",
      "\n",
      "43 bottles of beer on the wall\n",
      "43 bottles of beer\n",
      "If one of those bottles should happen to fall...\n",
      "42 bottles of beer on the wall\n",
      "\n",
      "42 bottles of beer on the wall\n",
      "42 bottles of beer\n",
      "If one of those bottles should happen to fall...\n",
      "41 bottles of beer on the wall\n",
      "\n",
      "41 bottles of beer on the wall\n",
      "41 bottles of beer\n",
      "If one of those bottles should happen to fall...\n",
      "40 bottles of beer on the wall\n",
      "\n",
      "40 bottles of beer on the wall\n",
      "40 bottles of beer\n",
      "If one of those bottles should happen to fall...\n",
      "39 bottles of beer on the wall\n",
      "\n",
      "39 bottles of beer on the wall\n",
      "39 bottles of beer\n",
      "If one of those bottles should happen to fall...\n",
      "38 bottles of beer on the wall\n",
      "\n",
      "38 bottles of beer on the wall\n",
      "38 bottles of beer\n",
      "If one of those bottles should happen to fall...\n",
      "37 bottles of beer on the wall\n",
      "\n",
      "37 bottles of beer on the wall\n",
      "37 bottles of beer\n",
      "If one of those bottles should happen to fall...\n",
      "36 bottles of beer on the wall\n",
      "\n",
      "36 bottles of beer on the wall\n",
      "36 bottles of beer\n",
      "If one of those bottles should happen to fall...\n",
      "35 bottles of beer on the wall\n",
      "\n",
      "35 bottles of beer on the wall\n",
      "35 bottles of beer\n",
      "If one of those bottles should happen to fall...\n",
      "34 bottles of beer on the wall\n",
      "\n",
      "34 bottles of beer on the wall\n",
      "34 bottles of beer\n",
      "If one of those bottles should happen to fall...\n",
      "33 bottles of beer on the wall\n",
      "\n",
      "33 bottles of beer on the wall\n",
      "33 bottles of beer\n",
      "If one of those bottles should happen to fall...\n",
      "32 bottles of beer on the wall\n",
      "\n",
      "32 bottles of beer on the wall\n",
      "32 bottles of beer\n",
      "If one of those bottles should happen to fall...\n",
      "31 bottles of beer on the wall\n",
      "\n",
      "31 bottles of beer on the wall\n",
      "31 bottles of beer\n",
      "If one of those bottles should happen to fall...\n",
      "30 bottles of beer on the wall\n",
      "\n",
      "30 bottles of beer on the wall\n",
      "30 bottles of beer\n",
      "If one of those bottles should happen to fall...\n",
      "29 bottles of beer on the wall\n",
      "\n",
      "29 bottles of beer on the wall\n",
      "29 bottles of beer\n",
      "If one of those bottles should happen to fall...\n",
      "28 bottles of beer on the wall\n",
      "\n",
      "28 bottles of beer on the wall\n",
      "28 bottles of beer\n",
      "If one of those bottles should happen to fall...\n",
      "27 bottles of beer on the wall\n",
      "\n",
      "27 bottles of beer on the wall\n",
      "27 bottles of beer\n",
      "If one of those bottles should happen to fall...\n",
      "26 bottles of beer on the wall\n",
      "\n",
      "26 bottles of beer on the wall\n",
      "26 bottles of beer\n",
      "If one of those bottles should happen to fall...\n",
      "25 bottles of beer on the wall\n",
      "\n",
      "25 bottles of beer on the wall\n",
      "25 bottles of beer\n",
      "If one of those bottles should happen to fall...\n",
      "24 bottles of beer on the wall\n",
      "\n",
      "24 bottles of beer on the wall\n",
      "24 bottles of beer\n",
      "If one of those bottles should happen to fall...\n",
      "23 bottles of beer on the wall\n",
      "\n",
      "23 bottles of beer on the wall\n",
      "23 bottles of beer\n",
      "If one of those bottles should happen to fall...\n",
      "22 bottles of beer on the wall\n",
      "\n",
      "22 bottles of beer on the wall\n",
      "22 bottles of beer\n",
      "If one of those bottles should happen to fall...\n",
      "21 bottles of beer on the wall\n",
      "\n",
      "21 bottles of beer on the wall\n",
      "21 bottles of beer\n",
      "If one of those bottles should happen to fall...\n",
      "20 bottles of beer on the wall\n",
      "\n",
      "20 bottles of beer on the wall\n",
      "20 bottles of beer\n",
      "If one of those bottles should happen to fall...\n",
      "19 bottles of beer on the wall\n",
      "\n",
      "19 bottles of beer on the wall\n",
      "19 bottles of beer\n",
      "If one of those bottles should happen to fall...\n",
      "18 bottles of beer on the wall\n",
      "\n",
      "18 bottles of beer on the wall\n",
      "18 bottles of beer\n",
      "If one of those bottles should happen to fall...\n",
      "17 bottles of beer on the wall\n",
      "\n",
      "17 bottles of beer on the wall\n",
      "17 bottles of beer\n",
      "If one of those bottles should happen to fall...\n",
      "16 bottles of beer on the wall\n",
      "\n",
      "16 bottles of beer on the wall\n",
      "16 bottles of beer\n",
      "If one of those bottles should happen to fall...\n",
      "15 bottles of beer on the wall\n",
      "\n",
      "15 bottles of beer on the wall\n",
      "15 bottles of beer\n",
      "If one of those bottles should happen to fall...\n",
      "14 bottles of beer on the wall\n",
      "\n",
      "14 bottles of beer on the wall\n",
      "14 bottles of beer\n",
      "If one of those bottles should happen to fall...\n",
      "13 bottles of beer on the wall\n",
      "\n",
      "13 bottles of beer on the wall\n",
      "13 bottles of beer\n",
      "If one of those bottles should happen to fall...\n",
      "12 bottles of beer on the wall\n",
      "\n",
      "12 bottles of beer on the wall\n",
      "12 bottles of beer\n",
      "If one of those bottles should happen to fall...\n",
      "11 bottles of beer on the wall\n",
      "\n",
      "11 bottles of beer on the wall\n",
      "11 bottles of beer\n",
      "If one of those bottles should happen to fall...\n",
      "10 bottles of beer on the wall\n",
      "\n",
      "10 bottles of beer on the wall\n",
      "10 bottles of beer\n",
      "If one of those bottles should happen to fall...\n",
      "9 bottles of beer on the wall\n",
      "\n",
      "9 bottles of beer on the wall\n",
      "9 bottles of beer\n",
      "If one of those bottles should happen to fall...\n",
      "8 bottles of beer on the wall\n",
      "\n",
      "8 bottles of beer on the wall\n",
      "8 bottles of beer\n",
      "If one of those bottles should happen to fall...\n",
      "7 bottles of beer on the wall\n",
      "\n",
      "7 bottles of beer on the wall\n",
      "7 bottles of beer\n",
      "If one of those bottles should happen to fall...\n",
      "6 bottles of beer on the wall\n",
      "\n",
      "6 bottles of beer on the wall\n",
      "6 bottles of beer\n",
      "If one of those bottles should happen to fall...\n",
      "5 bottles of beer on the wall\n",
      "\n",
      "5 bottles of beer on the wall\n",
      "5 bottles of beer\n",
      "If one of those bottles should happen to fall...\n",
      "4 bottles of beer on the wall\n",
      "\n",
      "4 bottles of beer on the wall\n",
      "4 bottles of beer\n",
      "If one of those bottles should happen to fall...\n",
      "3 bottles of beer on the wall\n",
      "\n",
      "3 bottles of beer on the wall\n",
      "3 bottles of beer\n",
      "If one of those bottles should happen to fall...\n",
      "2 bottles of beer on the wall\n",
      "\n",
      "2 bottles of beer on the wall\n",
      "2 bottles of beer\n",
      "If one of those bottles should happen to fall...\n",
      "1 bottles of beer on the wall\n",
      "\n",
      "1 bottles of beer on the wall\n",
      "1 bottles of beer\n",
      "If one of those bottles should happen to fall...\n",
      "0 bottles of beer on the wall\n",
      "\n",
      "0 bottles of beer on the wall\n",
      "0 bottles of beer\n",
      "...and that's the end of the song!\n",
      "\n"
     ]
    }
   ],
   "source": [
    "for bottles in range(99, -1, -1):\n",
    "    print(f\"{bottles} bottles of beer on the wall\")\n",
    "    print(f\"{bottles} bottles of beer\")\n",
    "    \n",
    "    if bottles > 0:\n",
    "        print(\"If one of those bottles should happen to fall...\")\n",
    "        print(f\"{bottles - 1} bottles of beer on the wall\")\n",
    "    else:\n",
    "        print(\"...and that's the end of the song!\")\n",
    "        \n",
    "    print()"
   ]
  },
  {
   "cell_type": "markdown",
   "metadata": {},
   "source": [
    "## Functions"
   ]
  },
  {
   "cell_type": "code",
   "execution_count": 15,
   "metadata": {},
   "outputs": [
    {
     "name": "stdout",
     "output_type": "stream",
     "text": [
      "Hello!\n",
      "Welcome to the program.\n"
     ]
    }
   ],
   "source": [
    "def greet_user():\n",
    "    print(\"Hello!\")\n",
    "    print(\"Welcome to the program.\")\n",
    "\n",
    "greet_user()"
   ]
  },
  {
   "cell_type": "code",
   "execution_count": 23,
   "metadata": {},
   "outputs": [
    {
     "name": "stdout",
     "output_type": "stream",
     "text": [
      "Hello, Alice!\n"
     ]
    }
   ],
   "source": [
    "def greet_user_by_name(name):\n",
    "    print(f\"Hello, {name}!\")\n",
    "    \n",
    "greet_user_by_name(\"Alice\")"
   ]
  },
  {
   "cell_type": "code",
   "execution_count": 29,
   "metadata": {},
   "outputs": [
    {
     "name": "stdout",
     "output_type": "stream",
     "text": [
      "Hello, BERNADETTE!\n",
      "This is visit number 5 for you.\n"
     ]
    }
   ],
   "source": [
    "def greet_user_by_name_and_number_of_visits(name, num_visits):\n",
    "    print(f\"Hello, {name.upper()}!\")\n",
    "    print(f\"This is visit number {num_visits} for you.\")\n",
    "          \n",
    "greet_user_by_name_and_number_of_visits(\"Bernadette\", 5)"
   ]
  },
  {
   "cell_type": "code",
   "execution_count": 26,
   "metadata": {},
   "outputs": [
    {
     "name": "stdout",
     "output_type": "stream",
     "text": [
      "Hello, Catherine!\n",
      "This is visit number 7 for you.\n"
     ]
    }
   ],
   "source": [
    "greet_user_by_name_and_number_of_visits(name=\"Catherine\", num_visits=7)"
   ]
  },
  {
   "cell_type": "code",
   "execution_count": 27,
   "metadata": {},
   "outputs": [
    {
     "name": "stdout",
     "output_type": "stream",
     "text": [
      "Hello, Darla!\n",
      "This is visit number 10 for you.\n"
     ]
    }
   ],
   "source": [
    "greet_user_by_name_and_number_of_visits(num_visits=10, name=\"Darla\")"
   ]
  },
  {
   "cell_type": "markdown",
   "metadata": {},
   "source": [
    "## Lists"
   ]
  },
  {
   "cell_type": "code",
   "execution_count": 30,
   "metadata": {},
   "outputs": [
    {
     "name": "stdout",
     "output_type": "stream",
     "text": [
      "['UK', 'France', 'Germany', 'Italy', 'Russia', 'Japan', 'United States']\n"
     ]
    }
   ],
   "source": [
    "g8_countries = [\"UK\", \"France\", \"Germany\", \"Italy\", \"Russia\", \"Japan\", \"United States\"]\n",
    "print(g8_countries)"
   ]
  },
  {
   "cell_type": "code",
   "execution_count": 35,
   "metadata": {},
   "outputs": [
    {
     "name": "stdout",
     "output_type": "stream",
     "text": [
      "UK\n",
      "United States\n",
      "Germany\n",
      "Japan\n"
     ]
    }
   ],
   "source": [
    "# Get the first country in the list\n",
    "first_country = g8_countries[0]\n",
    "print(first_country)\n",
    "# Get the last country in the list\n",
    "last_country = g8_countries[-1]\n",
    "print(last_country)\n",
    "# Get the 3rd country in the list\n",
    "print(g8_countries[2])\n",
    "# Get the 2nd-last country in the list\n",
    "print(g8_countries[-2])"
   ]
  },
  {
   "cell_type": "code",
   "execution_count": 36,
   "metadata": {},
   "outputs": [
    {
     "name": "stdout",
     "output_type": "stream",
     "text": [
      "['UK', 'France', 'Germany', 'Italy', 'Russia', 'Japan', 'United States']\n"
     ]
    }
   ],
   "source": [
    "print(g8_countries)"
   ]
  },
  {
   "cell_type": "code",
   "execution_count": 37,
   "metadata": {},
   "outputs": [
    {
     "name": "stdout",
     "output_type": "stream",
     "text": [
      "['United Kingdom', 'France', 'Germany', 'Italy', 'Russia', 'Japan', 'United States']\n"
     ]
    }
   ],
   "source": [
    "g8_countries[0] = \"United Kingdom\"\n",
    "print(g8_countries)"
   ]
  },
  {
   "cell_type": "code",
   "execution_count": 38,
   "metadata": {},
   "outputs": [
    {
     "name": "stdout",
     "output_type": "stream",
     "text": [
      "7\n"
     ]
    }
   ],
   "source": [
    "print(len(g8_countries))"
   ]
  },
  {
   "cell_type": "code",
   "execution_count": 39,
   "metadata": {},
   "outputs": [
    {
     "name": "stdout",
     "output_type": "stream",
     "text": [
      "14\n"
     ]
    }
   ],
   "source": [
    "print(len(g8_countries[0]))"
   ]
  },
  {
   "cell_type": "code",
   "execution_count": 40,
   "metadata": {},
   "outputs": [
    {
     "name": "stdout",
     "output_type": "stream",
     "text": [
      "14\n"
     ]
    }
   ],
   "source": [
    "print(len(\"United Kingdom\"))"
   ]
  },
  {
   "cell_type": "code",
   "execution_count": 41,
   "metadata": {},
   "outputs": [
    {
     "name": "stdout",
     "output_type": "stream",
     "text": [
      "8\n",
      "['United Kingdom', 'France', 'Germany', 'Italy', 'Russia', 'Japan', 'United States', 'Canada']\n"
     ]
    }
   ],
   "source": [
    "g8_countries.append(\"Canada\")\n",
    "print(len(g8_countries))\n",
    "print(g8_countries)"
   ]
  },
  {
   "cell_type": "code",
   "execution_count": 42,
   "metadata": {},
   "outputs": [
    {
     "name": "stdout",
     "output_type": "stream",
     "text": [
      "['United Kingdom', 'France', 'Germany', 'Italy', 'Russia', 'Japan', 'United States', 'Canada', 'Wakanda']\n"
     ]
    }
   ],
   "source": [
    "g8_countries.append(\"Wakanda\")\n",
    "print(g8_countries)"
   ]
  },
  {
   "cell_type": "code",
   "execution_count": 43,
   "metadata": {},
   "outputs": [
    {
     "name": "stdout",
     "output_type": "stream",
     "text": [
      "['United Kingdom', 'France', 'Germany', 'Italy', 'Russia', 'Japan', 'United States', 'Canada']\n"
     ]
    }
   ],
   "source": [
    "del g8_countries[8]\n",
    "print(g8_countries)"
   ]
  },
  {
   "cell_type": "code",
   "execution_count": 44,
   "metadata": {},
   "outputs": [
    {
     "name": "stdout",
     "output_type": "stream",
     "text": [
      "5\n"
     ]
    }
   ],
   "source": [
    "score = 5\n",
    "print(score)"
   ]
  },
  {
   "cell_type": "code",
   "execution_count": 46,
   "metadata": {},
   "outputs": [
    {
     "ename": "NameError",
     "evalue": "name 'score' is not defined",
     "output_type": "error",
     "traceback": [
      "\u001b[0;31m---------------------------------------------------------------------------\u001b[0m",
      "\u001b[0;31mNameError\u001b[0m                                 Traceback (most recent call last)",
      "\u001b[0;32m<ipython-input-46-14f8342c52e2>\u001b[0m in \u001b[0;36m<module>\u001b[0;34m\u001b[0m\n\u001b[0;32m----> 1\u001b[0;31m \u001b[0;32mdel\u001b[0m \u001b[0mscore\u001b[0m\u001b[0;34m\u001b[0m\u001b[0;34m\u001b[0m\u001b[0m\n\u001b[0m\u001b[1;32m      2\u001b[0m \u001b[0mprint\u001b[0m\u001b[0;34m(\u001b[0m\u001b[0mscore\u001b[0m\u001b[0;34m)\u001b[0m\u001b[0;34m\u001b[0m\u001b[0;34m\u001b[0m\u001b[0m\n",
      "\u001b[0;31mNameError\u001b[0m: name 'score' is not defined"
     ]
    }
   ],
   "source": [
    "del score\n",
    "print(score)"
   ]
  },
  {
   "cell_type": "code",
   "execution_count": 53,
   "metadata": {},
   "outputs": [
    {
     "name": "stdout",
     "output_type": "stream",
     "text": [
      "['United Kingdom', 'Germany', 'Italy', 'France', 'Russia', 'Japan', 'United States', 'Canada']\n"
     ]
    }
   ],
   "source": [
    "g8_countries = ['United Kingdom', 'Germany', 'Italy', 'France', 'Russia', 'Japan', 'United States', 'Canada']\n",
    "print(g8_countries)"
   ]
  },
  {
   "cell_type": "code",
   "execution_count": 56,
   "metadata": {},
   "outputs": [
    {
     "name": "stdout",
     "output_type": "stream",
     "text": [
      "['United Kingdom', 'China', 'Germany', 'Italy', 'France', 'China', 'Russia', 'Japan', 'United States', 'Canada']\n"
     ]
    }
   ],
   "source": [
    "g8_countries.insert(1, \"China\")\n",
    "print(g8_countries)"
   ]
  },
  {
   "cell_type": "code",
   "execution_count": 57,
   "metadata": {},
   "outputs": [
    {
     "name": "stdout",
     "output_type": "stream",
     "text": [
      "China\n",
      "['United Kingdom', 'Germany', 'Italy', 'France', 'China', 'China', 'Russia', 'Japan', 'United States', 'Canada']\n"
     ]
    }
   ],
   "source": [
    "# Move China from position 1 to position 4\n",
    "country_to_move = g8_countries.pop(1)\n",
    "print(country_to_move)\n",
    "g8_countries.insert(4, country_to_move)\n",
    "print(g8_countries)"
   ]
  },
  {
   "cell_type": "code",
   "execution_count": 58,
   "metadata": {},
   "outputs": [
    {
     "name": "stdout",
     "output_type": "stream",
     "text": [
      "['red', 'green', 'blue', 'orange']\n"
     ]
    }
   ],
   "source": [
    "colors = [\"red\", \"green\", \"blue\", \"orange\"]\n",
    "print(colors)"
   ]
  },
  {
   "cell_type": "code",
   "execution_count": 59,
   "metadata": {},
   "outputs": [
    {
     "name": "stdout",
     "output_type": "stream",
     "text": [
      "['red', 'green', 'orange']\n"
     ]
    }
   ],
   "source": [
    "del colors[2]\n",
    "print(colors)"
   ]
  },
  {
   "cell_type": "code",
   "execution_count": 63,
   "metadata": {},
   "outputs": [
    {
     "name": "stdout",
     "output_type": "stream",
     "text": [
      "['red', 'green', 'blue', 'orange']\n"
     ]
    }
   ],
   "source": [
    "colors = [\"red\", \"green\", \"blue\", \"orange\"]\n",
    "print(colors)"
   ]
  },
  {
   "cell_type": "code",
   "execution_count": 64,
   "metadata": {},
   "outputs": [],
   "source": [
    "colors.remove(\"blue\")"
   ]
  },
  {
   "cell_type": "code",
   "execution_count": 65,
   "metadata": {},
   "outputs": [
    {
     "name": "stdout",
     "output_type": "stream",
     "text": [
      "['red', 'green', 'orange']\n"
     ]
    }
   ],
   "source": [
    "print(colors)"
   ]
  },
  {
   "cell_type": "code",
   "execution_count": 66,
   "metadata": {},
   "outputs": [
    {
     "ename": "ValueError",
     "evalue": "list.remove(x): x not in list",
     "output_type": "error",
     "traceback": [
      "\u001b[0;31m---------------------------------------------------------------------------\u001b[0m",
      "\u001b[0;31mValueError\u001b[0m                                Traceback (most recent call last)",
      "\u001b[0;32m<ipython-input-66-ca6f65286090>\u001b[0m in \u001b[0;36m<module>\u001b[0;34m\u001b[0m\n\u001b[0;32m----> 1\u001b[0;31m \u001b[0mcolors\u001b[0m\u001b[0;34m.\u001b[0m\u001b[0mremove\u001b[0m\u001b[0;34m(\u001b[0m\u001b[0;34m\"pink\"\u001b[0m\u001b[0;34m)\u001b[0m\u001b[0;34m\u001b[0m\u001b[0;34m\u001b[0m\u001b[0m\n\u001b[0m",
      "\u001b[0;31mValueError\u001b[0m: list.remove(x): x not in list"
     ]
    }
   ],
   "source": [
    "colors.remove(\"pink\")"
   ]
  },
  {
   "cell_type": "code",
   "execution_count": 71,
   "metadata": {},
   "outputs": [
    {
     "name": "stdout",
     "output_type": "stream",
     "text": [
      "['red', 'green', 'green', 'blue', 'orange']\n"
     ]
    }
   ],
   "source": [
    "colors = [\"red\", \"green\", \"green\", \"blue\", \"orange\"]\n",
    "print(colors)"
   ]
  },
  {
   "cell_type": "code",
   "execution_count": 72,
   "metadata": {},
   "outputs": [
    {
     "name": "stdout",
     "output_type": "stream",
     "text": [
      "['red', 'green', 'blue', 'orange']\n"
     ]
    }
   ],
   "source": [
    "colors.remove(\"green\")\n",
    "print(colors)"
   ]
  },
  {
   "cell_type": "code",
   "execution_count": 73,
   "metadata": {},
   "outputs": [
    {
     "name": "stdout",
     "output_type": "stream",
     "text": [
      "Is blue in the list?: True\n",
      "Is pink in the list?: False\n"
     ]
    }
   ],
   "source": [
    "print(f\"Is blue in the list?: {'blue' in colors}\")\n",
    "print(f\"Is pink in the list?: {'pink' in colors}\")"
   ]
  },
  {
   "cell_type": "code",
   "execution_count": 74,
   "metadata": {},
   "outputs": [
    {
     "name": "stdout",
     "output_type": "stream",
     "text": [
      "Is green in the list?: True\n"
     ]
    }
   ],
   "source": [
    "colors = [\"red\", \"green\", \"green\", \"blue\", \"orange\", \"green\"]\n",
    "print(f\"Is green in the list?: {'green' in colors}\")"
   ]
  },
  {
   "cell_type": "code",
   "execution_count": 76,
   "metadata": {},
   "outputs": [
    {
     "name": "stdout",
     "output_type": "stream",
     "text": [
      "Green appears 3 times in the list.\n"
     ]
    }
   ],
   "source": [
    "green_count = colors.count(\"green\")\n",
    "print(f\"Green appears {green_count} times in the list.\")"
   ]
  },
  {
   "cell_type": "code",
   "execution_count": 77,
   "metadata": {},
   "outputs": [
    {
     "name": "stdout",
     "output_type": "stream",
     "text": [
      "Pink appears 0 times in the list.\n"
     ]
    }
   ],
   "source": [
    "pink_count = colors.count(\"pink\")\n",
    "print(f\"Pink appears {pink_count} times in the list.\")"
   ]
  },
  {
   "cell_type": "code",
   "execution_count": 78,
   "metadata": {},
   "outputs": [
    {
     "name": "stdout",
     "output_type": "stream",
     "text": [
      "Red appears 1 times in the list.\n"
     ]
    }
   ],
   "source": [
    "red_count = colors.count(\"red\")\n",
    "print(f\"Red appears {red_count} times in the list.\")"
   ]
  },
  {
   "cell_type": "code",
   "execution_count": 79,
   "metadata": {},
   "outputs": [
    {
     "name": "stdout",
     "output_type": "stream",
     "text": [
      "['red', 'green', 'green', 'blue', 'orange', 'green']\n"
     ]
    }
   ],
   "source": [
    "print(colors)"
   ]
  },
  {
   "cell_type": "code",
   "execution_count": 80,
   "metadata": {},
   "outputs": [
    {
     "name": "stdout",
     "output_type": "stream",
     "text": [
      "Blue is in position 3\n"
     ]
    }
   ],
   "source": [
    "print(f\"Blue is in position {colors.index('blue')}\")"
   ]
  },
  {
   "cell_type": "code",
   "execution_count": 81,
   "metadata": {},
   "outputs": [
    {
     "name": "stdout",
     "output_type": "stream",
     "text": [
      "Green is in position 1\n"
     ]
    }
   ],
   "source": [
    "print(f\"Green is in position {colors.index('green')}\")"
   ]
  },
  {
   "cell_type": "code",
   "execution_count": 82,
   "metadata": {},
   "outputs": [
    {
     "ename": "ValueError",
     "evalue": "'pink' is not in list",
     "output_type": "error",
     "traceback": [
      "\u001b[0;31m---------------------------------------------------------------------------\u001b[0m",
      "\u001b[0;31mValueError\u001b[0m                                Traceback (most recent call last)",
      "\u001b[0;32m<ipython-input-82-cd8ad6dfbee3>\u001b[0m in \u001b[0;36m<module>\u001b[0;34m\u001b[0m\n\u001b[0;32m----> 1\u001b[0;31m \u001b[0mprint\u001b[0m\u001b[0;34m(\u001b[0m\u001b[0;34mf\"Pink is in position {colors.index('pink')}\"\u001b[0m\u001b[0;34m)\u001b[0m\u001b[0;34m\u001b[0m\u001b[0;34m\u001b[0m\u001b[0m\n\u001b[0m",
      "\u001b[0;31mValueError\u001b[0m: 'pink' is not in list"
     ]
    }
   ],
   "source": [
    "print(f\"Pink is in position {colors.index('pink')}\")"
   ]
  },
  {
   "cell_type": "code",
   "execution_count": 84,
   "metadata": {},
   "outputs": [
    {
     "name": "stdout",
     "output_type": "stream",
     "text": [
      "The first instance of green is at position 1\n"
     ]
    }
   ],
   "source": [
    "if \"green\" in colors:\n",
    "    print(f\"The first instance of green is at position {colors.index('green')}\")"
   ]
  },
  {
   "cell_type": "code",
   "execution_count": 85,
   "metadata": {},
   "outputs": [
    {
     "name": "stdout",
     "output_type": "stream",
     "text": [
      "Pink is not in the list of colors!\n"
     ]
    }
   ],
   "source": [
    "if \"pink\" in colors:\n",
    "    print(f\"The first instance of pink is at position {colors.index('pink')}\")\n",
    "else:\n",
    "    print(\"Pink is not in the list of colors!\")"
   ]
  },
  {
   "cell_type": "code",
   "execution_count": 92,
   "metadata": {},
   "outputs": [
    {
     "name": "stdout",
     "output_type": "stream",
     "text": [
      "Before sorting the list:\n",
      "Canada\n",
      "China\n",
      "China\n",
      "France\n",
      "Germany\n",
      "Italy\n",
      "Japan\n",
      "Russia\n",
      "United Kingdom\n",
      "United States\n",
      "\n",
      "\n",
      "After sorting the list:\n",
      "Canada\n",
      "China\n",
      "China\n",
      "France\n",
      "Germany\n",
      "Italy\n",
      "Japan\n",
      "Russia\n",
      "United Kingdom\n",
      "United States\n"
     ]
    }
   ],
   "source": [
    "print(\"Before sorting the list:\")\n",
    "for country in g8_countries:\n",
    "    print(country)\n",
    "\n",
    "g8_countries.sort()\n",
    "\n",
    "print(\"\\n\\nAfter sorting the list:\")\n",
    "for country in g8_countries:\n",
    "    print(country)"
   ]
  },
  {
   "cell_type": "code",
   "execution_count": 93,
   "metadata": {},
   "outputs": [
    {
     "name": "stdout",
     "output_type": "stream",
     "text": [
      "Before reversing the list:\n",
      "['Canada', 'China', 'China', 'France', 'Germany', 'Italy', 'Japan', 'Russia', 'United Kingdom', 'United States']\n",
      "\n",
      "After reversing the list:\n",
      "['United States', 'United Kingdom', 'Russia', 'Japan', 'Italy', 'Germany', 'France', 'China', 'China', 'Canada']\n"
     ]
    }
   ],
   "source": [
    "print(f\"Before reversing the list:\\n{g8_countries}\")\n",
    "g8_countries.reverse()\n",
    "print(f\"\\nAfter reversing the list:\\n{g8_countries}\")"
   ]
  },
  {
   "cell_type": "code",
   "execution_count": 94,
   "metadata": {},
   "outputs": [
    {
     "name": "stdout",
     "output_type": "stream",
     "text": [
      "[-4, 2, 38, 44, 45, 82, 99]\n",
      "[99, 82, 45, 44, 38, 2, -4]\n"
     ]
    }
   ],
   "source": [
    "numbers = [45, 38, 2, 99, -4, 82, 44]\n",
    "numbers.sort()\n",
    "print(numbers)\n",
    "numbers.reverse()\n",
    "print(numbers)"
   ]
  },
  {
   "cell_type": "code",
   "execution_count": 96,
   "metadata": {},
   "outputs": [
    {
     "name": "stdout",
     "output_type": "stream",
     "text": [
      "['United States', 'United Kingdom', 'Russia', 'Japan', 'Italy', 'Germany', 'France', 'China', 'China', 'Canada']\n"
     ]
    }
   ],
   "source": [
    "print(g8_countries)"
   ]
  },
  {
   "cell_type": "code",
   "execution_count": 119,
   "metadata": {},
   "outputs": [
    {
     "name": "stdout",
     "output_type": "stream",
     "text": [
      "United States is a G8 country.\n",
      "United Kingdom is a G8 country.\n",
      "Russia is a G8 country.\n",
      "Japan is a G8 country.\n",
      "Italy is a G8 country.\n",
      "Germany is a G8 country.\n",
      "France is a G8 country.\n",
      "Canada is a G8 country.\n"
     ]
    }
   ],
   "source": [
    "for country in g8_countries:\n",
    "    if country == \"China\":\n",
    "        continue\n",
    "    print(f\"{country} is a G8 country.\")"
   ]
  },
  {
   "cell_type": "markdown",
   "metadata": {},
   "source": [
    "## Slices"
   ]
  },
  {
   "cell_type": "code",
   "execution_count": 103,
   "metadata": {},
   "outputs": [
    {
     "name": "stdout",
     "output_type": "stream",
     "text": [
      "['United States', 'United Kingdom', 'Russia', 'Japan', 'Italy', 'Germany', 'France', 'China', 'China', 'Canada']\n"
     ]
    }
   ],
   "source": [
    "print(g8_countries)"
   ]
  },
  {
   "cell_type": "code",
   "execution_count": 104,
   "metadata": {},
   "outputs": [
    {
     "name": "stdout",
     "output_type": "stream",
     "text": [
      "['United States', 'United Kingdom', 'Russia']\n"
     ]
    }
   ],
   "source": [
    "first_three_countries = g8_countries[0:3]\n",
    "print(first_three_countries)"
   ]
  },
  {
   "cell_type": "code",
   "execution_count": 105,
   "metadata": {},
   "outputs": [
    {
     "name": "stdout",
     "output_type": "stream",
     "text": [
      "['Japan', 'Italy', 'Germany']\n"
     ]
    }
   ],
   "source": [
    "japan_italy_germany = g8_countries[3:6]\n",
    "print(japan_italy_germany)"
   ]
  },
  {
   "cell_type": "code",
   "execution_count": 106,
   "metadata": {},
   "outputs": [
    {
     "name": "stdout",
     "output_type": "stream",
     "text": [
      "['United States', 'United Kingdom', 'Russia', 'Japan']\n"
     ]
    }
   ],
   "source": [
    "first_four_countries = g8_countries[:4]\n",
    "print(first_four_countries)"
   ]
  },
  {
   "cell_type": "code",
   "execution_count": 107,
   "metadata": {},
   "outputs": [
    {
     "name": "stdout",
     "output_type": "stream",
     "text": [
      "['France', 'China', 'China', 'Canada']\n"
     ]
    }
   ],
   "source": [
    "last_countries = g8_countries[6:]\n",
    "print(last_countries)"
   ]
  },
  {
   "cell_type": "code",
   "execution_count": 109,
   "metadata": {},
   "outputs": [
    {
     "name": "stdout",
     "output_type": "stream",
     "text": [
      "United States\n",
      "Canada\n"
     ]
    }
   ],
   "source": [
    "print(g8_countries[0])\n",
    "print(g8_countries[-1])"
   ]
  },
  {
   "cell_type": "code",
   "execution_count": 110,
   "metadata": {},
   "outputs": [
    {
     "name": "stdout",
     "output_type": "stream",
     "text": [
      "['United States', 'United Kingdom', 'Russia', 'Japan', 'Italy', 'Germany', 'France', 'China', 'China', 'Canada']\n"
     ]
    }
   ],
   "source": [
    "print(g8_countries)"
   ]
  },
  {
   "cell_type": "code",
   "execution_count": 111,
   "metadata": {},
   "outputs": [
    {
     "name": "stdout",
     "output_type": "stream",
     "text": [
      "['United Kingdom', 'Russia', 'Japan', 'Italy', 'Germany', 'France', 'China', 'China']\n"
     ]
    }
   ],
   "source": [
    "print(g8_countries[1:-1])"
   ]
  },
  {
   "cell_type": "code",
   "execution_count": 112,
   "metadata": {},
   "outputs": [
    {
     "name": "stdout",
     "output_type": "stream",
     "text": [
      "[]\n"
     ]
    }
   ],
   "source": [
    "way_out_slice = g8_countries[25:200]\n",
    "print(way_out_slice)"
   ]
  },
  {
   "cell_type": "code",
   "execution_count": 117,
   "metadata": {},
   "outputs": [
    {
     "name": "stdout",
     "output_type": "stream",
     "text": [
      "[['X', 'O', 'X'], ['X', 'Y', 'X'], ['O', 'O', 'O']]\n"
     ]
    }
   ],
   "source": [
    "tic_tac_toe_board = [[\"X\", \"O\", \"X\"], [\"X\", \"Y\", \"X\"], [\"O\", \"O\", \"O\"]]\n",
    "print(tic_tac_toe_board)"
   ]
  },
  {
   "cell_type": "code",
   "execution_count": 118,
   "metadata": {},
   "outputs": [
    {
     "name": "stdout",
     "output_type": "stream",
     "text": [
      "Y\n"
     ]
    }
   ],
   "source": [
    "print(tic_tac_toe_board[1][1])"
   ]
  },
  {
   "cell_type": "code",
   "execution_count": 120,
   "metadata": {},
   "outputs": [
    {
     "name": "stdout",
     "output_type": "stream",
     "text": [
      "United States\n",
      "United Kingdom\n",
      "Germany\n"
     ]
    }
   ],
   "source": [
    "def show_only_countries_with_long_names(country_list):\n",
    "    for country in country_list:\n",
    "        if len(country) > 6:\n",
    "            print(country)\n",
    "            \n",
    "show_only_countries_with_long_names(g8_countries)"
   ]
  },
  {
   "cell_type": "code",
   "execution_count": 121,
   "metadata": {},
   "outputs": [
    {
     "name": "stdout",
     "output_type": "stream",
     "text": [
      "['United States', 'United Kingdom', 'Germany']\n"
     ]
    }
   ],
   "source": [
    "def extract_countries_with_long_names(country_list):\n",
    "    result = []\n",
    "    for country in country_list:\n",
    "        if len(country) > 6:\n",
    "            result.append(country)\n",
    "    return result\n",
    "            \n",
    "long_named_countries = extract_countries_with_long_names(g8_countries)\n",
    "print(long_named_countries)"
   ]
  },
  {
   "cell_type": "markdown",
   "metadata": {},
   "source": [
    "## Dictionaries"
   ]
  },
  {
   "cell_type": "code",
   "execution_count": null,
   "metadata": {},
   "outputs": [],
   "source": [
    "cholula_name = \"Cholula\"\n",
    "cholula_price = 2.99\n",
    "cholula_scovilles = 3600\n",
    "\n",
    "da_bomb_name = \"Da Bomb Original Insanity\"\n",
    "da_bomb_price = 8.99\n",
    "da_bomb_scovilles = 135600\n",
    "\n"
   ]
  },
  {
   "cell_type": "code",
   "execution_count": 128,
   "metadata": {},
   "outputs": [
    {
     "name": "stdout",
     "output_type": "stream",
     "text": [
      "{'name': 'Cholula', 'price': 2.99, 'scovilles': 2500}\n"
     ]
    }
   ],
   "source": [
    "cholula = {\"name\": \"Cholula\", \"price\": 2.99, \"scovilles\": 2_500}\n",
    "print(cholula)"
   ]
  },
  {
   "cell_type": "code",
   "execution_count": 123,
   "metadata": {},
   "outputs": [
    {
     "name": "stdout",
     "output_type": "stream",
     "text": [
      "Cholula\n",
      "2.99\n",
      "2500\n"
     ]
    }
   ],
   "source": [
    "print(cholula[\"name\"])\n",
    "print(cholula[\"price\"])\n",
    "print(cholula[\"scovilles\"])"
   ]
  },
  {
   "cell_type": "code",
   "execution_count": 124,
   "metadata": {},
   "outputs": [
    {
     "name": "stdout",
     "output_type": "stream",
     "text": [
      "{'name': \"Frank's Red Hot\", 'price': 2.79, 'scovilles': 450}\n"
     ]
    }
   ],
   "source": [
    "franks = {\"name\": \"Frank's Red Hot\", \"price\": 2.79, \"scovilles\": 450}\n",
    "print(franks)"
   ]
  },
  {
   "cell_type": "code",
   "execution_count": 125,
   "metadata": {},
   "outputs": [
    {
     "name": "stdout",
     "output_type": "stream",
     "text": [
      "450\n"
     ]
    }
   ],
   "source": [
    "print(franks[\"scovilles\"])"
   ]
  },
  {
   "cell_type": "code",
   "execution_count": 126,
   "metadata": {},
   "outputs": [
    {
     "name": "stdout",
     "output_type": "stream",
     "text": [
      "2.79\n"
     ]
    }
   ],
   "source": [
    "print(franks[\"price\"])"
   ]
  },
  {
   "cell_type": "code",
   "execution_count": 127,
   "metadata": {},
   "outputs": [
    {
     "name": "stdout",
     "output_type": "stream",
     "text": [
      "{'name': 'The Last Dab', 'price': 20.0, 'scovilles': 2000000}\n"
     ]
    }
   ],
   "source": [
    "last_dab = {\"name\": \"The Last Dab\", \"price\": 20.00, \"scovilles\": 2_000_000}\n",
    "print(last_dab)"
   ]
  },
  {
   "cell_type": "code",
   "execution_count": 129,
   "metadata": {},
   "outputs": [
    {
     "name": "stdout",
     "output_type": "stream",
     "text": [
      "[{'name': \"Frank's Red Hot\", 'price': 2.79, 'scovilles': 450}, {'name': 'Cholula', 'price': 2.99, 'scovilles': 2500}, {'name': 'The Last Dab', 'price': 20.0, 'scovilles': 2000000}]\n"
     ]
    }
   ],
   "source": [
    "hot_sauces = [franks, cholula, last_dab]\n",
    "print(hot_sauces)"
   ]
  },
  {
   "cell_type": "code",
   "execution_count": 130,
   "metadata": {},
   "outputs": [
    {
     "name": "stdout",
     "output_type": "stream",
     "text": [
      "2.99\n"
     ]
    }
   ],
   "source": [
    "print(hot_sauces[1][\"price\"])"
   ]
  },
  {
   "cell_type": "code",
   "execution_count": 131,
   "metadata": {},
   "outputs": [
    {
     "name": "stdout",
     "output_type": "stream",
     "text": [
      "2000000\n"
     ]
    }
   ],
   "source": [
    "print(hot_sauces[2][\"scovilles\"])"
   ]
  },
  {
   "cell_type": "code",
   "execution_count": 132,
   "metadata": {},
   "outputs": [
    {
     "name": "stdout",
     "output_type": "stream",
     "text": [
      "450\n"
     ]
    }
   ],
   "source": [
    "def sauce_heat(sauce):\n",
    "    return sauce[\"scovilles\"]\n",
    "\n",
    "print(sauce_heat(franks))"
   ]
  },
  {
   "cell_type": "code",
   "execution_count": 133,
   "metadata": {},
   "outputs": [
    {
     "name": "stdout",
     "output_type": "stream",
     "text": [
      "[{'name': \"Frank's Red Hot\", 'price': 2.79, 'scovilles': 450}, {'name': 'Cholula', 'price': 2.99, 'scovilles': 2500}, {'name': 'The Last Dab', 'price': 20.0, 'scovilles': 2000000}]\n"
     ]
    }
   ],
   "source": [
    "hot_sauces.sort(key=sauce_heat)\n",
    "print(hot_sauces)"
   ]
  },
  {
   "cell_type": "code",
   "execution_count": 134,
   "metadata": {},
   "outputs": [
    {
     "name": "stdout",
     "output_type": "stream",
     "text": [
      "[{'name': 'Cholula', 'price': 2.99, 'scovilles': 2500}, {'name': \"Frank's Red Hot\", 'price': 2.79, 'scovilles': 450}, {'name': 'The Last Dab', 'price': 20.0, 'scovilles': 2000000}]\n"
     ]
    }
   ],
   "source": [
    "def sauce_name(sauce):\n",
    "    return sauce[\"name\"]\n",
    "\n",
    "hot_sauces.sort(key=sauce_name)\n",
    "print(hot_sauces)\n"
   ]
  },
  {
   "cell_type": "code",
   "execution_count": null,
   "metadata": {},
   "outputs": [],
   "source": []
  }
 ],
 "metadata": {
  "kernelspec": {
   "display_name": "Python 3",
   "language": "python",
   "name": "python3"
  },
  "language_info": {
   "codemirror_mode": {
    "name": "ipython",
    "version": 3
   },
   "file_extension": ".py",
   "mimetype": "text/x-python",
   "name": "python",
   "nbconvert_exporter": "python",
   "pygments_lexer": "ipython3",
   "version": "3.6.7"
  }
 },
 "nbformat": 4,
 "nbformat_minor": 2
}
