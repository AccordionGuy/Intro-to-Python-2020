{
 "cells": [
  {
   "cell_type": "markdown",
   "metadata": {},
   "source": [
    "# 2. Basic data types and variables\n"
   ]
  },
  {
   "cell_type": "markdown",
   "metadata": {},
   "source": [
    "## To computers, everything is a number (or a bunch of numbers)\n",
    "\n",
    "As far as computers are concerned, everything is a number or a bunch of numbers:\n",
    "\n",
    "* **Code:** Just a bunch of numbers, which the computer interprets as instructions to manipulate other numbers.\n",
    "* **Data:** Just a bunch of numbers. In fact, the computer only distinguishes code and data through context. Think of this distinction as being like a cookbook. If you’re reading it for fun, it’s data. If you’re following a recipe in the book, it’s code.\n",
    "\n",
    "Unlike computers, we think of data as having different forms. To allow computers to understand us, and us to understand their output, most programming languages have a concept called **data types**, which are used to represent different forms of data.\n",
    "\n",
    "\n",
    "## Number data types\n",
    "\n",
    "In order to perform math and counting operations, we have data types that represent numbers. They come in the following flavors:\n",
    "\n",
    "* **Integers,** which represent whole numbers, both positive and negative. -5, 0, 5, and 5000 are all examples of integers. The Python term for integer is `int`.\n",
    "* **Floating-point numbers,** which represent the “real” numbers — that is, numbers with fractional parts or decimal points, both positive and negative. -5.2, 0.0. 5.567891234, and 5020.492492 are all examples of floating-point numbers. The Python term for floating-point number is `float`.\n",
    "\n",
    "Try the following code in either the Python interpreter or a Jupyter notebook:"
   ]
  },
  {
   "cell_type": "code",
   "execution_count": 1,
   "metadata": {},
   "outputs": [
    {
     "data": {
      "text/plain": [
       "int"
      ]
     },
     "execution_count": 1,
     "metadata": {},
     "output_type": "execute_result"
    }
   ],
   "source": [
    "type(2)"
   ]
  },
  {
   "cell_type": "code",
   "execution_count": 2,
   "metadata": {},
   "outputs": [
    {
     "data": {
      "text/plain": [
       "float"
      ]
     },
     "execution_count": 2,
     "metadata": {},
     "output_type": "execute_result"
    }
   ],
   "source": [
    "type(2.5)"
   ]
  },
  {
   "cell_type": "markdown",
   "metadata": {},
   "source": [
    "`type` is a function that takes the value you give to it — the *argument* — and it gives you back, or *returns* a result indicating the argument’s data type.\n",
    "\n",
    "In the examples above, `type` says that **2** is an `int` (integer) and that **2.5** is a `float` (floating-point number).\n",
    "\n",
    "You may have already guessed that you can perform math operations on number types."
   ]
  },
  {
   "cell_type": "markdown",
   "metadata": {},
   "source": [
    "### String: The data type for text\n",
    "\n",
    "In order to perform operations on text, we have the **string** data type. It’s called “string” because it refers to a string of characters — that is, a set of zero or more characters with a specific sequence.\n",
    "\n",
    "String values are enclosed in quotes — either single quotes (`' '`) or double quotes (`\" \"`). The following are examples of strings:\n",
    "\n",
    "* `'a'`: A single character.\n",
    "* `\"book\"`: Multiple characters.\n",
    "* `'25'`: One or more digits. Since it’s inside quotes, it’s not a number, but a string that just happens to be made of the numbers 2 and 5. You can’t do math on it.\n",
    "* `\"\"`: The empty string — a string containing no characters. This represents things like the value inside a text field that hasn’t been filled out yet.\n",
    "\n",
    "Try the following code in either the Python interpreter or a Jupyter notebook:"
   ]
  },
  {
   "cell_type": "code",
   "execution_count": 3,
   "metadata": {},
   "outputs": [
    {
     "data": {
      "text/plain": [
       "str"
      ]
     },
     "execution_count": 3,
     "metadata": {},
     "output_type": "execute_result"
    }
   ],
   "source": [
    "type('a')"
   ]
  },
  {
   "cell_type": "code",
   "execution_count": 4,
   "metadata": {},
   "outputs": [
    {
     "data": {
      "text/plain": [
       "str"
      ]
     },
     "execution_count": 4,
     "metadata": {},
     "output_type": "execute_result"
    }
   ],
   "source": [
    "type(\"book\")"
   ]
  },
  {
   "cell_type": "code",
   "execution_count": 5,
   "metadata": {},
   "outputs": [
    {
     "data": {
      "text/plain": [
       "str"
      ]
     },
     "execution_count": 5,
     "metadata": {},
     "output_type": "execute_result"
    }
   ],
   "source": [
    "type('')"
   ]
  },
  {
   "cell_type": "markdown",
   "metadata": {},
   "source": [
    "In the examples above, `type` says that `'a'`, `\"book\"`, and `''` all are of type `str` (string).\n",
    "\n",
    "You can’t do math operations on strings, but you can perform *string operations* on them, such as counting how many characters they contain, converting them to all uppercase, all lowercase, or “titlecase”, or joining them together to form incredibly long words, just like they do in the German language."
   ]
  },
  {
   "cell_type": "markdown",
   "metadata": {},
   "source": [
    "### Boolean: The data type for `True` and `False` values, and decision-making"
   ]
  },
  {
   "cell_type": "markdown",
   "metadata": {},
   "source": [
    "## Variables\n",
    "In computer programs -- Python programs included -- **variables** hold information that will be used and processed. They're also a way to label that information with a descriptive name, so the program can more easily be understood by programmers.\n",
    "\n",
    "Think of variables as boxes or containers that hold data. Once you put data into a variable, you can use that data in your program."
   ]
  },
  {
   "cell_type": "markdown",
   "metadata": {},
   "source": []
  },
  {
   "cell_type": "code",
   "execution_count": null,
   "metadata": {},
   "outputs": [],
   "source": []
  }
 ],
 "metadata": {
  "kernelspec": {
   "display_name": "Python 3",
   "language": "python",
   "name": "python3"
  },
  "language_info": {
   "codemirror_mode": {
    "name": "ipython",
    "version": 3
   },
   "file_extension": ".py",
   "mimetype": "text/x-python",
   "name": "python",
   "nbconvert_exporter": "python",
   "pygments_lexer": "ipython3",
   "version": "3.8.3"
  }
 },
 "nbformat": 4,
 "nbformat_minor": 4
}
