{
 "cells": [
  {
   "cell_type": "markdown",
   "metadata": {},
   "source": [
    "# 2. Basic data types and variables\n"
   ]
  },
  {
   "cell_type": "markdown",
   "metadata": {},
   "source": [
    "## To computers, everything is a number (or a bunch of numbers)\n",
    "\n",
    "As far as computers are concerned, everything is a number or a bunch of numbers:\n",
    "\n",
    "* **Code:** Just a bunch of numbers, which the computer interprets as instructions to manipulate other numbers.\n",
    "* **Data:** Just a bunch of numbers. In fact, the computer only distinguishes code and data through context. Think of this distinction as being like a cookbook. If you’re reading it for fun, it’s data. If you’re following a recipe in the book, it’s code.\n",
    "\n",
    "Unlike computers, we think of data as having different forms. To allow computers to understand us, and us to understand their output, most programming languages have a concept called **data types**, which are used to represent different forms of data.\n",
    "\n",
    "\n",
    "## Data types\n",
    "\n",
    "\n",
    "### Number data types\n",
    "\n",
    "In order to perform math and counting operations, we have data types that represent numbers. They come in the following flavors:\n",
    "\n",
    "* **Integers,** which represent whole numbers, both positive and negative. -5, 0, 5, and 5000 are all examples of integers. The Python term for integer is `int`.\n",
    "* **Floating-point numbers,** which represent the “real” numbers — that is, numbers with fractional parts or decimal points, both positive and negative. -5.2, 0.0. 5.567891234, and 5020.492492 are all examples of floating-point numbers. The Python term for floating-point number is `float`.\n",
    "\n",
    "Try the following code in either the Python interpreter or a Jupyter notebook:"
   ]
  },
  {
   "cell_type": "code",
   "execution_count": 57,
   "metadata": {},
   "outputs": [
    {
     "data": {
      "text/plain": [
       "int"
      ]
     },
     "execution_count": 57,
     "metadata": {},
     "output_type": "execute_result"
    }
   ],
   "source": [
    "type(2)"
   ]
  },
  {
   "cell_type": "code",
   "execution_count": 58,
   "metadata": {},
   "outputs": [
    {
     "data": {
      "text/plain": [
       "float"
      ]
     },
     "execution_count": 58,
     "metadata": {},
     "output_type": "execute_result"
    }
   ],
   "source": [
    "type(2.5)"
   ]
  },
  {
   "cell_type": "markdown",
   "metadata": {},
   "source": [
    "`type` is a function that takes the value you give to it — the *argument* — and it gives you back, or *returns* a result indicating the argument’s data type.\n",
    "\n",
    "In the examples above, `type` says that 2 is an `int` (integer) and that 2.5 is a `float` (floating-point number).\n",
    "\n",
    "\n",
    "#### Working with numbers\n",
    "\n",
    "You may have already guessed that you can perform math operations on number types. Here’s a handy table of Python *arithmetic operators*:\n",
    "\n",
    "<table>\n",
    "    <tr>\n",
    "        <th style=\"text-align:left\">Operator</th>\n",
    "        <th style=\"text-align:left\">Notes</th>\n",
    "    </tr>\n",
    "    <tr>\n",
    "        <td style=\"text-align:left\"><code>+</code></td>\n",
    "        <td style=\"text-align:left\">\n",
    "            <p><strong>Addition</strong></p>\n",
    "        </td>\n",
    "    </tr>\n",
    "    <tr>\n",
    "        <td style=\"text-align:left\"><code>-</code> or <code>&lt;&gt;</code></td>\n",
    "        <td style=\"text-align:left\">\n",
    "            <p><strong>Subtraction</strong></p>\n",
    "        </td>\n",
    "    </tr>\n",
    "    <tr>\n",
    "        <td style=\"text-align:left\"><code>*</code></td>\n",
    "        <td style=\"text-align:left\">\n",
    "            <p><strong>Multiplication</strong></p>\n",
    "        </td>\n",
    "    </tr>\n",
    "    <tr>\n",
    "        <td style=\"text-align:left\"><code>/</code></td>\n",
    "        <td style=\"text-align:left\">\n",
    "            <p><strong>Division</strong></p>\n",
    "        </td>\n",
    "    </tr>\n",
    "    <tr>\n",
    "        <td style=\"text-align:left\"><code>%</code></td>\n",
    "        <td style=\"text-align:left\">\n",
    "            <p><strong>Modulus</strong></p>\n",
    "            <p><code>a % b</code> returns the remainder of the division of a by b.</p>\n",
    "        </td>\n",
    "    </tr>\n",
    "    <tr>\n",
    "        <td style=\"text-align:left\"><code>//</code></td>\n",
    "        <td style=\"text-align:left\">\n",
    "            <p><strong>Floor division (a.k.a. integer division)</strong></p>\n",
    "            <p>Like division, except the result is *floored* — rounded down to the nearest integer. Some examples:</p>\n",
    "            <ul>\n",
    "                <li><code>10 // 3</code> returns a result of <code>3</code>. 10 divided by 3 gives a result of 3.333..., and 3.333... when floored (rounded down to the nearest integer) becomes 3.</li>\n",
    "                <li><code>9 // 3</code>` returns a result of <code>3</code>.</li>\n",
    "                <li><code>10 // -3</code> and <code>-10 // 3</code> both return a result of <code>-4`</code>. 10 divided by -3 and -10 divided by 3 both give a result of -3.333..., and -3.333... when floored (rounded down to the nearest integer) becomes -4.</li>\n",
    "            </ul>\n",
    "        </td>\n",
    "    </tr>\n",
    "    <tr>\n",
    "        <td style=\"text-align:left\"><code>**</code></td>\n",
    "        <td style=\"text-align:left\">\n",
    "            <p><strong>Exponentiation</strong></p>\n",
    "            <p><code>a ** b</code> returns <code>a</code> raised to the power of <code>b</code>.</p>\n",
    "        </td>\n",
    "    </tr>\n",
    "</table>"
   ]
  },
  {
   "cell_type": "markdown",
   "metadata": {},
   "source": [
    "### String: The data type for text\n",
    "\n",
    "In order to perform operations on text, we have the **string** data type. It’s called “string” because it refers to a string of characters — that is, a set of zero or more characters with a specific sequence.\n",
    "\n",
    "String values are enclosed in quotes — either single quotes (`' '`) or double quotes (`\" \"`). The following are examples of strings:\n",
    "\n",
    "* `'a'`: A single character.\n",
    "* `\"book\"`: Multiple characters.\n",
    "* `'25'`: One or more digits. Since it’s inside quotes, it’s not a number, but a string that just happens to be made of the numbers 2 and 5. You can’t do math on it.\n",
    "* `\"\"`: The empty string — a string containing no characters. This represents things like the value inside a text field that hasn’t been filled out yet.\n",
    "\n",
    "Try the following code in either the Python interpreter or a Jupyter notebook:"
   ]
  },
  {
   "cell_type": "code",
   "execution_count": 59,
   "metadata": {},
   "outputs": [
    {
     "data": {
      "text/plain": [
       "str"
      ]
     },
     "execution_count": 59,
     "metadata": {},
     "output_type": "execute_result"
    }
   ],
   "source": [
    "type('a')"
   ]
  },
  {
   "cell_type": "code",
   "execution_count": 60,
   "metadata": {},
   "outputs": [
    {
     "data": {
      "text/plain": [
       "str"
      ]
     },
     "execution_count": 60,
     "metadata": {},
     "output_type": "execute_result"
    }
   ],
   "source": [
    "type(\"book\")"
   ]
  },
  {
   "cell_type": "code",
   "execution_count": 61,
   "metadata": {},
   "outputs": [
    {
     "data": {
      "text/plain": [
       "str"
      ]
     },
     "execution_count": 61,
     "metadata": {},
     "output_type": "execute_result"
    }
   ],
   "source": [
    "type('')"
   ]
  },
  {
   "cell_type": "markdown",
   "metadata": {},
   "source": [
    "In the examples above, `type` says that `'a'`, `\"book\"`, and `''` all are of type `str` (string).\n",
    "\n",
    "You can’t do math operations on strings, but you can perform *string operations* on them, such as counting how many characters they contain, converting them to all uppercase, all lowercase, or “titlecase”, or joining them together to form incredibly long words, just like they do in the German language.\n",
    "\n",
    "\n",
    "#### Working with strings\n",
    "\n",
    "This is a big enough topic that it’ll get its own chapter (the next one)."
   ]
  },
  {
   "cell_type": "markdown",
   "metadata": {},
   "source": [
    "### Boolean: The data type for `True` and `False` values, and decision-making\n",
    "\n",
    "A key part of programming is decision making, which involves determining if some condition or set of conditions has been met. This calls for a data type that can specify whether something is true or false, and that’s what the **Boolean** data type is for. It’s called Boolean after mathematician, logician, and philosopher [George Boole](https://en.wikipedia.org/wiki/George_Boole), who created [Boolean algebra](https://en.wikipedia.org/wiki/Boolean_algebra), the branch of algebra in which the values of the variables are the truth values true and false (which are usually denoted 1 and 0, respectively).\n",
    "\n",
    "There are only two possible values for Boolean data:\n",
    "\n",
    "* `True`\n",
    "* `False`\n",
    "\n",
    "Note that both are capitalized.\n",
    "\n",
    "Enter the following in either the Python interpreter or a Jupyter notebook:"
   ]
  },
  {
   "cell_type": "code",
   "execution_count": 62,
   "metadata": {},
   "outputs": [
    {
     "data": {
      "text/plain": [
       "True"
      ]
     },
     "execution_count": 62,
     "metadata": {},
     "output_type": "execute_result"
    }
   ],
   "source": [
    "2 > 1"
   ]
  },
  {
   "cell_type": "markdown",
   "metadata": {},
   "source": [
    "Python interpreted the above as an expression — a line of code that results in a value — and evaluated that value. Since 2 is indeed greater than 1, it returns the value `True`.\n",
    "\n",
    "Now enter this:"
   ]
  },
  {
   "cell_type": "code",
   "execution_count": 63,
   "metadata": {},
   "outputs": [
    {
     "data": {
      "text/plain": [
       "False"
      ]
     },
     "execution_count": 63,
     "metadata": {},
     "output_type": "execute_result"
    }
   ],
   "source": [
    "2 < 1"
   ]
  },
  {
   "cell_type": "markdown",
   "metadata": {},
   "source": [
    "Once again, Python considers what you entered an expression and evaluated its value. 2 is not less than 1, and therefore Python returned the value `False`.\n",
    "\n",
    "Enter this:"
   ]
  },
  {
   "cell_type": "code",
   "execution_count": 64,
   "metadata": {},
   "outputs": [
    {
     "data": {
      "text/plain": [
       "True"
      ]
     },
     "execution_count": 64,
     "metadata": {},
     "output_type": "execute_result"
    }
   ],
   "source": [
    "1 == 1"
   ]
  },
  {
   "cell_type": "markdown",
   "metadata": {},
   "source": [
    "In Python and many other computer programming languages, `==` — two equals signs in a row — is used to test if two values are equivalent.\n",
    "\n",
    "The single equals sign, `=`, is used to assign a value to a *variable*. For instance, the code below says the variable `x` is assigned the value 5:\n",
    "\n",
    "```\n",
    "x = 5\n",
    "```\n",
    "\n",
    "On the other hand, the code below is used to test if the value contained in `x` is equal to 5:\n",
    "\n",
    "```\n",
    "x == 5\n",
    "```\n",
    "\n",
    "So remember:\n",
    "\n",
    "* `=` is used to assign values to variables.\n",
    "* `==` is used to compare two values to see if they’re equal.\n",
    "\n",
    "Here’s a handy table of Python *comparison operators* (also known as *relational operators*):\n",
    "\n",
    "<table>\n",
    "    <tr>\n",
    "        <th style=\"text-align:left\">Operator</th>\n",
    "        <th style=\"text-align:left\">Notes</th>\n",
    "    </tr>\n",
    "    <tr>\n",
    "        <td style=\"text-align:left\"><code>==</code></td>\n",
    "        <td style=\"text-align:left\">\n",
    "            <p><strong>“Is equal to”</strong></p>\n",
    "            <p><code>a == b</code> is <code>True</code> if <code>a</code> and <code>b</code> are equal.</p>\n",
    "        </td>\n",
    "    </tr>\n",
    "    <tr>\n",
    "        <td style=\"text-align:left\"><code>!=</code> or <code>&lt;&gt;</code></td>\n",
    "        <td style=\"text-align:left\">\n",
    "            <p><strong>“Is not equal to”</strong></p>\n",
    "            <p><code>a != b</code> and <code>a &lt;&gt; b</code> are <code>True</code> if <code>a</code> and <code>b</code> are not equal.</p>\n",
    "        </td>\n",
    "    </tr>\n",
    "    <tr>\n",
    "        <td style=\"text-align:left\"><code>&lt;</code></td>\n",
    "        <td style=\"text-align:left\">\n",
    "            <p><strong>“Is less than”</strong></p>\n",
    "            <p><code>a &lt; b</code> is <code>True</code> if <code>a</code> is less than <code>b</code>.</p>\n",
    "        </td>\n",
    "    </tr>\n",
    "    <tr>\n",
    "        <td style=\"text-align:left\"><code>&lt;=</code></td>\n",
    "        <td style=\"text-align:left\">\n",
    "            <p><strong>“Is less than or equal to”</strong></p>\n",
    "            <p><code>a &lt;= b</code> is <code>True</code> if <code>a</code> is less than or equal to <code>b</code>.</p>\n",
    "        </td>\n",
    "    </tr>\n",
    "    <tr>\n",
    "        <td style=\"text-align:left\"><code>&gt;</code></td>\n",
    "        <td style=\"text-align:left\">\n",
    "            <p><strong>“Is greater than”</strong></p>\n",
    "            <p><code>a &gt; b</code> is <code>True</code> if <code>a</code> is greater than <code>b</code>.</p>\n",
    "        </td>\n",
    "    </tr>\n",
    "    <tr>\n",
    "        <td style=\"text-align:left\">&gt;=</td>\n",
    "        <td style=\"text-align:left\">\n",
    "            <p><strong>“Is greater than or equal to”</strong></p>\n",
    "            <p><code>a &gt;= b</code> is <code>True</code> if <code>a</code> is greater than or equal to <code>b</code>.</p>\n",
    "        </td>\n",
    "    </tr>\n",
    "</table>\n",
    "\n",
    "\n",
    "\n"
   ]
  },
  {
   "cell_type": "code",
   "execution_count": 65,
   "metadata": {},
   "outputs": [
    {
     "data": {
      "text/plain": [
       "bool"
      ]
     },
     "execution_count": 65,
     "metadata": {},
     "output_type": "execute_result"
    }
   ],
   "source": [
    "type(2 > 1)"
   ]
  },
  {
   "cell_type": "code",
   "execution_count": 66,
   "metadata": {},
   "outputs": [
    {
     "data": {
      "text/plain": [
       "bool"
      ]
     },
     "execution_count": 66,
     "metadata": {},
     "output_type": "execute_result"
    }
   ],
   "source": [
    "type(2 < 1)"
   ]
  },
  {
   "cell_type": "code",
   "execution_count": 67,
   "metadata": {},
   "outputs": [
    {
     "data": {
      "text/plain": [
       "bool"
      ]
     },
     "execution_count": 67,
     "metadata": {},
     "output_type": "execute_result"
    }
   ],
   "source": [
    "type(2 == 1)"
   ]
  },
  {
   "cell_type": "markdown",
   "metadata": {},
   "source": [
    "In the examples above, `type` says that `2 > 1`, `2 < 1`, and `2 == 1` all are of type `bool` (Boolean)."
   ]
  },
  {
   "cell_type": "markdown",
   "metadata": {},
   "source": [
    "## Variables\n",
    "In computer programs -- Python programs included -- **variables** hold information that will be used and processed. They're also a way to label that information with a descriptive name, so the program can more easily be understood by programmers.\n",
    "\n",
    "Think of variables as boxes or containers that hold data. Once you put data into a variable, you can use that data in your program.\n",
    "\n",
    "\n",
    "### Variables in action\n",
    "\n",
    "Here’s an example of variables in action:"
   ]
  },
  {
   "cell_type": "code",
   "execution_count": 68,
   "metadata": {},
   "outputs": [
    {
     "name": "stdout",
     "output_type": "stream",
     "text": [
      "Here's the score:\n",
      "5\n",
      "Here's the updated score with the bonus multiplier applied:\n",
      "6.0\n"
     ]
    }
   ],
   "source": [
    "score = 5\n",
    "print(\"Here's the score:\")\n",
    "print(score)\n",
    "bonus_multiplier = 1.2\n",
    "score = score * bonus_multiplier\n",
    "message = \"Here's the updated score with the bonus multiplier applied:\"\n",
    "print(message)\n",
    "print(score)"
   ]
  },
  {
   "cell_type": "markdown",
   "metadata": {},
   "source": [
    "Let’s take a look at this line by line.\n",
    "\n",
    "```\n",
    "score = 5\n",
    "```\n",
    "\n",
    "This assigns the integer value `5` to the variable named `score`.\n",
    "\n",
    "```\n",
    "print(\"Here's the score:\")\n",
    "```\n",
    "\n",
    "This prints the text “Here's the score”.\n",
    "\n",
    "```\n",
    "print(score)\n",
    "```\n",
    "\n",
    "Note that this *doesn’t* print the word “score”. Instead, it prints the *contents of the variable `score`*, which is `5`.\n",
    "\n",
    "```\n",
    "bonus_multiplier = 1.2\n",
    "```\n",
    "\n",
    "This assigns the “float” value `1.2` to the variable named `bonus_multiplier`.\n",
    "\n",
    "```\n",
    "score = score * bonus_multiplier\n",
    "```\n",
    "\n",
    "This multiplies the value in the variable `score` by the value in the variable `bonus_multiplier` and stores the result inside the variable `score`.\n",
    "\n",
    "```\n",
    "message = \"Here's the updated score with the bonus multiplier applied:\"\n",
    "```\n",
    "\n",
    "This assigns the string value `Here's the updated score with the bonus multiplier applied:` to the variable named `message`.\n",
    "\n",
    "```\n",
    "print(message)\n",
    "```\n",
    "\n",
    "Once again, note that this *doesn’t* print the word “message”. Instead, it prints the *contents of the variable `message`*, which is “Here's the updated score with the bonus multiplier applied:”.\n",
    "\n",
    "```\n",
    "print(score)\n",
    "```\n",
    "\n",
    "One more time: note that this *doesn’t* print the word “score”. Instead, it prints the *contents of the variable `score`*, which is now `6`."
   ]
  },
  {
   "cell_type": "markdown",
   "metadata": {},
   "source": [
    "### Variable name rules and conventions\n",
    "\n",
    "* Variable names can contain only letters, numbers, and underscores. They can start with a letter or an underscore, but not with a number.\n",
    "* The convention in Python is to use only lowercase letters in variable names. If a variable name is made up of more then one word, separate each word with an underscore character.\n",
    "    * You won’t get an error if you use uppercase letters in a variable name, but uppercase letters in variable names have special meanings that we’ll cover later on.\n",
    "* You can’t use spaces in variable names — the Python interpreter would think that you were trying to use two variables in a row. Use underscores instead.\n",
    "\n",
    "Here are some example variable names:\n",
    "\n",
    "<ul>\n",
    "    <li><code>x</code></li>\n",
    "    <li><code>y</code></li>\n",
    "    <li><code>score</code></li>\n",
    "    <li><code>high_score</code></li>\n",
    "    <li><code>player_2_score</code></li>\n",
    "</ul>"
   ]
  },
  {
   "cell_type": "code",
   "execution_count": null,
   "metadata": {},
   "outputs": [],
   "source": []
  }
 ],
 "metadata": {
  "kernelspec": {
   "display_name": "Python 3",
   "language": "python",
   "name": "python3"
  },
  "language_info": {
   "codemirror_mode": {
    "name": "ipython",
    "version": 3
   },
   "file_extension": ".py",
   "mimetype": "text/x-python",
   "name": "python",
   "nbconvert_exporter": "python",
   "pygments_lexer": "ipython3",
   "version": "3.8.3"
  }
 },
 "nbformat": 4,
 "nbformat_minor": 4
}
