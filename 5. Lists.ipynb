{
 "cells": [
  {
   "cell_type": "markdown",
   "metadata": {},
   "source": [
    "# 5. Lists\n",
    "\n",
    "We don’t just work with single pieces of data, but *large amounts* of it. \n",
    "\n",
    "It makes sense to use a handful of variables to hold a handful of values, but what happens when we need to store dozens, hundreds, thousands, or even hundreds of thousands of values? That’s where **lists** come in handy.\n",
    "\n",
    "> In most other programming languages, lists are called **arrays**. They’re pretty much the same thing."
   ]
  },
  {
   "cell_type": "markdown",
   "metadata": {},
   "source": [
    "## Creating a list\n",
    "Let’s create a list named `flavors`, a list of ice cream flavors. It contains the following strings in the given order:\n",
    "\n",
    "1. vanilla\n",
    "2. chocolate\n",
    "3. strawberry\n",
    "4. jamoca\n",
    "5. rum raisin "
   ]
  },
  {
   "cell_type": "code",
   "execution_count": 1,
   "metadata": {},
   "outputs": [
    {
     "name": "stdout",
     "output_type": "stream",
     "text": [
      "['vanilla', 'chocolate', 'strawberry', 'jamoca', 'rum raisin']\n"
     ]
    }
   ],
   "source": [
    "flavors = ['vanilla', 'chocolate', 'strawberry', 'jamoca', 'rum raisin']\n",
    "print(flavors)"
   ]
  },
  {
   "cell_type": "markdown",
   "metadata": {},
   "source": [
    "## Number of items in the list: `len(`*`list`*`)`\n",
    "Use the `len()` function, whose name is short for *length*, to get the number of items in a list."
   ]
  },
  {
   "cell_type": "code",
   "execution_count": 2,
   "metadata": {
    "scrolled": false
   },
   "outputs": [
    {
     "name": "stdout",
     "output_type": "stream",
     "text": [
      "There are 5 flavors in the list.\n"
     ]
    }
   ],
   "source": [
    "print(f\"There are {len(flavors)} flavors in the list.\")"
   ]
  },
  {
   "cell_type": "markdown",
   "metadata": {},
   "source": [
    "## Getting the value of a specific item in the list: *`list`*`[`*`index`*`]`\n",
    "Use the list’s name followed by the item’s index (its position in the list, which is a number) in square brackets to get the value of a specific item in the list. \n",
    "\n",
    "For example, if you have a list named `my_list` and want to get the value stored at index `2`, you would use `my_list[2]`.\n",
    "\n",
    "Remember that in Python lists, as well as in in most other programming languages’ arrays, list indexes start at `0`."
   ]
  },
  {
   "cell_type": "code",
   "execution_count": 3,
   "metadata": {},
   "outputs": [
    {
     "name": "stdout",
     "output_type": "stream",
     "text": [
      "vanilla\n",
      "chocolate\n",
      "My favorite flavor is jamoca.\n"
     ]
    }
   ],
   "source": [
    "print(flavors[0]) # The index of the first element in a list is 0, not 1.\n",
    "print(flavors[1]) # flavors[1] is the *second* element in the list.\n",
    "\n",
    "message = f\"My favorite flavor is {flavors[3]}.\"\n",
    "print(message) # Outputs \"My favorite flavor is jamoca.\""
   ]
  },
  {
   "cell_type": "markdown",
   "metadata": {},
   "source": [
    "## Getting the value of a specific item in the list, relative to the end of the list: *`list`*`[ -`*`index`*`]`\n",
    "Use negative indexes to get a value of a specific item from the list, where `-1*` is the index of the last item, `-2` is the index of the 2nd-last item, `-3` is the 3rd-last item, and so on."
   ]
  },
  {
   "cell_type": "code",
   "execution_count": 4,
   "metadata": {},
   "outputs": [
    {
     "name": "stdout",
     "output_type": "stream",
     "text": [
      "rum raisin\n",
      "jamoca\n",
      "We're all out of strawberry.\n"
     ]
    }
   ],
   "source": [
    "print(flavors[-1]) # An index of -1 specifies the last element of a list.\n",
    "print(flavors[-2]) # An index of -2 specifies the second last element of a list.\n",
    "\n",
    "message = f\"We're all out of {flavors[-3]}.\"\n",
    "print(message) # Outputs \"We're all out of strawberry.\""
   ]
  },
  {
   "cell_type": "markdown",
   "metadata": {},
   "source": [
    "## Changing the value of an item in the list: *`list`*`[`*`index`*`] = `*`new_value`*\n",
    "What if we wanted to change the second flavor in the list to mint chocolate chip?\n",
    "\n",
    "You’d do that by assigning a new value to `flavors[1]`, the second item in the list."
   ]
  },
  {
   "cell_type": "code",
   "execution_count": 5,
   "metadata": {},
   "outputs": [
    {
     "name": "stdout",
     "output_type": "stream",
     "text": [
      "['vanilla', 'mint chocolate chip', 'strawberry', 'jamoca', 'rum raisin']\n"
     ]
    }
   ],
   "source": [
    "flavors[1] = 'mint chocolate chip' # Changes the flavor at index 1 from chocolate\n",
    "                                   # to mint chocolate chip. \n",
    "print(flavors)"
   ]
  },
  {
   "cell_type": "markdown",
   "metadata": {},
   "source": [
    "## Appending an item to the list: *`list`*`.append(`*`item`*`)`\n",
    "The `append()` method takes an item and adds it to the end of the list."
   ]
  },
  {
   "cell_type": "code",
   "execution_count": 6,
   "metadata": {},
   "outputs": [
    {
     "name": "stdout",
     "output_type": "stream",
     "text": [
      "['vanilla', 'mint chocolate chip', 'strawberry', 'jamoca', 'rum raisin', 'pistachio']\n"
     ]
    }
   ],
   "source": [
    "flavors.append('pistachio') # Adds a new flavor, pistachio, to the end of the list.\n",
    "print(flavors)"
   ]
  },
  {
   "cell_type": "markdown",
   "metadata": {},
   "source": [
    "## Inserting a new item into the list at a specified position: *`list`*`.insert(`*`index`*`,`*`item`*`)`\n",
    "The `insert()` method adds an item to a specified position in a list.\n",
    "\n",
    "It takes two values:\n",
    "1. The index (position) where the new item should be added. Remember that `0` is the first index.\n",
    "2. The item to be added."
   ]
  },
  {
   "cell_type": "code",
   "execution_count": 7,
   "metadata": {},
   "outputs": [
    {
     "name": "stdout",
     "output_type": "stream",
     "text": [
      "Before adding quarterback crunch to position 0:\n",
      "['vanilla', 'mint chocolate chip', 'strawberry', 'jamoca', 'rum raisin', 'pistachio']\n",
      "After adding quarterback crunch to position 0:\n",
      "['quarterback crunch', 'vanilla', 'mint chocolate chip', 'strawberry', 'jamoca', 'rum raisin', 'pistachio']\n",
      "---\n",
      "Before adding pralines and cream to position 2:\n",
      "['quarterback crunch', 'vanilla', 'mint chocolate chip', 'strawberry', 'jamoca', 'rum raisin', 'pistachio']\n",
      "After adding pralines and cream to position 2:\n",
      "['quarterback crunch', 'vanilla', 'pralines and cream', 'mint chocolate chip', 'strawberry', 'jamoca', 'rum raisin', 'pistachio']\n"
     ]
    }
   ],
   "source": [
    "print(f\"Before adding quarterback crunch to position 0:\\n{flavors}\")\n",
    "flavors.insert(0, 'quarterback crunch')\n",
    "print(f\"After adding quarterback crunch to position 0:\\n{flavors}\")\n",
    "print('---')\n",
    "print(f\"Before adding pralines and cream to position 2:\\n{flavors}\")\n",
    "flavors.insert(2, 'pralines and cream')\n",
    "print(f\"After adding pralines and cream to position 2:\\n{flavors}\")"
   ]
  },
  {
   "cell_type": "markdown",
   "metadata": {},
   "source": [
    "## Deleting a specific item from the list, based on its position: `del` *`list`*`[`*`index`*`]`\n",
    "The `del` statement, given a specified item in the list, removes that item from the list.\n",
    "\n",
    "> `del` deletes *any* variable, not just list items."
   ]
  },
  {
   "cell_type": "code",
   "execution_count": 8,
   "metadata": {},
   "outputs": [
    {
     "name": "stdout",
     "output_type": "stream",
     "text": [
      "Before deleting flavors[1]:\n",
      "['quarterback crunch', 'vanilla', 'pralines and cream', 'mint chocolate chip', 'strawberry', 'jamoca', 'rum raisin', 'pistachio']\n",
      "After deleting flavors[1]:\n",
      "['quarterback crunch', 'pralines and cream', 'mint chocolate chip', 'strawberry', 'jamoca', 'rum raisin', 'pistachio']\n",
      "---\n",
      "Before deleting flavors[3]:\n",
      "['quarterback crunch', 'pralines and cream', 'mint chocolate chip', 'strawberry', 'jamoca', 'rum raisin', 'pistachio']\n",
      "After deleting flavors[3]:\n",
      "['quarterback crunch', 'pralines and cream', 'mint chocolate chip', 'jamoca', 'rum raisin', 'pistachio']\n"
     ]
    }
   ],
   "source": [
    "print(f\"Before deleting flavors[1]:\\n{flavors}\")\n",
    "del flavors[1]\n",
    "print(f\"After deleting flavors[1]:\\n{flavors}\")\n",
    "print('---')\n",
    "print(f\"Before deleting flavors[3]:\\n{flavors}\")\n",
    "del flavors[3]\n",
    "print(f\"After deleting flavors[3]:\\n{flavors}\")"
   ]
  },
  {
   "cell_type": "markdown",
   "metadata": {},
   "source": [
    "## Simultaneously accessing and deleting an element from a specified position in the list: *`item`*`= `*`list`*`.pop()`\n",
    "The `pop()` method removes an item from a specified position in the list, but also captures that item so that you can do something with it."
   ]
  },
  {
   "cell_type": "code",
   "execution_count": 9,
   "metadata": {},
   "outputs": [
    {
     "name": "stdout",
     "output_type": "stream",
     "text": [
      "Before popping the element at position 3:\n",
      "['quarterback crunch', 'pralines and cream', 'mint chocolate chip', 'jamoca', 'rum raisin', 'pistachio']\n",
      "After popping the element at position 3:\n",
      "['quarterback crunch', 'pralines and cream', 'mint chocolate chip', 'rum raisin', 'pistachio']\n",
      "Removed this flavor: jamoca\n"
     ]
    }
   ],
   "source": [
    "print(f\"Before popping the element at position 3:\\n{flavors}\")\n",
    "removed_flavor = flavors.pop(3)\n",
    "print(f\"After popping the element at position 3:\\n{flavors}\")\n",
    "print(f\"Removed this flavor: {removed_flavor}\")"
   ]
  },
  {
   "cell_type": "markdown",
   "metadata": {},
   "source": [
    "## Moving an element within the list from position `x` to position `y`: *`list`*`.pop()` and *`list`*`.insert()`\n",
    "There isn’t a built-in Python command to move an item within a list, but you can do this with a `pop()` followed by an `insert()`."
   ]
  },
  {
   "cell_type": "code",
   "execution_count": 10,
   "metadata": {},
   "outputs": [
    {
     "name": "stdout",
     "output_type": "stream",
     "text": [
      "Before moving quarterback crunch to the 3rd position in the list:\n",
      "['quarterback crunch', 'pralines and cream', 'mint chocolate chip', 'rum raisin', 'pistachio']\n",
      "After moving quarterback crunch to the 3rd position in the list:\n",
      "['pralines and cream', 'mint chocolate chip', 'quarterback crunch', 'rum raisin', 'pistachio']\n"
     ]
    }
   ],
   "source": [
    "print(f\"Before moving quarterback crunch to the 3rd position in the list:\\n{flavors}\")\n",
    "flavor_to_move = flavors.pop(0)\n",
    "flavors.insert(2, flavor_to_move)\n",
    "print(f\"After moving quarterback crunch to the 3rd position in the list:\\n{flavors}\")"
   ]
  },
  {
   "cell_type": "markdown",
   "metadata": {},
   "source": [
    "## Removing a specific item from the list, based on its value: *`list`*`.remove(`*`value`*`)`\n",
    "Use the `remove()` method to specify the value of the item you want to remove."
   ]
  },
  {
   "cell_type": "code",
   "execution_count": 11,
   "metadata": {},
   "outputs": [
    {
     "name": "stdout",
     "output_type": "stream",
     "text": [
      "Before removing pistachio from the list:\n",
      "['pralines and cream', 'mint chocolate chip', 'quarterback crunch', 'rum raisin', 'pistachio']\n",
      "After removing pistachio from the list:\n",
      "['pralines and cream', 'mint chocolate chip', 'quarterback crunch', 'rum raisin']\n"
     ]
    }
   ],
   "source": [
    "print(f\"Before removing pistachio from the list:\\n{flavors}\")\n",
    "flavors.remove('pistachio')\n",
    "print(f\"After removing pistachio from the list:\\n{flavors}\")"
   ]
  },
  {
   "cell_type": "markdown",
   "metadata": {},
   "source": [
    "`remove()` removes only the *first* occurrence of an item from a list."
   ]
  },
  {
   "cell_type": "code",
   "execution_count": 12,
   "metadata": {},
   "outputs": [
    {
     "name": "stdout",
     "output_type": "stream",
     "text": [
      "Before removing rum raisin from the list:\n",
      "['pralines and cream', 'mint chocolate chip', 'quarterback crunch', 'rum raisin', 'rum raisin']\n",
      "After removing rum raisin from the list:\n",
      "['pralines and cream', 'mint chocolate chip', 'quarterback crunch', 'rum raisin']\n"
     ]
    }
   ],
   "source": [
    "flavors.append(\"rum raisin\") # Now there will be 2 rum raisins in the list.\n",
    "print(f\"Before removing rum raisin from the list:\\n{flavors}\")\n",
    "flavors.remove(\"rum raisin\")\n",
    "print(f\"After removing rum raisin from the list:\\n{flavors}\")"
   ]
  },
  {
   "cell_type": "markdown",
   "metadata": {},
   "source": [
    "Attempting to `remove()` a value that’s not in the list results in an error. "
   ]
  },
  {
   "cell_type": "code",
   "execution_count": 13,
   "metadata": {},
   "outputs": [
    {
     "ename": "ValueError",
     "evalue": "list.remove(x): x not in list",
     "output_type": "error",
     "traceback": [
      "\u001b[0;31m---------------------------------------------------------------------------\u001b[0m",
      "\u001b[0;31mValueError\u001b[0m                                Traceback (most recent call last)",
      "\u001b[0;32m<ipython-input-13-79eb8d25a647>\u001b[0m in \u001b[0;36m<module>\u001b[0;34m\u001b[0m\n\u001b[0;32m----> 1\u001b[0;31m \u001b[0mflavors\u001b[0m\u001b[0;34m.\u001b[0m\u001b[0mremove\u001b[0m\u001b[0;34m(\u001b[0m\u001b[0;34m\"steak sauce\"\u001b[0m\u001b[0;34m)\u001b[0m\u001b[0;34m\u001b[0m\u001b[0;34m\u001b[0m\u001b[0m\n\u001b[0m",
      "\u001b[0;31mValueError\u001b[0m: list.remove(x): x not in list"
     ]
    }
   ],
   "source": [
    "flavors.remove(\"steak sauce\")"
   ]
  },
  {
   "cell_type": "markdown",
   "metadata": {},
   "source": [
    "## Is a given value in the list?: *`value`*` in `*`list`*\n",
    "Before we continue, let's redefine the list of flavors:"
   ]
  },
  {
   "cell_type": "code",
   "execution_count": null,
   "metadata": {},
   "outputs": [],
   "source": [
    "# Note that green tea appears twice in the list. This is intentional.\n",
    "flavors = ['acai', 'bubble gum', 'cookie dough', 'green tea', 'green tea', 'lemon sherbet']"
   ]
  },
  {
   "cell_type": "markdown",
   "metadata": {},
   "source": [
    "Use the `in` operator to see if an element is in a list."
   ]
  },
  {
   "cell_type": "code",
   "execution_count": null,
   "metadata": {},
   "outputs": [],
   "source": [
    "print(f\"Is green tea in the list of flavors?: {'green tea' in flavors}\")\n",
    "print(f\"Is cappucino in the list of flavors?: {'cappucino' in flavors}\")"
   ]
  },
  {
   "cell_type": "markdown",
   "metadata": {},
   "source": [
    "## Where does a given value appear in the list?: *`list`*`.index(`*`value`*`)`\n",
    "The `index()` method gets the index of the first occurrence of an item in the list."
   ]
  },
  {
   "cell_type": "code",
   "execution_count": null,
   "metadata": {},
   "outputs": [],
   "source": [
    "print(f\"The index of green tea in the list of flavors is {flavors.index('green tea')}.\")"
   ]
  },
  {
   "cell_type": "markdown",
   "metadata": {},
   "source": [
    "What happens if you give index an element that *isn't* in the list?"
   ]
  },
  {
   "cell_type": "code",
   "execution_count": null,
   "metadata": {},
   "outputs": [],
   "source": [
    "# Broccoli isn’t in the list, and trying to get its index results in an error.\n",
    "print(f\"The index of broccoli in the list of flavors is {flavors.index('broccoli')}.\")"
   ]
  },
  {
   "cell_type": "markdown",
   "metadata": {},
   "source": [
    "## How many times does a value appear in the list?: *`list`*`.count(`*`value`*`)`\n",
    "Given an item, the `count()` method returns the number of times an element appears in the list. If the item *doesn't* appear in the list, `count()` returns 0."
   ]
  },
  {
   "cell_type": "code",
   "execution_count": null,
   "metadata": {},
   "outputs": [],
   "source": [
    "print(f\"Green tea appears {flavors.count('green tea')} times in the list of flavors.\")\n",
    "print(f\"Cappucino appears {flavors.count('cappucino')} times in the list of flavors.\")"
   ]
  },
  {
   "cell_type": "markdown",
   "metadata": {},
   "source": [
    "## Sorting the contents of a list\n",
    "First, let's add a few flavors to the list:"
   ]
  },
  {
   "cell_type": "code",
   "execution_count": null,
   "metadata": {},
   "outputs": [],
   "source": [
    "flavors.append('lemon sherbet')\n",
    "flavors.append('green tea')\n",
    "flavors.append('cookie dough')\n",
    "flavors.append('bubble gum')\n",
    "flavors.append('acai')"
   ]
  },
  {
   "cell_type": "markdown",
   "metadata": {},
   "source": [
    "Use the `sort()` method to sort the elements in a list."
   ]
  },
  {
   "cell_type": "code",
   "execution_count": null,
   "metadata": {},
   "outputs": [],
   "source": [
    "print(f\"Before sorting the list:\\n{flavors}\")\n",
    "flavors.sort()\n",
    "print(f\"After sorting the list:\\n{flavors}\")"
   ]
  },
  {
   "cell_type": "markdown",
   "metadata": {},
   "source": [
    "## Create a sorted copy of a list\n",
    "The `sorted()` function creates a sorted copy of a list. The original list remains unchanged."
   ]
  },
  {
   "cell_type": "code",
   "execution_count": null,
   "metadata": {},
   "outputs": [],
   "source": [
    "unsorted_flavors = ['quarterback crunch', 'pralines and cream', 'mint chocolate chip', 'rum raisin', 'lemon sherbet', 'green tea', 'cookie dough', 'bubble gum', 'acai']\n",
    "print(f\"The unsorted flavors:\\n{unsorted_flavors}\")\n",
    "sorted_flavors = sorted(unsorted_flavors)\n",
    "print(f\"Here's the new list, with sorted flavors':\\n{sorted_flavors}\")\n",
    "print(f\"And here's the original list':\\n{unsorted_flavors}\")"
   ]
  },
  {
   "cell_type": "markdown",
   "metadata": {},
   "source": [
    "## Reversing the order of a list\n",
    "The `reverse()` method to reverse the order of a list."
   ]
  },
  {
   "cell_type": "code",
   "execution_count": null,
   "metadata": {},
   "outputs": [],
   "source": [
    "flavors.reverse()\n",
    "print(f\"The flavors, in reverse order:\\n{flavors}\")"
   ]
  },
  {
   "cell_type": "markdown",
   "metadata": {},
   "source": [
    "**Did you notice...?** We reversed a sorted list. The end result is a list in reverse alphabetical order."
   ]
  }
 ],
 "metadata": {
  "celltoolbar": "Raw Cell Format",
  "kernelspec": {
   "display_name": "Python 3",
   "language": "python",
   "name": "python3"
  },
  "language_info": {
   "codemirror_mode": {
    "name": "ipython",
    "version": 3
   },
   "file_extension": ".py",
   "mimetype": "text/x-python",
   "name": "python",
   "nbconvert_exporter": "python",
   "pygments_lexer": "ipython3",
   "version": "3.8.3"
  }
 },
 "nbformat": 4,
 "nbformat_minor": 4
}
