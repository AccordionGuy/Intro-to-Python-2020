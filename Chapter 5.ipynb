{
 "cells": [
  {
   "cell_type": "markdown",
   "metadata": {},
   "source": [
    "# Chapter 5: `If` statements\n",
    "\n",
    "## Checking for equality"
   ]
  },
  {
   "cell_type": "code",
   "execution_count": 5,
   "metadata": {},
   "outputs": [
    {
     "name": "stdout",
     "output_type": "stream",
     "text": [
      "It's room temperature.\n"
     ]
    }
   ],
   "source": [
    "temperature = 70\n",
    "\n",
    "if temperature == 70:\n",
    "    print(\"It's room temperature.\")"
   ]
  },
  {
   "cell_type": "markdown",
   "metadata": {},
   "source": [
    "### The difference between `=` and `==`\n",
    "Take a closer look at the code. First, we use `=` to create a variable named `temperature` and assign the value **70** to it:\n",
    "\n",
    "`temperature = 70`\n",
    "\n",
    "Then, we use an `if` statement to print the string \"**It's room temperature.**\" if temperature's value is equal to **70**.\n",
    "\n",
    "```\n",
    "if temperature == 70:\n",
    "    print(\"It's room temperature.\")\n",
    "```\n",
    "\n",
    "The `==` is shorthand in many computer programming languages for \"is equal to\".\n",
    "\n",
    "Let's change the value in `temperature` to **60** and try using the same `if` statement again:"
   ]
  },
  {
   "cell_type": "code",
   "execution_count": 6,
   "metadata": {},
   "outputs": [],
   "source": [
    "temperature = 60\n",
    "\n",
    "if temperature == 70:\n",
    "    print(\"It's room temperature.\")"
   ]
  },
  {
   "cell_type": "markdown",
   "metadata": {},
   "source": [
    "## Checking for inequality"
   ]
  },
  {
   "cell_type": "markdown",
   "metadata": {},
   "source": [
    "Let's change the `if` statement a little. How about if we make it so that it prints out a message if the value in `temperature` is above 32?"
   ]
  },
  {
   "cell_type": "code",
   "execution_count": 7,
   "metadata": {},
   "outputs": [
    {
     "name": "stdout",
     "output_type": "stream",
     "text": [
      "It's above freezing.\n"
     ]
    }
   ],
   "source": [
    "if temperature > 32:\n",
    "    print(\"It's above freezing.\")"
   ]
  },
  {
   "cell_type": "markdown",
   "metadata": {},
   "source": []
  },
  {
   "cell_type": "code",
   "execution_count": 8,
   "metadata": {},
   "outputs": [],
   "source": [
    "if temperature >= 70:\n",
    "    print(\"It's at or above room temperature.\")"
   ]
  },
  {
   "cell_type": "markdown",
   "metadata": {},
   "source": [
    "## Checking for multiple conditions"
   ]
  }
 ],
 "metadata": {
  "kernelspec": {
   "display_name": "Python 3",
   "language": "python",
   "name": "python3"
  },
  "language_info": {
   "codemirror_mode": {
    "name": "ipython",
    "version": 3
   },
   "file_extension": ".py",
   "mimetype": "text/x-python",
   "name": "python",
   "nbconvert_exporter": "python",
   "pygments_lexer": "ipython3",
   "version": "3.8.3"
  }
 },
 "nbformat": 4,
 "nbformat_minor": 4
}
