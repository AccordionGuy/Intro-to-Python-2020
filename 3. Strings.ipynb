{
 "cells": [
  {
   "cell_type": "markdown",
   "metadata": {},
   "source": [
    "# 3. Working with strings\n",
    "\n",
    "**Strings** are the data type that stores text. The name comes from the concept of text as a string of characters.\n",
    "\n",
    "Strings can be made up any combination of:\n",
    "\n",
    "* Letters (including glyphs from non-Roman alphabets)\n",
    "* Numbers\n",
    "* Punctuation\n",
    "* “White space” characters such as spaces, tabs, newlines, and so on\n",
    "* Other characters such as emoji\n",
    "\n",
    "\n",
    "## Creating a string\n",
    "\n",
    "Here’s how you assign strings to variables:"
   ]
  },
  {
   "cell_type": "code",
   "execution_count": 14,
   "metadata": {},
   "outputs": [
    {
     "name": "stdout",
     "output_type": "stream",
     "text": [
      "St. Petersburg\n",
      "Florida\n"
     ]
    }
   ],
   "source": [
    "city = \"St. Petersburg\"\n",
    "state = 'Florida'\n",
    "\n",
    "print(city)\n",
    "print(state)"
   ]
  },
  {
   "cell_type": "markdown",
   "metadata": {},
   "source": [
    "Note that string values — which in the code above are *St. Petersburg* and *Florida* are enclosed in quote characters. The single- and double-quotes mean the same thing: they specify that the value within is a string.\n",
    "\n",
    "\n",
    "## Building strings with `+`\n",
    "\n",
    "Programs spend a lot of their time presenting information to their users. They often do this by composing strings by combining pre-fabricated text and computed data.\n",
    "\n",
    "Here’s an example of code doing just that:"
   ]
  },
  {
   "cell_type": "code",
   "execution_count": 15,
   "metadata": {},
   "outputs": [
    {
     "name": "stdout",
     "output_type": "stream",
     "text": [
      "The city of St. Petersburg is located in the state of Florida.\n"
     ]
    }
   ],
   "source": [
    "print(\"The city of \" + city + \" is located in the state of \" + state + \".\")"
   ]
  },
  {
   "cell_type": "markdown",
   "metadata": {},
   "source": [
    "When working with strings, the `+` operator “adds” two strings together by attaching the second string to the end of the first string. This process is called *concatenation*.\n",
    "\n",
    "\n",
    "## Building strings with f-strings\n",
    "\n",
    "Python 3.0 incorporated the concept of f-strings, which is short for *formatted strings*. These strings allow you to seamlessly blend literal text and variables seamlessly.\n",
    "\n",
    "Here’s an example:"
   ]
  },
  {
   "cell_type": "code",
   "execution_count": 16,
   "metadata": {},
   "outputs": [
    {
     "name": "stdout",
     "output_type": "stream",
     "text": [
      "The city of St. Petersburg is located in the state of Florida.\n"
     ]
    }
   ],
   "source": [
    "print(f\"The city of {city} is located in the state of {state}.\")"
   ]
  },
  {
   "cell_type": "markdown",
   "metadata": {},
   "source": [
    "Note the `f` in front of the opening quote of the string. That’s not a typo — it specifies that the string is an f-string.\n",
    "\n",
    "The `{` and `}` characters, inside a string (remember, strings are values enclosed by quotes), specify a placeholder that will be replaced by a value. \n",
    "\n",
    "In the code above:\n",
    "\n",
    "* `{city}` will be replaced with the contents of the variable `city`, which is *St. Petersburg*.\n",
    "* `{state}` will be replaced with the contents of the variable `state`, which is *Florida*."
   ]
  },
  {
   "cell_type": "markdown",
   "metadata": {},
   "source": [
    "## Length of a string (How many characters it has): `len(`*`string`*`)` \n",
    "\n",
    "Use Python’s `len()` function to return the number of characters in a given string. Do this by providing the string as an argument to `len()`:"
   ]
  },
  {
   "cell_type": "code",
   "execution_count": 17,
   "metadata": {},
   "outputs": [
    {
     "data": {
      "text/plain": [
       "6"
      ]
     },
     "execution_count": 17,
     "metadata": {},
     "output_type": "execute_result"
    }
   ],
   "source": [
    "len(\"Python\")"
   ]
  },
  {
   "cell_type": "code",
   "execution_count": 18,
   "metadata": {},
   "outputs": [
    {
     "name": "stdout",
     "output_type": "stream",
     "text": [
      "9\n"
     ]
    }
   ],
   "source": [
    "greeting = \"Hey there\"\n",
    "print(len(greeting))"
   ]
  },
  {
   "cell_type": "markdown",
   "metadata": {},
   "source": [
    "## Changing case in strings\n",
    "\n",
    "### Titlecasing (capitalizing each word) a string: `title(`*`string`*`)`\n",
    "\n",
    "Use the `title()` function to capitalize each word in a string."
   ]
  },
  {
   "cell_type": "code",
   "execution_count": 19,
   "metadata": {},
   "outputs": [
    {
     "name": "stdout",
     "output_type": "stream",
     "text": [
      "Ada Lovelace is considered to be one of the first programmers.\n"
     ]
    }
   ],
   "source": [
    "name = \"ada lovelace\"\n",
    "print(f\"{name.title()} is considered to be one of the first programmers.\")"
   ]
  },
  {
   "cell_type": "markdown",
   "metadata": {},
   "source": [
    "Note that the original variable is unchanged:"
   ]
  },
  {
   "cell_type": "code",
   "execution_count": 20,
   "metadata": {},
   "outputs": [
    {
     "name": "stdout",
     "output_type": "stream",
     "text": [
      "ada lovelace\n"
     ]
    }
   ],
   "source": [
    "print(name)"
   ]
  },
  {
   "cell_type": "markdown",
   "metadata": {},
   "source": [
    "If you want to store the titlecased version, assign it to a new variable..."
   ]
  },
  {
   "cell_type": "code",
   "execution_count": 21,
   "metadata": {},
   "outputs": [
    {
     "name": "stdout",
     "output_type": "stream",
     "text": [
      "The variable 'name' contains: ada lovelace.\n",
      "The variable 'titlecase_name' contains: Ada Lovelace.\n"
     ]
    }
   ],
   "source": [
    "titlecase_name = name.title()\n",
    "print(f\"The variable 'name' contains: {name}.\")\n",
    "print(f\"The variable 'titlecase_name' contains: {titlecase_name}.\")"
   ]
  },
  {
   "cell_type": "markdown",
   "metadata": {},
   "source": [
    "...or assign the uppercase version to the original variable:"
   ]
  },
  {
   "cell_type": "code",
   "execution_count": 22,
   "metadata": {},
   "outputs": [
    {
     "name": "stdout",
     "output_type": "stream",
     "text": [
      "The variable 'name' contains: Ada Lovelace.\n"
     ]
    }
   ],
   "source": [
    "name = name.title()\n",
    "print(f\"The variable 'name' contains: {name}.\")"
   ]
  },
  {
   "cell_type": "markdown",
   "metadata": {},
   "source": [
    "### Converting a string to all uppercase: `upper(`*`string`*`)`"
   ]
  },
  {
   "cell_type": "code",
   "execution_count": 23,
   "metadata": {},
   "outputs": [
    {
     "name": "stdout",
     "output_type": "stream",
     "text": [
      "ADA LOVELACE\n"
     ]
    }
   ],
   "source": [
    "print(name.upper())"
   ]
  },
  {
   "cell_type": "markdown",
   "metadata": {},
   "source": [
    "Once again, if you want to store the all-uppercase version, assign it to a new variable..."
   ]
  },
  {
   "cell_type": "code",
   "execution_count": 24,
   "metadata": {},
   "outputs": [
    {
     "name": "stdout",
     "output_type": "stream",
     "text": [
      "The variable 'name' contains: Ada Lovelace.\n",
      "The variable 'uppercase_name' contains: ADA LOVELACE.\n"
     ]
    }
   ],
   "source": [
    "uppercase_name = name.upper()\n",
    "print (f\"The variable 'name' contains: {name}.\")\n",
    "print(f\"The variable 'uppercase_name' contains: {uppercase_name}.\")"
   ]
  },
  {
   "cell_type": "markdown",
   "metadata": {},
   "source": [
    "...or assign the uppercase version to the original variable:"
   ]
  },
  {
   "cell_type": "code",
   "execution_count": null,
   "metadata": {},
   "outputs": [],
   "source": [
    "name = name.upper()\n",
    "print (f\"The variable 'name' contains: {name}.\")"
   ]
  },
  {
   "cell_type": "markdown",
   "metadata": {},
   "source": [
    "### Converting a string to all lowercase: `lower(`*`string`*`)`"
   ]
  },
  {
   "cell_type": "code",
   "execution_count": null,
   "metadata": {},
   "outputs": [],
   "source": [
    "print(name.lower())"
   ]
  },
  {
   "cell_type": "markdown",
   "metadata": {},
   "source": [
    "Once again, if you want to store the all-lowercase version, assign it to a new variable..."
   ]
  },
  {
   "cell_type": "code",
   "execution_count": null,
   "metadata": {},
   "outputs": [],
   "source": [
    "lowercase_name = name.lower()\n",
    "print (f\"The variable 'name' contains: {name}.\")\n",
    "print(f\"The variable 'lowercase_name' contains: {lowercase_name}.\")"
   ]
  },
  {
   "cell_type": "markdown",
   "metadata": {},
   "source": [
    "...or assign the lowercase version to the original variable:"
   ]
  },
  {
   "cell_type": "code",
   "execution_count": null,
   "metadata": {},
   "outputs": [],
   "source": [
    "name = name.lower()\n",
    "print (f\"The variable 'name' contains: {name}.\")"
   ]
  },
  {
   "cell_type": "markdown",
   "metadata": {},
   "source": [
    "## So many other string functions\n",
    "\n",
    "Want to know what other kinds of things you can do with strings? We’ll cover them later on in the course, and I’ll expand this section, but in the meantime, check out these resources:\n",
    "\n",
    "* [Python 3 String Methods](https://www.python-ds.com/python-3-string-methods)\n",
    "* [Chapter 6 of the online book *Automate the Boring Stuff with Python* has a chapter on manipulating strings.](https://automatetheboringstuff.com/2e/chapter6/)\n",
    "* [Programiz’ tutorial on Python strings](https://www.programiz.com/python-programming/string)\n"
   ]
  },
  {
   "cell_type": "code",
   "execution_count": null,
   "metadata": {},
   "outputs": [],
   "source": []
  }
 ],
 "metadata": {
  "kernelspec": {
   "display_name": "Python 3",
   "language": "python",
   "name": "python3"
  },
  "language_info": {
   "codemirror_mode": {
    "name": "ipython",
    "version": 3
   },
   "file_extension": ".py",
   "mimetype": "text/x-python",
   "name": "python",
   "nbconvert_exporter": "python",
   "pygments_lexer": "ipython3",
   "version": "3.8.3"
  }
 },
 "nbformat": 4,
 "nbformat_minor": 4
}
