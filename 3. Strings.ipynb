{
 "cells": [
  {
   "cell_type": "markdown",
   "metadata": {},
   "source": [
    "# 3. Working with strings\n",
    "\n",
    "**Strings** are the data type that stores text. The name comes from the concept of text as a string of characters.\n",
    "\n",
    "Strings can be made up any combination of:\n",
    "\n",
    "* Letters (including glyphs from non-Roman alphabets)\n",
    "* Numbers\n",
    "* Punctuation\n",
    "* “White space” characters such as spaces, tabs, newlines, and so on\n",
    "* Other characters such as emoji\n",
    "\n",
    "\n",
    "## Creating a string\n",
    "\n",
    "Here’s how you assign strings to variables:"
   ]
  },
  {
   "cell_type": "code",
   "execution_count": 1,
   "metadata": {},
   "outputs": [
    {
     "name": "stdout",
     "output_type": "stream",
     "text": [
      "St. Petersburg\n",
      "Florida\n"
     ]
    }
   ],
   "source": [
    "city = \"St. Petersburg\"\n",
    "state = 'Florida'\n",
    "\n",
    "print(city)\n",
    "print(state)"
   ]
  },
  {
   "cell_type": "markdown",
   "metadata": {},
   "source": [
    "Note that string values — which in the code above are *St. Petersburg* and *Florida* are enclosed in quote characters. The single- and double-quotes mean the same thing: they specify that the value within is a string.\n",
    "\n",
    "\n",
    "## Building strings with `+`\n",
    "\n",
    "Programs spend a lot of their time presenting information to their users. They often do this by composing strings by combining pre-fabricated text and computed data.\n",
    "\n",
    "Here’s an example of code doing just that:"
   ]
  },
  {
   "cell_type": "code",
   "execution_count": 2,
   "metadata": {},
   "outputs": [
    {
     "name": "stdout",
     "output_type": "stream",
     "text": [
      "The city of St. Petersburg is located in the state of Florida.\n"
     ]
    }
   ],
   "source": [
    "print(\"The city of \" + city + \" is located in the state of \" + state + \".\")"
   ]
  },
  {
   "cell_type": "markdown",
   "metadata": {},
   "source": [
    "When working with strings, the `+` operator “adds” two strings together by attaching the second string to the end of the first string. This process is called *concatenation*.\n",
    "\n",
    "\n",
    "## Building strings with f-strings\n",
    "\n",
    "Python 3.0 incorporated the concept of f-strings, which is short for *formatted strings*. These strings allow you to seamlessly blend literal text and variables seamlessly.\n",
    "\n",
    "Here’s an example:"
   ]
  },
  {
   "cell_type": "code",
   "execution_count": 5,
   "metadata": {},
   "outputs": [
    {
     "name": "stdout",
     "output_type": "stream",
     "text": [
      "The city of St. Petersburg is located in the state of Florida.\n"
     ]
    }
   ],
   "source": [
    "print(f\"The city of {city} is located in the state of {state}.\")"
   ]
  },
  {
   "cell_type": "markdown",
   "metadata": {},
   "source": [
    "Note the `f` in front of the opening quote of the string. That’s not a typo — it specifies that the string is an f-string.\n",
    "\n",
    "The `{` and `}` characters, inside a string (remember, strings are values enclosed by quotes), specify a placeholder that will be replaced by a value. \n",
    "\n",
    "In the code above:\n",
    "\n",
    "* `{city}` will be replaced with the contents of the variable `city`, which is *St. Petersburg*.\n",
    "* `{state}` will be replaced with the contents of the variable `state`, which is *Florida*."
   ]
  }
 ],
 "metadata": {
  "kernelspec": {
   "display_name": "Python 3",
   "language": "python",
   "name": "python3"
  },
  "language_info": {
   "codemirror_mode": {
    "name": "ipython",
    "version": 3
   },
   "file_extension": ".py",
   "mimetype": "text/x-python",
   "name": "python",
   "nbconvert_exporter": "python",
   "pygments_lexer": "ipython3",
   "version": "3.8.3"
  }
 },
 "nbformat": 4,
 "nbformat_minor": 4
}
