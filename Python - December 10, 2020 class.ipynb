{
 "cells": [
  {
   "cell_type": "markdown",
   "metadata": {},
   "source": [
    "# A second look at the Dictionary program\n",
    "\n",
    "\n",
    "## Code from the previous class\n",
    "\n",
    "Here’s the complete code for the dictionary program that we worked on last time:"
   ]
  },
  {
   "cell_type": "code",
   "execution_count": null,
   "metadata": {},
   "outputs": [],
   "source": [
    "# dictionary.py\n",
    "# -------------\n",
    "# Remember, the file “english_dictionary.json”\n",
    "# must be in the same directory as this file\n",
    "# in order for the program to work!\n",
    "\n",
    "import json\n",
    "\n",
    "dictionary = json.load(open(\"english_dictionary.json\"))\n",
    "\n",
    "\n",
    "def display_definitions(word):\n",
    "    definitions = dictionary[word]\n",
    "    definitions_count = len(definitions)\n",
    "    plural_indicator = \"\"\n",
    "    if definitions_count > 1:\n",
    "        plural_indicator = \"s\"\n",
    "    print(f\"{word} has {definitions_count} definition{plural_indicator}:\")\n",
    "    for definition in definitions:\n",
    "        print(f\"- {definition}\")\n",
    "\n",
    "\n",
    "while True:\n",
    "    lookup_word_raw = input(\"What word would you like to look up? \")\n",
    "    if lookup_word_raw.strip() == \"\":\n",
    "        break\n",
    "    lookup_word = lookup_word_raw.strip().lower() # remove leading/trailing spaces\n",
    "    if lookup_word in dictionary:\n",
    "        display_definitions(lookup_word)\n",
    "    elif lookup_word.upper() in dictionary:\n",
    "        display_definitions(lookup_word.upper())\n",
    "    elif lookup_word.title() in dictionary:\n",
    "        display_definitions(lookup_word.title())\n",
    "    else:\n",
    "        print(f\"I don't have a definition for {lookup_word}.\")"
   ]
  },
  {
   "cell_type": "markdown",
   "metadata": {},
   "source": [
    "## Improving the program by listing close matches to unrecognized words\n",
    "\n",
    "If the user mispells the word that they want to look up, the program responds with “I don’t have a definition for *(the word)*.”\n",
    "\n",
    "It would be nice if the program could provide a list of close matches that are in the dictionary. We can do that with [Python’s **difflib** library](https://iq.opengenus.org/difflib-module-in-python/), which contains all sorts of functions and other goodies for comparing sets of data.\n",
    "\n",
    "We’re going to `import` **difflib** into our program in order to take advantage of one of its more useful functions: `get_close_matches()`.\n",
    "\n",
    "By default, `get_close_matches()` takes two arguments:\n",
    "\n",
    "1. A word for which you want to find close matches.\n",
    "2. A list of words that are potential close matches.\n",
    "\n",
    "Consider this example:"
   ]
  },
  {
   "cell_type": "code",
   "execution_count": 2,
   "metadata": {},
   "outputs": [
    {
     "data": {
      "text/plain": [
       "['apple', 'ape']"
      ]
     },
     "execution_count": 2,
     "metadata": {},
     "output_type": "execute_result"
    }
   ],
   "source": [
    "from difflib import get_close_matches\n",
    "\n",
    "get_close_matches('appel', ['ape', 'apple', 'peach', 'puppy'])"
   ]
  },
  {
   "cell_type": "markdown",
   "metadata": {},
   "source": [
    "We’ll use `get_close_matches()` to provide a list of close matches that *are* in the dictionary when the user enters a word that the program doesn’t recognize.\n",
    "\n",
    "You might be asking: Where will we get the list of potential close matches?\n",
    "\n",
    "The answer is: The dictionary itself! The dictionary’s **keys** are the words that you can look up, and we can use the dictionary’s `keys()` method to access all those words in list form.\n",
    "\n",
    "Here’s the updated program that we wrote:"
   ]
  },
  {
   "cell_type": "code",
   "execution_count": null,
   "metadata": {},
   "outputs": [],
   "source": [
    "# dictionary2.py\n",
    "# --------------\n",
    "# Remember, the file “english_dictionary.json”\n",
    "# must be in the same directory as this file\n",
    "# in order for the program to work!\n",
    "\n",
    "import json\n",
    "from difflib import get_close_matches\n",
    "\n",
    "dictionary = json.load(open(\"english_dictionary.json\"))\n",
    "\n",
    "def display_definitions(word):\n",
    "    definitions = dictionary[word]\n",
    "    definitions_count = len(definitions)\n",
    "\n",
    "    plural_indicator = \"\"\n",
    "    if definitions_count > 1:\n",
    "        plural_indicator = \"s\"\n",
    "\n",
    "    print(f\"{word} has {definitions_count} definition{plural_indicator}:\")\n",
    "    for definition in definitions:\n",
    "        print(f\"- {definition}\")\n",
    "\n",
    "\n",
    "while True:\n",
    "    lookup_word_raw = input(\"What word would you like to look up? \")\n",
    "    if lookup_word_raw.strip() == \"\":\n",
    "        break\n",
    "\n",
    "    lookup_word = lookup_word_raw.strip().lower() # remove leading/trailing spaces\n",
    "\n",
    "    if lookup_word in dictionary:\n",
    "        display_definitions(lookup_word)\n",
    "    elif lookup_word.upper() in dictionary:\n",
    "        display_definitions(lookup_word.upper())\n",
    "    elif lookup_word.title() in dictionary:\n",
    "        display_definitions(lookup_word.title())\n",
    "    else:\n",
    "        print(f\"I don't have a definition for {lookup_word}.\")\n",
    "        suggestions = get_close_matches(lookup_word, dictionary.keys(), 6, 0.5)\n",
    "        if len(suggestions) > 0:\n",
    "            print(\"Did you mean...\")\n",
    "            for suggestion in suggestions:\n",
    "                print(f\"- {suggestion}\")"
   ]
  },
  {
   "cell_type": "markdown",
   "metadata": {},
   "source": [
    "If you’d like to learn more about what you can do with **difflib**, take a look at [***Learning Python's difflib Module***\n",
    "](https://iq.opengenus.org/difflib-module-in-python/)."
   ]
  },
  {
   "cell_type": "code",
   "execution_count": 18,
   "metadata": {},
   "outputs": [
    {
     "name": "stdout",
     "output_type": "stream",
     "text": [
      "https://api.openweathermap.org/data/2.5/weather?q=Tampa&appid=f5d5125fa1eca22a5d2e89b8bf1a594c&units=imperial\n"
     ]
    }
   ],
   "source": [
    "import requests # We use this to make requests from web services\n",
    "import json     # Converts JSON into Python data structures\n",
    "\n",
    "base_url = \"https://api.openweathermap.org/data/2.5/weather?\"\n",
    "city = \"Tampa\"\n",
    "api_key = \"f5d5125fa1eca22a5d2e89b8bf1a594c\"\n",
    "\n",
    "# Form the request URL\n",
    "request_url = f\"{base_url}q={city}&appid={api_key}&units=imperial\"\n",
    "print(request_url)"
   ]
  },
  {
   "cell_type": "code",
   "execution_count": 19,
   "metadata": {},
   "outputs": [
    {
     "name": "stdout",
     "output_type": "stream",
     "text": [
      "{'coord': {'lon': -82.46, 'lat': 27.95}, 'weather': [{'id': 803, 'main': 'Clouds', 'description': 'broken clouds', 'icon': '04n'}], 'base': 'stations', 'main': {'temp': 61.16, 'feels_like': 58.64, 'temp_min': 55.4, 'temp_max': 64.99, 'pressure': 1022, 'humidity': 67}, 'visibility': 10000, 'wind': {'speed': 4.68, 'deg': 355}, 'clouds': {'all': 75}, 'dt': 1607647982, 'sys': {'type': 1, 'id': 6046, 'country': 'US', 'sunrise': 1607602250, 'sunset': 1607639713}, 'timezone': -18000, 'id': 4174757, 'name': 'Tampa', 'cod': 200}\n"
     ]
    }
   ],
   "source": [
    "# Make the request to server\n",
    "response = requests.get(request_url)\n",
    "\n",
    "if response.status_code == 200:\n",
    "    # Successfully got info from server!\n",
    "    data = response.json()\n",
    "    print(data)\n",
    "    \n",
    "else:\n",
    "    print(f\"Technical trouble: {response.status_code}\")"
   ]
  },
  {
   "cell_type": "code",
   "execution_count": 24,
   "metadata": {
    "scrolled": true
   },
   "outputs": [
    {
     "data": {
      "text/plain": [
       "{'coord': {'lon': -82.46, 'lat': 27.95},\n",
       " 'weather': [{'id': 803,\n",
       "   'main': 'Clouds',\n",
       "   'description': 'broken clouds',\n",
       "   'icon': '04n'}],\n",
       " 'base': 'stations',\n",
       " 'main': {'temp': 61.16,\n",
       "  'feels_like': 58.64,\n",
       "  'temp_min': 55.4,\n",
       "  'temp_max': 64.99,\n",
       "  'pressure': 1022,\n",
       "  'humidity': 67},\n",
       " 'visibility': 10000,\n",
       " 'wind': {'speed': 4.68, 'deg': 355},\n",
       " 'clouds': {'all': 75},\n",
       " 'dt': 1607647982,\n",
       " 'sys': {'type': 1,\n",
       "  'id': 6046,\n",
       "  'country': 'US',\n",
       "  'sunrise': 1607602250,\n",
       "  'sunset': 1607639713},\n",
       " 'timezone': -18000,\n",
       " 'id': 4174757,\n",
       " 'name': 'Tampa',\n",
       " 'cod': 200}"
      ]
     },
     "execution_count": 24,
     "metadata": {},
     "output_type": "execute_result"
    }
   ],
   "source": [
    "data"
   ]
  },
  {
   "cell_type": "code",
   "execution_count": 25,
   "metadata": {},
   "outputs": [
    {
     "data": {
      "text/plain": [
       "'Clouds'"
      ]
     },
     "execution_count": 25,
     "metadata": {},
     "output_type": "execute_result"
    }
   ],
   "source": [
    "data['weather'][0]['main']"
   ]
  },
  {
   "cell_type": "code",
   "execution_count": 26,
   "metadata": {},
   "outputs": [
    {
     "data": {
      "text/plain": [
       "'broken clouds'"
      ]
     },
     "execution_count": 26,
     "metadata": {},
     "output_type": "execute_result"
    }
   ],
   "source": [
    "data['weather'][0]['description']"
   ]
  },
  {
   "cell_type": "code",
   "execution_count": 27,
   "metadata": {},
   "outputs": [
    {
     "data": {
      "text/plain": [
       "61.16"
      ]
     },
     "execution_count": 27,
     "metadata": {},
     "output_type": "execute_result"
    }
   ],
   "source": [
    "data['main']['temp']"
   ]
  },
  {
   "cell_type": "code",
   "execution_count": 35,
   "metadata": {},
   "outputs": [],
   "source": [
    "def describe_temperatures(temperatures):\n",
    "    description = f\"\"\"\n",
    "Today\\'s temperature is {round(temperatures['temp'])}, with a high of\n",
    "{round(temperatures['temp_max'])} and a low of {round(temperatures['temp_min'])}.\n",
    "    \"\"\"\n",
    "    print(description)"
   ]
  },
  {
   "cell_type": "code",
   "execution_count": 36,
   "metadata": {},
   "outputs": [
    {
     "name": "stdout",
     "output_type": "stream",
     "text": [
      "\n",
      "Today's temperature is 61, with a high of\n",
      "65 and a low of 55.\n",
      "    \n"
     ]
    }
   ],
   "source": [
    "describe_temperatures(data['main'])"
   ]
  },
  {
   "cell_type": "code",
   "execution_count": 39,
   "metadata": {},
   "outputs": [],
   "source": [
    "def is_sweater_weather(temperatures):\n",
    "    return temperatures['temp'] < 66"
   ]
  },
  {
   "cell_type": "code",
   "execution_count": 40,
   "metadata": {},
   "outputs": [
    {
     "data": {
      "text/plain": [
       "True"
      ]
     },
     "execution_count": 40,
     "metadata": {},
     "output_type": "execute_result"
    }
   ],
   "source": [
    "is_sweater_weather(data['main'])"
   ]
  },
  {
   "cell_type": "code",
   "execution_count": 42,
   "metadata": {},
   "outputs": [],
   "source": [
    "def fahrenheit_to_celsius(degrees_fahrenheit):\n",
    "    return (degrees_fahrenheit - 32) * 5 / 9"
   ]
  },
  {
   "cell_type": "code",
   "execution_count": 44,
   "metadata": {},
   "outputs": [
    {
     "data": {
      "text/plain": [
       "37.0"
      ]
     },
     "execution_count": 44,
     "metadata": {},
     "output_type": "execute_result"
    }
   ],
   "source": [
    "fahrenheit_to_celsius(98.6)"
   ]
  },
  {
   "cell_type": "code",
   "execution_count": 45,
   "metadata": {},
   "outputs": [],
   "source": [
    "def describe_temperatures_celsius(temperatures):\n",
    "    description = f\"\"\"\n",
    "Today\\'s temperature is {round(fahrenheit_to_celsius(temperatures['temp']))}, with a high of\n",
    "{round(fahrenheit_to_celsius(temperatures['temp_max']))} and a low of {round(fahrenheit_to_celsius(temperatures['temp_min']))}.\n",
    "    \"\"\"\n",
    "    print(description)"
   ]
  },
  {
   "cell_type": "code",
   "execution_count": 46,
   "metadata": {},
   "outputs": [
    {
     "name": "stdout",
     "output_type": "stream",
     "text": [
      "\n",
      "Today's temperature is 16, with a high of\n",
      "18 and a low of 13.\n",
      "    \n"
     ]
    }
   ],
   "source": [
    "describe_temperatures_celsius(data['main'])"
   ]
  },
  {
   "cell_type": "code",
   "execution_count": 47,
   "metadata": {},
   "outputs": [
    {
     "data": {
      "text/plain": [
       "4"
      ]
     },
     "execution_count": 47,
     "metadata": {},
     "output_type": "execute_result"
    }
   ],
   "source": [
    "2 + 2"
   ]
  },
  {
   "cell_type": "code",
   "execution_count": 48,
   "metadata": {},
   "outputs": [
    {
     "name": "stdout",
     "output_type": "stream",
     "text": [
      "https://swapi.dev/api/people/1\n"
     ]
    }
   ],
   "source": [
    "import requests # We use this to make requests from web services\n",
    "import json     # Converts JSON into Python data structures\n",
    "\n",
    "base_url = \"https://swapi.dev/api/\"\n",
    "resource = \"people/1\"\n",
    "\n",
    "# Form the request URL\n",
    "request_url = f\"{base_url}{resource}\"\n",
    "print(request_url)"
   ]
  },
  {
   "cell_type": "code",
   "execution_count": 56,
   "metadata": {},
   "outputs": [
    {
     "name": "stdout",
     "output_type": "stream",
     "text": [
      "{'name': 'Luke Skywalker', 'height': '172', 'mass': '77', 'hair_color': 'blond', 'skin_color': 'fair', 'eye_color': 'blue', 'birth_year': '19BBY', 'gender': 'male', 'homeworld': 'http://swapi.dev/api/planets/1/', 'films': ['http://swapi.dev/api/films/1/', 'http://swapi.dev/api/films/2/', 'http://swapi.dev/api/films/3/', 'http://swapi.dev/api/films/6/'], 'species': [], 'vehicles': ['http://swapi.dev/api/vehicles/14/', 'http://swapi.dev/api/vehicles/30/'], 'starships': ['http://swapi.dev/api/starships/12/', 'http://swapi.dev/api/starships/22/'], 'created': '2014-12-09T13:50:51.644000Z', 'edited': '2014-12-20T21:17:56.891000Z', 'url': 'http://swapi.dev/api/people/1/'}\n"
     ]
    }
   ],
   "source": [
    "# Make the request to server\n",
    "response = requests.get(request_url)\n",
    "\n",
    "if response.status_code == 200:\n",
    "    # Successfully got info from server!\n",
    "    data = response.json()\n",
    "    print(data)\n",
    "    \n",
    "else:\n",
    "    print(f\"Technical trouble: {response.status_code}\")"
   ]
  },
  {
   "cell_type": "code",
   "execution_count": 57,
   "metadata": {},
   "outputs": [
    {
     "data": {
      "text/plain": [
       "'Luke Skywalker'"
      ]
     },
     "execution_count": 57,
     "metadata": {},
     "output_type": "execute_result"
    }
   ],
   "source": [
    "data['name']"
   ]
  },
  {
   "cell_type": "code",
   "execution_count": 58,
   "metadata": {},
   "outputs": [
    {
     "data": {
      "text/plain": [
       "'19BBY'"
      ]
     },
     "execution_count": 58,
     "metadata": {},
     "output_type": "execute_result"
    }
   ],
   "source": [
    "data['birth_year']"
   ]
  },
  {
   "cell_type": "code",
   "execution_count": 59,
   "metadata": {},
   "outputs": [
    {
     "data": {
      "text/plain": [
       "['http://swapi.dev/api/vehicles/14/', 'http://swapi.dev/api/vehicles/30/']"
      ]
     },
     "execution_count": 59,
     "metadata": {},
     "output_type": "execute_result"
    }
   ],
   "source": [
    "data['vehicles']"
   ]
  },
  {
   "cell_type": "code",
   "execution_count": 60,
   "metadata": {},
   "outputs": [
    {
     "data": {
      "text/plain": [
       "['http://swapi.dev/api/films/1/',\n",
       " 'http://swapi.dev/api/films/2/',\n",
       " 'http://swapi.dev/api/films/3/',\n",
       " 'http://swapi.dev/api/films/6/']"
      ]
     },
     "execution_count": 60,
     "metadata": {},
     "output_type": "execute_result"
    }
   ],
   "source": [
    "data['films']"
   ]
  },
  {
   "cell_type": "code",
   "execution_count": 61,
   "metadata": {},
   "outputs": [],
   "source": [
    "import requests # We use this to make requests from web services\n",
    "import json     # Converts JSON into Python data structures\n",
    "\n",
    "def get_api(url):\n",
    "    # Make the request to server\n",
    "    response = requests.get(url)\n",
    "\n",
    "    if response.status_code == 200:\n",
    "        # Successfully got info from server!\n",
    "        # Return that data.\n",
    "        return response.json()\n",
    "    else:\n",
    "        # Failed to get data from server\n",
    "        return None"
   ]
  },
  {
   "cell_type": "code",
   "execution_count": 63,
   "metadata": {},
   "outputs": [],
   "source": [
    "movie_data = get_api(\"http://swapi.dev/api/films/6/\")"
   ]
  },
  {
   "cell_type": "code",
   "execution_count": 64,
   "metadata": {},
   "outputs": [
    {
     "data": {
      "text/plain": [
       "{'title': 'Revenge of the Sith',\n",
       " 'episode_id': 3,\n",
       " 'opening_crawl': 'War! The Republic is crumbling\\r\\nunder attacks by the ruthless\\r\\nSith Lord, Count Dooku.\\r\\nThere are heroes on both sides.\\r\\nEvil is everywhere.\\r\\n\\r\\nIn a stunning move, the\\r\\nfiendish droid leader, General\\r\\nGrievous, has swept into the\\r\\nRepublic capital and kidnapped\\r\\nChancellor Palpatine, leader of\\r\\nthe Galactic Senate.\\r\\n\\r\\nAs the Separatist Droid Army\\r\\nattempts to flee the besieged\\r\\ncapital with their valuable\\r\\nhostage, two Jedi Knights lead a\\r\\ndesperate mission to rescue the\\r\\ncaptive Chancellor....',\n",
       " 'director': 'George Lucas',\n",
       " 'producer': 'Rick McCallum',\n",
       " 'release_date': '2005-05-19',\n",
       " 'characters': ['http://swapi.dev/api/people/1/',\n",
       "  'http://swapi.dev/api/people/2/',\n",
       "  'http://swapi.dev/api/people/3/',\n",
       "  'http://swapi.dev/api/people/4/',\n",
       "  'http://swapi.dev/api/people/5/',\n",
       "  'http://swapi.dev/api/people/6/',\n",
       "  'http://swapi.dev/api/people/7/',\n",
       "  'http://swapi.dev/api/people/10/',\n",
       "  'http://swapi.dev/api/people/11/',\n",
       "  'http://swapi.dev/api/people/12/',\n",
       "  'http://swapi.dev/api/people/13/',\n",
       "  'http://swapi.dev/api/people/20/',\n",
       "  'http://swapi.dev/api/people/21/',\n",
       "  'http://swapi.dev/api/people/33/',\n",
       "  'http://swapi.dev/api/people/35/',\n",
       "  'http://swapi.dev/api/people/46/',\n",
       "  'http://swapi.dev/api/people/51/',\n",
       "  'http://swapi.dev/api/people/52/',\n",
       "  'http://swapi.dev/api/people/53/',\n",
       "  'http://swapi.dev/api/people/54/',\n",
       "  'http://swapi.dev/api/people/55/',\n",
       "  'http://swapi.dev/api/people/56/',\n",
       "  'http://swapi.dev/api/people/58/',\n",
       "  'http://swapi.dev/api/people/63/',\n",
       "  'http://swapi.dev/api/people/64/',\n",
       "  'http://swapi.dev/api/people/67/',\n",
       "  'http://swapi.dev/api/people/68/',\n",
       "  'http://swapi.dev/api/people/75/',\n",
       "  'http://swapi.dev/api/people/78/',\n",
       "  'http://swapi.dev/api/people/79/',\n",
       "  'http://swapi.dev/api/people/80/',\n",
       "  'http://swapi.dev/api/people/81/',\n",
       "  'http://swapi.dev/api/people/82/',\n",
       "  'http://swapi.dev/api/people/83/'],\n",
       " 'planets': ['http://swapi.dev/api/planets/1/',\n",
       "  'http://swapi.dev/api/planets/2/',\n",
       "  'http://swapi.dev/api/planets/5/',\n",
       "  'http://swapi.dev/api/planets/8/',\n",
       "  'http://swapi.dev/api/planets/9/',\n",
       "  'http://swapi.dev/api/planets/12/',\n",
       "  'http://swapi.dev/api/planets/13/',\n",
       "  'http://swapi.dev/api/planets/14/',\n",
       "  'http://swapi.dev/api/planets/15/',\n",
       "  'http://swapi.dev/api/planets/16/',\n",
       "  'http://swapi.dev/api/planets/17/',\n",
       "  'http://swapi.dev/api/planets/18/',\n",
       "  'http://swapi.dev/api/planets/19/'],\n",
       " 'starships': ['http://swapi.dev/api/starships/2/',\n",
       "  'http://swapi.dev/api/starships/32/',\n",
       "  'http://swapi.dev/api/starships/48/',\n",
       "  'http://swapi.dev/api/starships/59/',\n",
       "  'http://swapi.dev/api/starships/61/',\n",
       "  'http://swapi.dev/api/starships/63/',\n",
       "  'http://swapi.dev/api/starships/64/',\n",
       "  'http://swapi.dev/api/starships/65/',\n",
       "  'http://swapi.dev/api/starships/66/',\n",
       "  'http://swapi.dev/api/starships/68/',\n",
       "  'http://swapi.dev/api/starships/74/',\n",
       "  'http://swapi.dev/api/starships/75/'],\n",
       " 'vehicles': ['http://swapi.dev/api/vehicles/33/',\n",
       "  'http://swapi.dev/api/vehicles/50/',\n",
       "  'http://swapi.dev/api/vehicles/53/',\n",
       "  'http://swapi.dev/api/vehicles/56/',\n",
       "  'http://swapi.dev/api/vehicles/60/',\n",
       "  'http://swapi.dev/api/vehicles/62/',\n",
       "  'http://swapi.dev/api/vehicles/67/',\n",
       "  'http://swapi.dev/api/vehicles/69/',\n",
       "  'http://swapi.dev/api/vehicles/70/',\n",
       "  'http://swapi.dev/api/vehicles/71/',\n",
       "  'http://swapi.dev/api/vehicles/72/',\n",
       "  'http://swapi.dev/api/vehicles/73/',\n",
       "  'http://swapi.dev/api/vehicles/76/'],\n",
       " 'species': ['http://swapi.dev/api/species/1/',\n",
       "  'http://swapi.dev/api/species/2/',\n",
       "  'http://swapi.dev/api/species/3/',\n",
       "  'http://swapi.dev/api/species/6/',\n",
       "  'http://swapi.dev/api/species/15/',\n",
       "  'http://swapi.dev/api/species/19/',\n",
       "  'http://swapi.dev/api/species/20/',\n",
       "  'http://swapi.dev/api/species/23/',\n",
       "  'http://swapi.dev/api/species/24/',\n",
       "  'http://swapi.dev/api/species/25/',\n",
       "  'http://swapi.dev/api/species/26/',\n",
       "  'http://swapi.dev/api/species/27/',\n",
       "  'http://swapi.dev/api/species/28/',\n",
       "  'http://swapi.dev/api/species/29/',\n",
       "  'http://swapi.dev/api/species/30/',\n",
       "  'http://swapi.dev/api/species/33/',\n",
       "  'http://swapi.dev/api/species/34/',\n",
       "  'http://swapi.dev/api/species/35/',\n",
       "  'http://swapi.dev/api/species/36/',\n",
       "  'http://swapi.dev/api/species/37/'],\n",
       " 'created': '2014-12-20T18:49:38.403000Z',\n",
       " 'edited': '2014-12-20T20:47:52.073000Z',\n",
       " 'url': 'http://swapi.dev/api/films/6/'}"
      ]
     },
     "execution_count": 64,
     "metadata": {},
     "output_type": "execute_result"
    }
   ],
   "source": [
    "movie_data"
   ]
  },
  {
   "cell_type": "code",
   "execution_count": 65,
   "metadata": {},
   "outputs": [
    {
     "data": {
      "text/plain": [
       "['http://swapi.dev/api/people/1/',\n",
       " 'http://swapi.dev/api/people/2/',\n",
       " 'http://swapi.dev/api/people/3/',\n",
       " 'http://swapi.dev/api/people/4/',\n",
       " 'http://swapi.dev/api/people/5/',\n",
       " 'http://swapi.dev/api/people/6/',\n",
       " 'http://swapi.dev/api/people/7/',\n",
       " 'http://swapi.dev/api/people/10/',\n",
       " 'http://swapi.dev/api/people/11/',\n",
       " 'http://swapi.dev/api/people/12/',\n",
       " 'http://swapi.dev/api/people/13/',\n",
       " 'http://swapi.dev/api/people/20/',\n",
       " 'http://swapi.dev/api/people/21/',\n",
       " 'http://swapi.dev/api/people/33/',\n",
       " 'http://swapi.dev/api/people/35/',\n",
       " 'http://swapi.dev/api/people/46/',\n",
       " 'http://swapi.dev/api/people/51/',\n",
       " 'http://swapi.dev/api/people/52/',\n",
       " 'http://swapi.dev/api/people/53/',\n",
       " 'http://swapi.dev/api/people/54/',\n",
       " 'http://swapi.dev/api/people/55/',\n",
       " 'http://swapi.dev/api/people/56/',\n",
       " 'http://swapi.dev/api/people/58/',\n",
       " 'http://swapi.dev/api/people/63/',\n",
       " 'http://swapi.dev/api/people/64/',\n",
       " 'http://swapi.dev/api/people/67/',\n",
       " 'http://swapi.dev/api/people/68/',\n",
       " 'http://swapi.dev/api/people/75/',\n",
       " 'http://swapi.dev/api/people/78/',\n",
       " 'http://swapi.dev/api/people/79/',\n",
       " 'http://swapi.dev/api/people/80/',\n",
       " 'http://swapi.dev/api/people/81/',\n",
       " 'http://swapi.dev/api/people/82/',\n",
       " 'http://swapi.dev/api/people/83/']"
      ]
     },
     "execution_count": 65,
     "metadata": {},
     "output_type": "execute_result"
    }
   ],
   "source": [
    "movie_data[\"characters\"]"
   ]
  },
  {
   "cell_type": "code",
   "execution_count": 66,
   "metadata": {},
   "outputs": [
    {
     "data": {
      "text/plain": [
       "'http://swapi.dev/api/people/5/'"
      ]
     },
     "execution_count": 66,
     "metadata": {},
     "output_type": "execute_result"
    }
   ],
   "source": [
    "movie_data[\"characters\"][4]"
   ]
  },
  {
   "cell_type": "code",
   "execution_count": 67,
   "metadata": {},
   "outputs": [],
   "source": [
    "character = get_api(movie_data[\"characters\"][4])"
   ]
  },
  {
   "cell_type": "code",
   "execution_count": 68,
   "metadata": {},
   "outputs": [
    {
     "data": {
      "text/plain": [
       "{'name': 'Leia Organa',\n",
       " 'height': '150',\n",
       " 'mass': '49',\n",
       " 'hair_color': 'brown',\n",
       " 'skin_color': 'light',\n",
       " 'eye_color': 'brown',\n",
       " 'birth_year': '19BBY',\n",
       " 'gender': 'female',\n",
       " 'homeworld': 'http://swapi.dev/api/planets/2/',\n",
       " 'films': ['http://swapi.dev/api/films/1/',\n",
       "  'http://swapi.dev/api/films/2/',\n",
       "  'http://swapi.dev/api/films/3/',\n",
       "  'http://swapi.dev/api/films/6/'],\n",
       " 'species': [],\n",
       " 'vehicles': ['http://swapi.dev/api/vehicles/30/'],\n",
       " 'starships': [],\n",
       " 'created': '2014-12-10T15:20:09.791000Z',\n",
       " 'edited': '2014-12-20T21:17:50.315000Z',\n",
       " 'url': 'http://swapi.dev/api/people/5/'}"
      ]
     },
     "execution_count": 68,
     "metadata": {},
     "output_type": "execute_result"
    }
   ],
   "source": [
    "character"
   ]
  },
  {
   "cell_type": "code",
   "execution_count": 69,
   "metadata": {},
   "outputs": [],
   "source": [
    "leia_homeworld = get_api(character[\"homeworld\"])"
   ]
  },
  {
   "cell_type": "code",
   "execution_count": 70,
   "metadata": {},
   "outputs": [
    {
     "data": {
      "text/plain": [
       "{'name': 'Alderaan',\n",
       " 'rotation_period': '24',\n",
       " 'orbital_period': '364',\n",
       " 'diameter': '12500',\n",
       " 'climate': 'temperate',\n",
       " 'gravity': '1 standard',\n",
       " 'terrain': 'grasslands, mountains',\n",
       " 'surface_water': '40',\n",
       " 'population': '2000000000',\n",
       " 'residents': ['http://swapi.dev/api/people/5/',\n",
       "  'http://swapi.dev/api/people/68/',\n",
       "  'http://swapi.dev/api/people/81/'],\n",
       " 'films': ['http://swapi.dev/api/films/1/', 'http://swapi.dev/api/films/6/'],\n",
       " 'created': '2014-12-10T11:35:48.479000Z',\n",
       " 'edited': '2014-12-20T20:58:18.420000Z',\n",
       " 'url': 'http://swapi.dev/api/planets/2/'}"
      ]
     },
     "execution_count": 70,
     "metadata": {},
     "output_type": "execute_result"
    }
   ],
   "source": [
    "leia_homeworld"
   ]
  },
  {
   "cell_type": "code",
   "execution_count": 72,
   "metadata": {},
   "outputs": [
    {
     "name": "stdout",
     "output_type": "stream",
     "text": [
      "{'name': 'Leia Organa', 'height': '150', 'mass': '49', 'hair_color': 'brown', 'skin_color': 'light', 'eye_color': 'brown', 'birth_year': '19BBY', 'gender': 'female', 'homeworld': 'http://swapi.dev/api/planets/2/', 'films': ['http://swapi.dev/api/films/1/', 'http://swapi.dev/api/films/2/', 'http://swapi.dev/api/films/3/', 'http://swapi.dev/api/films/6/'], 'species': [], 'vehicles': ['http://swapi.dev/api/vehicles/30/'], 'starships': [], 'created': '2014-12-10T15:20:09.791000Z', 'edited': '2014-12-20T21:17:50.315000Z', 'url': 'http://swapi.dev/api/people/5/'}\n",
      "{'name': 'Bail Prestor Organa', 'height': '191', 'mass': 'unknown', 'hair_color': 'black', 'skin_color': 'tan', 'eye_color': 'brown', 'birth_year': '67BBY', 'gender': 'male', 'homeworld': 'http://swapi.dev/api/planets/2/', 'films': ['http://swapi.dev/api/films/5/', 'http://swapi.dev/api/films/6/'], 'species': ['http://swapi.dev/api/species/1/'], 'vehicles': [], 'starships': [], 'created': '2014-12-20T16:53:08.575000Z', 'edited': '2014-12-20T21:17:50.463000Z', 'url': 'http://swapi.dev/api/people/68/'}\n",
      "{'name': 'Raymus Antilles', 'height': '188', 'mass': '79', 'hair_color': 'brown', 'skin_color': 'light', 'eye_color': 'brown', 'birth_year': 'unknown', 'gender': 'male', 'homeworld': 'http://swapi.dev/api/planets/2/', 'films': ['http://swapi.dev/api/films/1/', 'http://swapi.dev/api/films/6/'], 'species': [], 'vehicles': [], 'starships': [], 'created': '2014-12-20T19:49:35.583000Z', 'edited': '2014-12-20T21:17:50.493000Z', 'url': 'http://swapi.dev/api/people/81/'}\n"
     ]
    }
   ],
   "source": [
    "residents = leia_homeworld[\"residents\"]\n",
    "\n",
    "for resident in residents:\n",
    "    print(get_api(resident))"
   ]
  },
  {
   "cell_type": "code",
   "execution_count": 73,
   "metadata": {},
   "outputs": [],
   "source": [
    "def get_text(url):\n",
    "    # Make the request to server\n",
    "    response = requests.get(url)\n",
    "\n",
    "    if response.status_code == 200:\n",
    "        # Successfully got info from server!\n",
    "        # Return that data.\n",
    "        return response.text\n",
    "    else:\n",
    "        # Failed to get data from server\n",
    "        return None"
   ]
  },
  {
   "cell_type": "code",
   "execution_count": 75,
   "metadata": {},
   "outputs": [],
   "source": [
    "cc_text = get_text(\"https://www.computercoach.com/\")"
   ]
  },
  {
   "cell_type": "code",
   "execution_count": 76,
   "metadata": {},
   "outputs": [
    {
     "data": {
      "text/plain": [
       "461"
      ]
     },
     "execution_count": 76,
     "metadata": {},
     "output_type": "execute_result"
    }
   ],
   "source": [
    "cc_text.find(\"Training\")"
   ]
  },
  {
   "cell_type": "code",
   "execution_count": 78,
   "metadata": {},
   "outputs": [
    {
     "data": {
      "text/plain": [
       "'Training Classes Ta'"
      ]
     },
     "execution_count": 78,
     "metadata": {},
     "output_type": "execute_result"
    }
   ],
   "source": [
    "cc_text[461:480]"
   ]
  },
  {
   "cell_type": "code",
   "execution_count": null,
   "metadata": {},
   "outputs": [],
   "source": []
  }
 ],
 "metadata": {
  "kernelspec": {
   "display_name": "Python 3",
   "language": "python",
   "name": "python3"
  },
  "language_info": {
   "codemirror_mode": {
    "name": "ipython",
    "version": 3
   },
   "file_extension": ".py",
   "mimetype": "text/x-python",
   "name": "python",
   "nbconvert_exporter": "python",
   "pygments_lexer": "ipython3",
   "version": "3.8.3"
  }
 },
 "nbformat": 4,
 "nbformat_minor": 4
}
