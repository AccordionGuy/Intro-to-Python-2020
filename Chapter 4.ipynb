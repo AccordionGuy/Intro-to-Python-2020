{
 "cells": [
  {
   "cell_type": "markdown",
   "metadata": {},
   "source": [
    "# Chapter 4"
   ]
  },
  {
   "cell_type": "markdown",
   "metadata": {},
   "source": [
    "## Looping through an entire list"
   ]
  },
  {
   "cell_type": "code",
   "execution_count": 99,
   "metadata": {},
   "outputs": [
    {
     "name": "stdout",
     "output_type": "stream",
     "text": [
      "Hey, let's paint the house tan!\n",
      "Hey, let's paint the house dark olive green!\n",
      "Hey, let's paint the house coral!\n",
      "Hey, let's paint the house blue!\n",
      "Hey, let's paint the house crimson!\n"
     ]
    }
   ],
   "source": [
    "color_names = ['tan', 'dark olive green', 'coral', 'blue', 'crimson']\n",
    "for color_name in color_names:\n",
    "    print(f\"Hey, let's paint the house {color_name}!\")"
   ]
  },
  {
   "cell_type": "markdown",
   "metadata": {},
   "source": [
    "## Doing more work within a `for` loop"
   ]
  },
  {
   "cell_type": "code",
   "execution_count": 100,
   "metadata": {},
   "outputs": [
    {
     "name": "stdout",
     "output_type": "stream",
     "text": [
      "Hey, let's paint the house tan!\n",
      "  (Did you know that tan is 3 characters long?)\n",
      "Hey, let's paint the house dark olive green!\n",
      "  (Did you know that dark olive green is 16 characters long?)\n",
      "Hey, let's paint the house coral!\n",
      "  (Did you know that coral is 5 characters long?)\n",
      "Hey, let's paint the house blue!\n",
      "  (Did you know that blue is 4 characters long?)\n",
      "Hey, let's paint the house crimson!\n",
      "  (Did you know that crimson is 7 characters long?)\n"
     ]
    }
   ],
   "source": [
    "for color_name in color_names:\n",
    "    print(f\"Hey, let's paint the house {color_name}!\")\n",
    "    name_length = len(color_name)\n",
    "    print(f\"  (Did you know that {color_name} is {name_length} characters long?)\")"
   ]
  },
  {
   "cell_type": "markdown",
   "metadata": {},
   "source": [
    "## Doing something after a `for` loop"
   ]
  },
  {
   "cell_type": "code",
   "execution_count": 101,
   "metadata": {},
   "outputs": [
    {
     "name": "stdout",
     "output_type": "stream",
     "text": [
      "Hey, let's paint the house tan!\n",
      "  (Did you know that tan is 3 characters long?)\n",
      "Hey, let's paint the house dark olive green!\n",
      "  (Did you know that dark olive green is 16 characters long?)\n",
      "Hey, let's paint the house coral!\n",
      "  (Did you know that coral is 5 characters long?)\n",
      "Hey, let's paint the house blue!\n",
      "  (Did you know that blue is 4 characters long?)\n",
      "Hey, let's paint the house crimson!\n",
      "  (Did you know that crimson is 7 characters long?)\n",
      "That was an interesting exercise.\n"
     ]
    }
   ],
   "source": [
    "for color_name in color_names:\n",
    "    print(f\"Hey, let's paint the house {color_name}!\")\n",
    "    name_length = len(color_name)\n",
    "    print(f\"  (Did you know that {color_name} is {name_length} characters long?)\")\n",
    "print('That was an interesting exercise.')"
   ]
  },
  {
   "cell_type": "markdown",
   "metadata": {},
   "source": [
    "## Using the `range()` function"
   ]
  },
  {
   "cell_type": "code",
   "execution_count": 102,
   "metadata": {},
   "outputs": [
    {
     "name": "stdout",
     "output_type": "stream",
     "text": [
      "1\n",
      "2\n",
      "3\n",
      "4\n",
      "5\n",
      "6\n",
      "7\n",
      "8\n",
      "9\n"
     ]
    }
   ],
   "source": [
    "for number in range(1, 10):\n",
    "    print(number)"
   ]
  },
  {
   "cell_type": "markdown",
   "metadata": {},
   "source": [
    "## Using `range()` to make a list of numbers"
   ]
  },
  {
   "cell_type": "code",
   "execution_count": 103,
   "metadata": {},
   "outputs": [
    {
     "name": "stdout",
     "output_type": "stream",
     "text": [
      "range(1, 10)\n"
     ]
    }
   ],
   "source": [
    "print(range(1, 10))"
   ]
  },
  {
   "cell_type": "code",
   "execution_count": 104,
   "metadata": {},
   "outputs": [
    {
     "name": "stdout",
     "output_type": "stream",
     "text": [
      "[1, 2, 3, 4, 5, 6, 7, 8, 9]\n"
     ]
    }
   ],
   "source": [
    "numbers = list(range(1, 10))\n",
    "print(numbers)"
   ]
  },
  {
   "cell_type": "code",
   "execution_count": 105,
   "metadata": {},
   "outputs": [
    {
     "name": "stdout",
     "output_type": "stream",
     "text": [
      "[1, 3, 5, 7, 9]\n"
     ]
    }
   ],
   "source": [
    "odd_numbers = list(range(1, 10, 2))\n",
    "print(odd_numbers)"
   ]
  },
  {
   "cell_type": "code",
   "execution_count": 106,
   "metadata": {},
   "outputs": [
    {
     "name": "stdout",
     "output_type": "stream",
     "text": [
      "[0.2, 0.4, 0.6000000000000001, 0.8, 1.0, 1.2000000000000002, 1.4000000000000001, 1.6, 1.8, 2.0]\n"
     ]
    }
   ],
   "source": [
    "tip_amounts = []\n",
    "for value in range(1, 11):\n",
    "    tip_amount = value * 0.2\n",
    "    tip_amounts.append(tip_amount)\n",
    "print(tip_amounts)"
   ]
  },
  {
   "cell_type": "markdown",
   "metadata": {},
   "source": [
    "## Simple statistics with a list of numbers"
   ]
  },
  {
   "cell_type": "code",
   "execution_count": 107,
   "metadata": {},
   "outputs": [
    {
     "name": "stdout",
     "output_type": "stream",
     "text": [
      "The smallest of the numbers is: 4.\n",
      "The largest value of the numbers is: 42.\n",
      "The sum of the numbers is 108.\n"
     ]
    }
   ],
   "source": [
    "the_numbers = [4, 8, 15, 16, 23, 42]\n",
    "print(f\"The smallest of the numbers is: {min(the_numbers)}.\")\n",
    "print(f\"The largest value of the numbers is: {max(the_numbers)}.\")\n",
    "print(f\"The sum of the numbers is {sum(the_numbers)}.\")"
   ]
  },
  {
   "cell_type": "code",
   "execution_count": 108,
   "metadata": {},
   "outputs": [
    {
     "name": "stdout",
     "output_type": "stream",
     "text": [
      "[0.2, 0.4, 0.6000000000000001, 0.8, 1.0, 1.2000000000000002, 1.4000000000000001, 1.6, 1.8, 2.0]\n"
     ]
    }
   ],
   "source": [
    "tip_amounts = [value * 0.2 for value in range(1, 11)]\n",
    "print(tip_amounts)"
   ]
  },
  {
   "cell_type": "markdown",
   "metadata": {},
   "source": [
    "## Slicing a list"
   ]
  },
  {
   "cell_type": "code",
   "execution_count": 109,
   "metadata": {},
   "outputs": [
    {
     "name": "stdout",
     "output_type": "stream",
     "text": [
      "['ARM assembly', 'Basic', 'C']\n"
     ]
    }
   ],
   "source": [
    "languages = ['ARM assembly', 'Basic', 'C', 'Dart', 'Erlang', 'F#', 'Go', 'Haskell']\n",
    "first_three_languages = languages[0:3]\n",
    "print(first_three_languages)"
   ]
  },
  {
   "cell_type": "code",
   "execution_count": 110,
   "metadata": {},
   "outputs": [
    {
     "name": "stdout",
     "output_type": "stream",
     "text": [
      "['Dart', 'Erlang']\n"
     ]
    }
   ],
   "source": [
    "print(languages[3:5])"
   ]
  },
  {
   "cell_type": "code",
   "execution_count": 111,
   "metadata": {},
   "outputs": [
    {
     "name": "stdout",
     "output_type": "stream",
     "text": [
      "['ARM assembly', 'Basic', 'C']\n"
     ]
    }
   ],
   "source": [
    "print(languages[:3])"
   ]
  },
  {
   "cell_type": "code",
   "execution_count": 112,
   "metadata": {},
   "outputs": [
    {
     "name": "stdout",
     "output_type": "stream",
     "text": [
      "[]\n"
     ]
    }
   ],
   "source": [
    "print(languages[9:12])"
   ]
  },
  {
   "cell_type": "code",
   "execution_count": 113,
   "metadata": {},
   "outputs": [
    {
     "name": "stdout",
     "output_type": "stream",
     "text": [
      "['Erlang', 'F#', 'Go', 'Haskell']\n"
     ]
    }
   ],
   "source": [
    "print(languages[-4:])"
   ]
  },
  {
   "cell_type": "markdown",
   "metadata": {},
   "source": [
    "## Looping through a slice"
   ]
  },
  {
   "cell_type": "code",
   "execution_count": 114,
   "metadata": {},
   "outputs": [
    {
     "name": "stdout",
     "output_type": "stream",
     "text": [
      "I want to learn how to program in C.\n",
      "I want to learn how to program in Dart.\n",
      "I want to learn how to program in Erlang.\n",
      "I want to learn how to program in F#.\n"
     ]
    }
   ],
   "source": [
    "for language in languages[2:6]:\n",
    "    print(f\"I want to learn how to program in {language}.\")"
   ]
  },
  {
   "cell_type": "markdown",
   "metadata": {},
   "source": [
    "## Copying a list\n",
    "Let's create a list, `my_flavor_list`, then create another list, `my_other_flavor_list`, based on `my_flavor_list`"
   ]
  },
  {
   "cell_type": "code",
   "execution_count": 115,
   "metadata": {},
   "outputs": [
    {
     "name": "stdout",
     "output_type": "stream",
     "text": [
      "my_flavor_list: ['chocolate', 'vanilla', 'strawberry']\n",
      "my_other_flavor_list: ['chocolate', 'vanilla', 'strawberry']\n"
     ]
    }
   ],
   "source": [
    "my_flavor_list = ['chocolate', 'vanilla', 'strawberry']\n",
    "my_other_flavor_list = my_flavor_list\n",
    "\n",
    "print(f\"my_flavor_list: {my_flavor_list}\")\n",
    "print(f\"my_other_flavor_list: {my_other_flavor_list}\")"
   ]
  },
  {
   "cell_type": "markdown",
   "metadata": {},
   "source": [
    "Let's make a change to `my_flavor_list` and see what happens."
   ]
  },
  {
   "cell_type": "code",
   "execution_count": 116,
   "metadata": {},
   "outputs": [
    {
     "name": "stdout",
     "output_type": "stream",
     "text": [
      "my_flavor_list: ['chocolate', 'vanilla', 'strawberry', 'butter pecan']\n",
      "my_other_flavor_list: ['chocolate', 'vanilla', 'strawberry', 'butter pecan']\n"
     ]
    }
   ],
   "source": [
    "my_flavor_list.append('butter pecan')\n",
    "\n",
    "print(f\"my_flavor_list: {my_flavor_list}\")\n",
    "print(f\"my_other_flavor_list: {my_other_flavor_list}\")"
   ]
  },
  {
   "cell_type": "markdown",
   "metadata": {},
   "source": [
    "Adding butter pecan to `my_flavor_list` also added it to `my_other_flavor_list`! What gives?"
   ]
  },
  {
   "cell_type": "markdown",
   "metadata": {},
   "source": [
    "TODO: Add explanation here"
   ]
  },
  {
   "cell_type": "code",
   "execution_count": 117,
   "metadata": {},
   "outputs": [
    {
     "name": "stdout",
     "output_type": "stream",
     "text": [
      "my_flavor_list: ['chocolate', 'vanilla', 'strawberry', 'butter pecan']\n",
      "separate_flavor_list: ['chocolate', 'vanilla', 'strawberry', 'butter pecan', 'birthday cake']\n"
     ]
    }
   ],
   "source": [
    "separate_flavor_list = my_flavor_list[:]\n",
    "separate_flavor_list.append('birthday cake')\n",
    "\n",
    "print(f\"my_flavor_list: {my_flavor_list}\")\n",
    "print(f\"separate_flavor_list: {separate_flavor_list}\")"
   ]
  },
  {
   "cell_type": "markdown",
   "metadata": {},
   "source": [
    "## Tuples"
   ]
  },
  {
   "cell_type": "markdown",
   "metadata": {},
   "source": [
    "## Defining a tuple"
   ]
  },
  {
   "cell_type": "code",
   "execution_count": 118,
   "metadata": {},
   "outputs": [
    {
     "name": "stdout",
     "output_type": "stream",
     "text": [
      "The width of letter-size paper is 8.5 inches.\n",
      "The height of letter-size paper is 11 inches.\n"
     ]
    }
   ],
   "source": [
    "letter_paper_dimensions = (8.5, 11)\n",
    "\n",
    "print(f\"The width of letter-size paper is {letter_paper_dimensions[0]} inches.\")\n",
    "print(f\"The height of letter-size paper is {letter_paper_dimensions[1]} inches.\")"
   ]
  },
  {
   "cell_type": "markdown",
   "metadata": {},
   "source": [
    "## Looping through all the values in a tuple"
   ]
  },
  {
   "cell_type": "code",
   "execution_count": 119,
   "metadata": {},
   "outputs": [
    {
     "name": "stdout",
     "output_type": "stream",
     "text": [
      "8.5\n",
      "11\n"
     ]
    }
   ],
   "source": [
    "for dimension in letter_paper_dimensions:\n",
    "    print(dimension)"
   ]
  },
  {
   "cell_type": "markdown",
   "metadata": {},
   "source": [
    "## Changing the value of a tuple\n",
    "You can't change any individual value within a tuple..."
   ]
  },
  {
   "cell_type": "code",
   "execution_count": 120,
   "metadata": {},
   "outputs": [],
   "source": [
    "# Uncomment the line below and try running it.\n",
    "# letter_paper_dimensions[0] = 9"
   ]
  },
  {
   "cell_type": "markdown",
   "metadata": {},
   "source": [
    "...but you *can* reassign a different tuple to the same variable:"
   ]
  },
  {
   "cell_type": "code",
   "execution_count": 121,
   "metadata": {},
   "outputs": [],
   "source": [
    "letter_paper_dimensions = (9, 11)"
   ]
  },
  {
   "cell_type": "markdown",
   "metadata": {},
   "source": [
    "# Beyond the book"
   ]
  },
  {
   "cell_type": "markdown",
   "metadata": {},
   "source": [
    "## Copying lists with the `copy()` method"
   ]
  },
  {
   "cell_type": "code",
   "execution_count": 122,
   "metadata": {},
   "outputs": [
    {
     "name": "stdout",
     "output_type": "stream",
     "text": [
      "my_flavor_list: ['chocolate', 'vanilla', 'strawberry', 'butter pecan']\n",
      "another_separate_flavor_list: ['chocolate', 'vanilla', 'strawberry', 'butter pecan', 'lemon sherbet']\n"
     ]
    }
   ],
   "source": [
    "another_separate_flavor_list = my_flavor_list.copy()\n",
    "another_separate_flavor_list.append('lemon sherbet')\n",
    "\n",
    "print(f\"my_flavor_list: {my_flavor_list}\")\n",
    "print(f\"another_separate_flavor_list: {another_separate_flavor_list}\")\n"
   ]
  }
 ],
 "metadata": {
  "kernelspec": {
   "display_name": "Python 3",
   "language": "python",
   "name": "python3"
  },
  "language_info": {
   "codemirror_mode": {
    "name": "ipython",
    "version": 3
   },
   "file_extension": ".py",
   "mimetype": "text/x-python",
   "name": "python",
   "nbconvert_exporter": "python",
   "pygments_lexer": "ipython3",
   "version": "3.7.6"
  }
 },
 "nbformat": 4,
 "nbformat_minor": 4
}
