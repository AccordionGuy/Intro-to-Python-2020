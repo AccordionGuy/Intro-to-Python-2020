{
 "cells": [
  {
   "cell_type": "markdown",
   "metadata": {},
   "source": [
    "# Chapter 4"
   ]
  },
  {
   "cell_type": "markdown",
   "metadata": {},
   "source": [
    "## Looping through an entire list"
   ]
  },
  {
   "cell_type": "code",
   "execution_count": 2,
   "metadata": {},
   "outputs": [
    {
     "name": "stdout",
     "output_type": "stream",
     "text": [
      "Hey, let's paint the house tan!\n",
      "Hey, let's paint the house dark olive green!\n",
      "Hey, let's paint the house coral!\n",
      "Hey, let's paint the house blue!\n",
      "Hey, let's paint the house crimson!\n"
     ]
    }
   ],
   "source": [
    "color_names = ['tan', 'dark olive green', 'coral', 'blue', 'crimson']\n",
    "for color_name in color_names:\n",
    "    print(f\"Hey, let's paint the house {color_name}!\")"
   ]
  },
  {
   "cell_type": "markdown",
   "metadata": {},
   "source": [
    "## Doing more work within a `for` loop"
   ]
  },
  {
   "cell_type": "code",
   "execution_count": 5,
   "metadata": {},
   "outputs": [
    {
     "name": "stdout",
     "output_type": "stream",
     "text": [
      "Hey, let's paint the house tan!\n",
      "  (Did you know that tan is 3 characters long?)\n",
      "Hey, let's paint the house dark olive green!\n",
      "  (Did you know that dark olive green is 16 characters long?)\n",
      "Hey, let's paint the house coral!\n",
      "  (Did you know that coral is 5 characters long?)\n",
      "Hey, let's paint the house blue!\n",
      "  (Did you know that blue is 4 characters long?)\n",
      "Hey, let's paint the house crimson!\n",
      "  (Did you know that crimson is 7 characters long?)\n"
     ]
    }
   ],
   "source": [
    "for color_name in color_names:\n",
    "    print(f\"Hey, let's paint the house {color_name}!\")\n",
    "    name_length = len(color_name)\n",
    "    print(f\"  (Did you know that {color_name} is {name_length} characters long?)\")"
   ]
  },
  {
   "cell_type": "markdown",
   "metadata": {},
   "source": [
    "## Doing something after a `for` loop"
   ]
  },
  {
   "cell_type": "code",
   "execution_count": 6,
   "metadata": {},
   "outputs": [
    {
     "name": "stdout",
     "output_type": "stream",
     "text": [
      "Hey, let's paint the house tan!\n",
      "  (Did you know that tan is 3 characters long?)\n",
      "Hey, let's paint the house dark olive green!\n",
      "  (Did you know that dark olive green is 16 characters long?)\n",
      "Hey, let's paint the house coral!\n",
      "  (Did you know that coral is 5 characters long?)\n",
      "Hey, let's paint the house blue!\n",
      "  (Did you know that blue is 4 characters long?)\n",
      "Hey, let's paint the house crimson!\n",
      "  (Did you know that crimson is 7 characters long?)\n",
      "That was an interesting exercise.\n"
     ]
    }
   ],
   "source": [
    "for color_name in color_names:\n",
    "    print(f\"Hey, let's paint the house {color_name}!\")\n",
    "    name_length = len(color_name)\n",
    "    print(f\"  (Did you know that {color_name} is {name_length} characters long?)\")\n",
    "print('That was an interesting exercise.')"
   ]
  },
  {
   "cell_type": "markdown",
   "metadata": {},
   "source": [
    "## Using the `range()` function"
   ]
  },
  {
   "cell_type": "code",
   "execution_count": 7,
   "metadata": {},
   "outputs": [
    {
     "name": "stdout",
     "output_type": "stream",
     "text": [
      "1\n",
      "2\n",
      "3\n",
      "4\n",
      "5\n",
      "6\n",
      "7\n",
      "8\n",
      "9\n"
     ]
    }
   ],
   "source": [
    "for number in range(1, 10):\n",
    "    print(number)"
   ]
  },
  {
   "cell_type": "markdown",
   "metadata": {},
   "source": [
    "## Using `range()` to make a list of numbers"
   ]
  },
  {
   "cell_type": "code",
   "execution_count": 8,
   "metadata": {},
   "outputs": [
    {
     "name": "stdout",
     "output_type": "stream",
     "text": [
      "range(1, 10)\n"
     ]
    }
   ],
   "source": [
    "print(range(1, 10))"
   ]
  },
  {
   "cell_type": "code",
   "execution_count": 9,
   "metadata": {},
   "outputs": [
    {
     "name": "stdout",
     "output_type": "stream",
     "text": [
      "[1, 2, 3, 4, 5, 6, 7, 8, 9]\n"
     ]
    }
   ],
   "source": [
    "numbers = list(range(1, 10))\n",
    "print(numbers)"
   ]
  },
  {
   "cell_type": "code",
   "execution_count": 10,
   "metadata": {},
   "outputs": [
    {
     "name": "stdout",
     "output_type": "stream",
     "text": [
      "[1, 3, 5, 7, 9]\n"
     ]
    }
   ],
   "source": [
    "odd_numbers = list(range(1, 10, 2))\n",
    "print(odd_numbers)"
   ]
  },
  {
   "cell_type": "code",
   "execution_count": 12,
   "metadata": {},
   "outputs": [
    {
     "name": "stdout",
     "output_type": "stream",
     "text": [
      "[0.2, 0.4, 0.6000000000000001, 0.8, 1.0, 1.2000000000000002, 1.4000000000000001, 1.6, 1.8, 2.0]\n"
     ]
    }
   ],
   "source": [
    "tip_amounts = []\n",
    "for value in range(1, 11):\n",
    "    tip_amount = value * 0.2\n",
    "    tip_amounts.append(tip_amount)\n",
    "print(tip_amounts)"
   ]
  },
  {
   "cell_type": "markdown",
   "metadata": {},
   "source": [
    "## Simple statistics with a list of numbers"
   ]
  },
  {
   "cell_type": "code",
   "execution_count": 15,
   "metadata": {},
   "outputs": [
    {
     "name": "stdout",
     "output_type": "stream",
     "text": [
      "The smallest of the numbers is: 4.\n",
      "The largest value of the numbers is: 42.\n",
      "The sum of the numbers is 108.\n"
     ]
    }
   ],
   "source": [
    "the_numbers = [4, 8, 15, 16, 23, 42]\n",
    "print(f\"The smallest of the numbers is: {min(the_numbers)}.\")\n",
    "print(f\"The largest value of the numbers is: {max(the_numbers)}.\")\n",
    "print(f\"The sum of the numbers is {sum(the_numbers)}.\")"
   ]
  },
  {
   "cell_type": "code",
   "execution_count": 16,
   "metadata": {},
   "outputs": [
    {
     "name": "stdout",
     "output_type": "stream",
     "text": [
      "[0.2, 0.4, 0.6000000000000001, 0.8, 1.0, 1.2000000000000002, 1.4000000000000001, 1.6, 1.8, 2.0]\n"
     ]
    }
   ],
   "source": [
    "tip_amounts = [value * 0.2 for value in range(1, 11)]\n",
    "print(tip_amounts)"
   ]
  },
  {
   "cell_type": "markdown",
   "metadata": {},
   "source": [
    "## Slicing a list"
   ]
  },
  {
   "cell_type": "code",
   "execution_count": null,
   "metadata": {},
   "outputs": [],
   "source": []
  }
 ],
 "metadata": {
  "kernelspec": {
   "display_name": "Python 3",
   "language": "python",
   "name": "python3"
  },
  "language_info": {
   "codemirror_mode": {
    "name": "ipython",
    "version": 3
   },
   "file_extension": ".py",
   "mimetype": "text/x-python",
   "name": "python",
   "nbconvert_exporter": "python",
   "pygments_lexer": "ipython3",
   "version": "3.7.6"
  }
 },
 "nbformat": 4,
 "nbformat_minor": 4
}
